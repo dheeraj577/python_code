{
 "cells": [
  {
   "cell_type": "markdown",
   "metadata": {
    "id": "0KrR-Qd_wXf-"
   },
   "source": [
    "# Introduction"
   ]
  },
  {
   "cell_type": "markdown",
   "metadata": {
    "id": "jqXsMLNJxELp"
   },
   "source": [
    "## Import Statements"
   ]
  },
  {
   "cell_type": "code",
   "execution_count": 65,
   "metadata": {
    "ExecuteTime": {
     "end_time": "2023-07-17T14:04:40.881843200Z",
     "start_time": "2023-07-17T14:04:40.823707900Z"
    },
    "id": "TPhEXC2FxGSr"
   },
   "outputs": [],
   "source": [
    "import numpy as np\n",
    "import pandas as pd\n",
    "import plotly.express as px\n",
    "import matplotlib.pyplot as plt\n",
    "import seaborn as sns\n",
    "\n",
    "# This might be helpful:\n",
    "# from collections import Counter"
   ]
  },
  {
   "cell_type": "markdown",
   "metadata": {
    "id": "SwKGmmaLxS2s"
   },
   "source": [
    "## Notebook Presentation"
   ]
  },
  {
   "cell_type": "code",
   "execution_count": 2,
   "metadata": {
    "ExecuteTime": {
     "end_time": "2023-07-17T14:04:40.883099700Z",
     "start_time": "2023-07-17T14:04:40.839760500Z"
    },
    "id": "ayQQqhKtxBxj"
   },
   "outputs": [],
   "source": [
    "pd.options.display.float_format = '{:,.2f}'.format\n"
   ]
  },
  {
   "cell_type": "markdown",
   "metadata": {
    "id": "nKxJMOiMyAUF"
   },
   "source": [
    "## Load the Data"
   ]
  },
  {
   "cell_type": "code",
   "execution_count": 66,
   "metadata": {
    "ExecuteTime": {
     "end_time": "2023-07-17T14:04:40.977988200Z",
     "start_time": "2023-07-17T14:04:40.856513700Z"
    },
    "_cell_guid": "abb0685f-f844-43f8-84c0-4cd54361c7bf",
    "_uuid": "9c06ed7c41db79ae9d940f2d52aeff23621b3037",
    "id": "8KmGeg6ouRoP"
   },
   "outputs": [],
   "source": [
    "df_fatalities = pd.read_csv('Deaths_by_Police_US.csv', encoding=\"windows-1252\")"
   ]
  },
  {
   "cell_type": "markdown",
   "metadata": {
    "id": "6RuA5SvUyEaB"
   },
   "source": [
    "# Preliminary Data Exploration\n",
    "\n",
    "* What is the shape of the DataFrames? \n",
    "* How many rows and columns do they have?\n",
    "* What are the column names?\n",
    "* Are there any NaN values or duplicates?"
   ]
  },
  {
   "cell_type": "code",
   "execution_count": 4,
   "metadata": {
    "ExecuteTime": {
     "end_time": "2023-07-17T14:04:40.993192300Z",
     "start_time": "2023-07-17T14:04:40.978992100Z"
    },
    "id": "3U9RcS1WyrRJ"
   },
   "outputs": [
    {
     "data": {
      "text/html": [
       "<div>\n",
       "<style scoped>\n",
       "    .dataframe tbody tr th:only-of-type {\n",
       "        vertical-align: middle;\n",
       "    }\n",
       "\n",
       "    .dataframe tbody tr th {\n",
       "        vertical-align: top;\n",
       "    }\n",
       "\n",
       "    .dataframe thead th {\n",
       "        text-align: right;\n",
       "    }\n",
       "</style>\n",
       "<table border=\"1\" class=\"dataframe\">\n",
       "  <thead>\n",
       "    <tr style=\"text-align: right;\">\n",
       "      <th></th>\n",
       "      <th>id</th>\n",
       "      <th>name</th>\n",
       "      <th>date</th>\n",
       "      <th>manner_of_death</th>\n",
       "      <th>armed</th>\n",
       "      <th>age</th>\n",
       "      <th>gender</th>\n",
       "      <th>race</th>\n",
       "      <th>city</th>\n",
       "      <th>state</th>\n",
       "      <th>signs_of_mental_illness</th>\n",
       "      <th>threat_level</th>\n",
       "      <th>flee</th>\n",
       "      <th>body_camera</th>\n",
       "    </tr>\n",
       "  </thead>\n",
       "  <tbody>\n",
       "    <tr>\n",
       "      <th>0</th>\n",
       "      <td>3</td>\n",
       "      <td>Tim Elliot</td>\n",
       "      <td>02/01/15</td>\n",
       "      <td>shot</td>\n",
       "      <td>gun</td>\n",
       "      <td>53.00</td>\n",
       "      <td>M</td>\n",
       "      <td>A</td>\n",
       "      <td>Shelton</td>\n",
       "      <td>WA</td>\n",
       "      <td>True</td>\n",
       "      <td>attack</td>\n",
       "      <td>Not fleeing</td>\n",
       "      <td>False</td>\n",
       "    </tr>\n",
       "    <tr>\n",
       "      <th>1</th>\n",
       "      <td>4</td>\n",
       "      <td>Lewis Lee Lembke</td>\n",
       "      <td>02/01/15</td>\n",
       "      <td>shot</td>\n",
       "      <td>gun</td>\n",
       "      <td>47.00</td>\n",
       "      <td>M</td>\n",
       "      <td>W</td>\n",
       "      <td>Aloha</td>\n",
       "      <td>OR</td>\n",
       "      <td>False</td>\n",
       "      <td>attack</td>\n",
       "      <td>Not fleeing</td>\n",
       "      <td>False</td>\n",
       "    </tr>\n",
       "    <tr>\n",
       "      <th>2</th>\n",
       "      <td>5</td>\n",
       "      <td>John Paul Quintero</td>\n",
       "      <td>03/01/15</td>\n",
       "      <td>shot and Tasered</td>\n",
       "      <td>unarmed</td>\n",
       "      <td>23.00</td>\n",
       "      <td>M</td>\n",
       "      <td>H</td>\n",
       "      <td>Wichita</td>\n",
       "      <td>KS</td>\n",
       "      <td>False</td>\n",
       "      <td>other</td>\n",
       "      <td>Not fleeing</td>\n",
       "      <td>False</td>\n",
       "    </tr>\n",
       "    <tr>\n",
       "      <th>3</th>\n",
       "      <td>8</td>\n",
       "      <td>Matthew Hoffman</td>\n",
       "      <td>04/01/15</td>\n",
       "      <td>shot</td>\n",
       "      <td>toy weapon</td>\n",
       "      <td>32.00</td>\n",
       "      <td>M</td>\n",
       "      <td>W</td>\n",
       "      <td>San Francisco</td>\n",
       "      <td>CA</td>\n",
       "      <td>True</td>\n",
       "      <td>attack</td>\n",
       "      <td>Not fleeing</td>\n",
       "      <td>False</td>\n",
       "    </tr>\n",
       "    <tr>\n",
       "      <th>4</th>\n",
       "      <td>9</td>\n",
       "      <td>Michael Rodriguez</td>\n",
       "      <td>04/01/15</td>\n",
       "      <td>shot</td>\n",
       "      <td>nail gun</td>\n",
       "      <td>39.00</td>\n",
       "      <td>M</td>\n",
       "      <td>H</td>\n",
       "      <td>Evans</td>\n",
       "      <td>CO</td>\n",
       "      <td>False</td>\n",
       "      <td>attack</td>\n",
       "      <td>Not fleeing</td>\n",
       "      <td>False</td>\n",
       "    </tr>\n",
       "  </tbody>\n",
       "</table>\n",
       "</div>"
      ],
      "text/plain": [
       "   id                name      date   manner_of_death       armed   age  \\\n",
       "0   3          Tim Elliot  02/01/15              shot         gun 53.00   \n",
       "1   4    Lewis Lee Lembke  02/01/15              shot         gun 47.00   \n",
       "2   5  John Paul Quintero  03/01/15  shot and Tasered     unarmed 23.00   \n",
       "3   8     Matthew Hoffman  04/01/15              shot  toy weapon 32.00   \n",
       "4   9   Michael Rodriguez  04/01/15              shot    nail gun 39.00   \n",
       "\n",
       "  gender race           city state  signs_of_mental_illness threat_level  \\\n",
       "0      M    A        Shelton    WA                     True       attack   \n",
       "1      M    W          Aloha    OR                    False       attack   \n",
       "2      M    H        Wichita    KS                    False        other   \n",
       "3      M    W  San Francisco    CA                     True       attack   \n",
       "4      M    H          Evans    CO                    False       attack   \n",
       "\n",
       "          flee  body_camera  \n",
       "0  Not fleeing        False  \n",
       "1  Not fleeing        False  \n",
       "2  Not fleeing        False  \n",
       "3  Not fleeing        False  \n",
       "4  Not fleeing        False  "
      ]
     },
     "execution_count": 4,
     "metadata": {},
     "output_type": "execute_result"
    }
   ],
   "source": [
    "df_fatalities.head()"
   ]
  },
  {
   "cell_type": "code",
   "execution_count": 67,
   "metadata": {
    "ExecuteTime": {
     "end_time": "2023-07-17T14:04:41.042420900Z",
     "start_time": "2023-07-17T14:04:40.995805600Z"
    },
    "id": "DmIARadGyrgs"
   },
   "outputs": [
    {
     "name": "stdout",
     "output_type": "stream",
     "text": [
      "shape of fatalities: (2535, 14)\n"
     ]
    }
   ],
   "source": [
    "print(f\"shape of fatalities: {df_fatalities.shape}\")\n"
   ]
  },
  {
   "cell_type": "code",
   "execution_count": 68,
   "metadata": {
    "ExecuteTime": {
     "end_time": "2023-07-17T14:04:41.083907200Z",
     "start_time": "2023-07-17T14:04:41.009394900Z"
    },
    "id": "OSgTJoX7yrcS"
   },
   "outputs": [
    {
     "name": "stdout",
     "output_type": "stream",
     "text": [
      "Column names of fatalities: ['id', 'name', 'date', 'manner_of_death', 'armed', 'age', 'gender', 'race', 'city', 'state', 'signs_of_mental_illness', 'threat_level', 'flee', 'body_camera']\n"
     ]
    }
   ],
   "source": [
    "print(f\"Column names of fatalities: {df_fatalities.columns.tolist()}\")"
   ]
  },
  {
   "cell_type": "code",
   "execution_count": 70,
   "metadata": {
    "ExecuteTime": {
     "end_time": "2023-07-17T14:04:41.162299800Z",
     "start_time": "2023-07-17T14:04:41.025874600Z"
    },
    "collapsed": false
   },
   "outputs": [
    {
     "data": {
      "text/html": [
       "<div>\n",
       "<style scoped>\n",
       "    .dataframe tbody tr th:only-of-type {\n",
       "        vertical-align: middle;\n",
       "    }\n",
       "\n",
       "    .dataframe tbody tr th {\n",
       "        vertical-align: top;\n",
       "    }\n",
       "\n",
       "    .dataframe thead th {\n",
       "        text-align: right;\n",
       "    }\n",
       "</style>\n",
       "<table border=\"1\" class=\"dataframe\">\n",
       "  <thead>\n",
       "    <tr style=\"text-align: right;\">\n",
       "      <th></th>\n",
       "      <th>id</th>\n",
       "      <th>name</th>\n",
       "      <th>date</th>\n",
       "      <th>manner_of_death</th>\n",
       "      <th>armed</th>\n",
       "      <th>age</th>\n",
       "      <th>gender</th>\n",
       "      <th>race</th>\n",
       "      <th>city</th>\n",
       "      <th>state</th>\n",
       "      <th>signs_of_mental_illness</th>\n",
       "      <th>threat_level</th>\n",
       "      <th>flee</th>\n",
       "      <th>body_camera</th>\n",
       "    </tr>\n",
       "  </thead>\n",
       "  <tbody>\n",
       "    <tr>\n",
       "      <th>0</th>\n",
       "      <td>False</td>\n",
       "      <td>False</td>\n",
       "      <td>False</td>\n",
       "      <td>False</td>\n",
       "      <td>False</td>\n",
       "      <td>False</td>\n",
       "      <td>False</td>\n",
       "      <td>False</td>\n",
       "      <td>False</td>\n",
       "      <td>False</td>\n",
       "      <td>False</td>\n",
       "      <td>False</td>\n",
       "      <td>False</td>\n",
       "      <td>False</td>\n",
       "    </tr>\n",
       "    <tr>\n",
       "      <th>1</th>\n",
       "      <td>False</td>\n",
       "      <td>False</td>\n",
       "      <td>False</td>\n",
       "      <td>False</td>\n",
       "      <td>False</td>\n",
       "      <td>False</td>\n",
       "      <td>False</td>\n",
       "      <td>False</td>\n",
       "      <td>False</td>\n",
       "      <td>False</td>\n",
       "      <td>False</td>\n",
       "      <td>False</td>\n",
       "      <td>False</td>\n",
       "      <td>False</td>\n",
       "    </tr>\n",
       "    <tr>\n",
       "      <th>2</th>\n",
       "      <td>False</td>\n",
       "      <td>False</td>\n",
       "      <td>False</td>\n",
       "      <td>False</td>\n",
       "      <td>False</td>\n",
       "      <td>False</td>\n",
       "      <td>False</td>\n",
       "      <td>False</td>\n",
       "      <td>False</td>\n",
       "      <td>False</td>\n",
       "      <td>False</td>\n",
       "      <td>False</td>\n",
       "      <td>False</td>\n",
       "      <td>False</td>\n",
       "    </tr>\n",
       "    <tr>\n",
       "      <th>3</th>\n",
       "      <td>False</td>\n",
       "      <td>False</td>\n",
       "      <td>False</td>\n",
       "      <td>False</td>\n",
       "      <td>False</td>\n",
       "      <td>False</td>\n",
       "      <td>False</td>\n",
       "      <td>False</td>\n",
       "      <td>False</td>\n",
       "      <td>False</td>\n",
       "      <td>False</td>\n",
       "      <td>False</td>\n",
       "      <td>False</td>\n",
       "      <td>False</td>\n",
       "    </tr>\n",
       "    <tr>\n",
       "      <th>4</th>\n",
       "      <td>False</td>\n",
       "      <td>False</td>\n",
       "      <td>False</td>\n",
       "      <td>False</td>\n",
       "      <td>False</td>\n",
       "      <td>False</td>\n",
       "      <td>False</td>\n",
       "      <td>False</td>\n",
       "      <td>False</td>\n",
       "      <td>False</td>\n",
       "      <td>False</td>\n",
       "      <td>False</td>\n",
       "      <td>False</td>\n",
       "      <td>False</td>\n",
       "    </tr>\n",
       "    <tr>\n",
       "      <th>...</th>\n",
       "      <td>...</td>\n",
       "      <td>...</td>\n",
       "      <td>...</td>\n",
       "      <td>...</td>\n",
       "      <td>...</td>\n",
       "      <td>...</td>\n",
       "      <td>...</td>\n",
       "      <td>...</td>\n",
       "      <td>...</td>\n",
       "      <td>...</td>\n",
       "      <td>...</td>\n",
       "      <td>...</td>\n",
       "      <td>...</td>\n",
       "      <td>...</td>\n",
       "    </tr>\n",
       "    <tr>\n",
       "      <th>2530</th>\n",
       "      <td>False</td>\n",
       "      <td>False</td>\n",
       "      <td>False</td>\n",
       "      <td>False</td>\n",
       "      <td>False</td>\n",
       "      <td>False</td>\n",
       "      <td>False</td>\n",
       "      <td>True</td>\n",
       "      <td>False</td>\n",
       "      <td>False</td>\n",
       "      <td>False</td>\n",
       "      <td>False</td>\n",
       "      <td>False</td>\n",
       "      <td>False</td>\n",
       "    </tr>\n",
       "    <tr>\n",
       "      <th>2531</th>\n",
       "      <td>False</td>\n",
       "      <td>False</td>\n",
       "      <td>False</td>\n",
       "      <td>False</td>\n",
       "      <td>False</td>\n",
       "      <td>True</td>\n",
       "      <td>False</td>\n",
       "      <td>True</td>\n",
       "      <td>False</td>\n",
       "      <td>False</td>\n",
       "      <td>False</td>\n",
       "      <td>False</td>\n",
       "      <td>False</td>\n",
       "      <td>False</td>\n",
       "    </tr>\n",
       "    <tr>\n",
       "      <th>2532</th>\n",
       "      <td>False</td>\n",
       "      <td>False</td>\n",
       "      <td>False</td>\n",
       "      <td>False</td>\n",
       "      <td>False</td>\n",
       "      <td>False</td>\n",
       "      <td>False</td>\n",
       "      <td>True</td>\n",
       "      <td>False</td>\n",
       "      <td>False</td>\n",
       "      <td>False</td>\n",
       "      <td>False</td>\n",
       "      <td>False</td>\n",
       "      <td>False</td>\n",
       "    </tr>\n",
       "    <tr>\n",
       "      <th>2533</th>\n",
       "      <td>False</td>\n",
       "      <td>False</td>\n",
       "      <td>False</td>\n",
       "      <td>False</td>\n",
       "      <td>False</td>\n",
       "      <td>False</td>\n",
       "      <td>False</td>\n",
       "      <td>False</td>\n",
       "      <td>False</td>\n",
       "      <td>False</td>\n",
       "      <td>False</td>\n",
       "      <td>False</td>\n",
       "      <td>False</td>\n",
       "      <td>False</td>\n",
       "    </tr>\n",
       "    <tr>\n",
       "      <th>2534</th>\n",
       "      <td>False</td>\n",
       "      <td>False</td>\n",
       "      <td>False</td>\n",
       "      <td>False</td>\n",
       "      <td>False</td>\n",
       "      <td>False</td>\n",
       "      <td>False</td>\n",
       "      <td>False</td>\n",
       "      <td>False</td>\n",
       "      <td>False</td>\n",
       "      <td>False</td>\n",
       "      <td>False</td>\n",
       "      <td>False</td>\n",
       "      <td>False</td>\n",
       "    </tr>\n",
       "  </tbody>\n",
       "</table>\n",
       "<p>2535 rows × 14 columns</p>\n",
       "</div>"
      ],
      "text/plain": [
       "         id   name   date  manner_of_death  armed    age  gender   race  \\\n",
       "0     False  False  False            False  False  False   False  False   \n",
       "1     False  False  False            False  False  False   False  False   \n",
       "2     False  False  False            False  False  False   False  False   \n",
       "3     False  False  False            False  False  False   False  False   \n",
       "4     False  False  False            False  False  False   False  False   \n",
       "...     ...    ...    ...              ...    ...    ...     ...    ...   \n",
       "2530  False  False  False            False  False  False   False   True   \n",
       "2531  False  False  False            False  False   True   False   True   \n",
       "2532  False  False  False            False  False  False   False   True   \n",
       "2533  False  False  False            False  False  False   False  False   \n",
       "2534  False  False  False            False  False  False   False  False   \n",
       "\n",
       "       city  state  signs_of_mental_illness  threat_level   flee  body_camera  \n",
       "0     False  False                    False         False  False        False  \n",
       "1     False  False                    False         False  False        False  \n",
       "2     False  False                    False         False  False        False  \n",
       "3     False  False                    False         False  False        False  \n",
       "4     False  False                    False         False  False        False  \n",
       "...     ...    ...                      ...           ...    ...          ...  \n",
       "2530  False  False                    False         False  False        False  \n",
       "2531  False  False                    False         False  False        False  \n",
       "2532  False  False                    False         False  False        False  \n",
       "2533  False  False                    False         False  False        False  \n",
       "2534  False  False                    False         False  False        False  \n",
       "\n",
       "[2535 rows x 14 columns]"
      ]
     },
     "execution_count": 70,
     "metadata": {},
     "output_type": "execute_result"
    }
   ],
   "source": [
    "df_fatalities.isna()"
   ]
  },
  {
   "cell_type": "code",
   "execution_count": 71,
   "metadata": {
    "ExecuteTime": {
     "end_time": "2023-07-17T14:04:41.406434200Z",
     "start_time": "2023-07-17T14:04:41.228892700Z"
    },
    "collapsed": false
   },
   "outputs": [
    {
     "name": "stdout",
     "output_type": "stream",
     "text": [
      "<class 'pandas.core.frame.DataFrame'>\n",
      "RangeIndex: 2535 entries, 0 to 2534\n",
      "Data columns (total 14 columns):\n",
      " #   Column                   Non-Null Count  Dtype  \n",
      "---  ------                   --------------  -----  \n",
      " 0   id                       2535 non-null   int64  \n",
      " 1   name                     2535 non-null   object \n",
      " 2   date                     2535 non-null   object \n",
      " 3   manner_of_death          2535 non-null   object \n",
      " 4   armed                    2526 non-null   object \n",
      " 5   age                      2458 non-null   float64\n",
      " 6   gender                   2535 non-null   object \n",
      " 7   race                     2340 non-null   object \n",
      " 8   city                     2535 non-null   object \n",
      " 9   state                    2535 non-null   object \n",
      " 10  signs_of_mental_illness  2535 non-null   bool   \n",
      " 11  threat_level             2535 non-null   object \n",
      " 12  flee                     2470 non-null   object \n",
      " 13  body_camera              2535 non-null   bool   \n",
      "dtypes: bool(2), float64(1), int64(1), object(10)\n",
      "memory usage: 242.7+ KB\n"
     ]
    }
   ],
   "source": [
    "df_fatalities.info()"
   ]
  },
  {
   "cell_type": "code",
   "execution_count": 72,
   "metadata": {
    "ExecuteTime": {
     "end_time": "2023-07-17T14:04:41.406434200Z",
     "start_time": "2023-07-17T14:04:41.241708700Z"
    },
    "collapsed": false
   },
   "outputs": [
    {
     "data": {
      "text/plain": [
       "False"
      ]
     },
     "execution_count": 72,
     "metadata": {},
     "output_type": "execute_result"
    }
   ],
   "source": [
    "df_fatalities.duplicated().any()"
   ]
  },
  {
   "cell_type": "code",
   "execution_count": 77,
   "metadata": {
    "ExecuteTime": {
     "end_time": "2023-07-17T14:04:41.605616700Z",
     "start_time": "2023-07-17T14:04:41.322725600Z"
    },
    "collapsed": false
   },
   "outputs": [
    {
     "data": {
      "text/html": [
       "<div>\n",
       "<style scoped>\n",
       "    .dataframe tbody tr th:only-of-type {\n",
       "        vertical-align: middle;\n",
       "    }\n",
       "\n",
       "    .dataframe tbody tr th {\n",
       "        vertical-align: top;\n",
       "    }\n",
       "\n",
       "    .dataframe thead th {\n",
       "        text-align: right;\n",
       "    }\n",
       "</style>\n",
       "<table border=\"1\" class=\"dataframe\">\n",
       "  <thead>\n",
       "    <tr style=\"text-align: right;\">\n",
       "      <th></th>\n",
       "      <th>id</th>\n",
       "      <th>name</th>\n",
       "      <th>date</th>\n",
       "      <th>manner_of_death</th>\n",
       "      <th>armed</th>\n",
       "      <th>age</th>\n",
       "      <th>gender</th>\n",
       "      <th>race</th>\n",
       "      <th>city</th>\n",
       "      <th>state</th>\n",
       "      <th>signs_of_mental_illness</th>\n",
       "      <th>threat_level</th>\n",
       "      <th>flee</th>\n",
       "      <th>body_camera</th>\n",
       "    </tr>\n",
       "  </thead>\n",
       "  <tbody>\n",
       "    <tr>\n",
       "      <th>0</th>\n",
       "      <td>3</td>\n",
       "      <td>Tim Elliot</td>\n",
       "      <td>02/01/15</td>\n",
       "      <td>shot</td>\n",
       "      <td>gun</td>\n",
       "      <td>53.00</td>\n",
       "      <td>M</td>\n",
       "      <td>A</td>\n",
       "      <td>Shelton</td>\n",
       "      <td>WA</td>\n",
       "      <td>True</td>\n",
       "      <td>attack</td>\n",
       "      <td>Not fleeing</td>\n",
       "      <td>False</td>\n",
       "    </tr>\n",
       "    <tr>\n",
       "      <th>1</th>\n",
       "      <td>4</td>\n",
       "      <td>Lewis Lee Lembke</td>\n",
       "      <td>02/01/15</td>\n",
       "      <td>shot</td>\n",
       "      <td>gun</td>\n",
       "      <td>47.00</td>\n",
       "      <td>M</td>\n",
       "      <td>W</td>\n",
       "      <td>Aloha</td>\n",
       "      <td>OR</td>\n",
       "      <td>False</td>\n",
       "      <td>attack</td>\n",
       "      <td>Not fleeing</td>\n",
       "      <td>False</td>\n",
       "    </tr>\n",
       "    <tr>\n",
       "      <th>2</th>\n",
       "      <td>5</td>\n",
       "      <td>John Paul Quintero</td>\n",
       "      <td>03/01/15</td>\n",
       "      <td>shot and Tasered</td>\n",
       "      <td>unarmed</td>\n",
       "      <td>23.00</td>\n",
       "      <td>M</td>\n",
       "      <td>H</td>\n",
       "      <td>Wichita</td>\n",
       "      <td>KS</td>\n",
       "      <td>False</td>\n",
       "      <td>other</td>\n",
       "      <td>Not fleeing</td>\n",
       "      <td>False</td>\n",
       "    </tr>\n",
       "    <tr>\n",
       "      <th>3</th>\n",
       "      <td>8</td>\n",
       "      <td>Matthew Hoffman</td>\n",
       "      <td>04/01/15</td>\n",
       "      <td>shot</td>\n",
       "      <td>toy weapon</td>\n",
       "      <td>32.00</td>\n",
       "      <td>M</td>\n",
       "      <td>W</td>\n",
       "      <td>San Francisco</td>\n",
       "      <td>CA</td>\n",
       "      <td>True</td>\n",
       "      <td>attack</td>\n",
       "      <td>Not fleeing</td>\n",
       "      <td>False</td>\n",
       "    </tr>\n",
       "    <tr>\n",
       "      <th>4</th>\n",
       "      <td>9</td>\n",
       "      <td>Michael Rodriguez</td>\n",
       "      <td>04/01/15</td>\n",
       "      <td>shot</td>\n",
       "      <td>nail gun</td>\n",
       "      <td>39.00</td>\n",
       "      <td>M</td>\n",
       "      <td>H</td>\n",
       "      <td>Evans</td>\n",
       "      <td>CO</td>\n",
       "      <td>False</td>\n",
       "      <td>attack</td>\n",
       "      <td>Not fleeing</td>\n",
       "      <td>False</td>\n",
       "    </tr>\n",
       "  </tbody>\n",
       "</table>\n",
       "</div>"
      ],
      "text/plain": [
       "   id                name      date   manner_of_death       armed   age  \\\n",
       "0   3          Tim Elliot  02/01/15              shot         gun 53.00   \n",
       "1   4    Lewis Lee Lembke  02/01/15              shot         gun 47.00   \n",
       "2   5  John Paul Quintero  03/01/15  shot and Tasered     unarmed 23.00   \n",
       "3   8     Matthew Hoffman  04/01/15              shot  toy weapon 32.00   \n",
       "4   9   Michael Rodriguez  04/01/15              shot    nail gun 39.00   \n",
       "\n",
       "  gender race           city state  signs_of_mental_illness threat_level  \\\n",
       "0      M    A        Shelton    WA                     True       attack   \n",
       "1      M    W          Aloha    OR                    False       attack   \n",
       "2      M    H        Wichita    KS                    False        other   \n",
       "3      M    W  San Francisco    CA                     True       attack   \n",
       "4      M    H          Evans    CO                    False       attack   \n",
       "\n",
       "          flee  body_camera  \n",
       "0  Not fleeing        False  \n",
       "1  Not fleeing        False  \n",
       "2  Not fleeing        False  \n",
       "3  Not fleeing        False  \n",
       "4  Not fleeing        False  "
      ]
     },
     "execution_count": 77,
     "metadata": {},
     "output_type": "execute_result"
    }
   ],
   "source": [
    "df_fatalities.head()"
   ]
  },
  {
   "cell_type": "markdown",
   "metadata": {
    "id": "p72TfMvayr2C"
   },
   "source": [
    "## Data Cleaning - Check for Missing Values and Duplicates\n",
    "\n",
    "Consider how to deal with the NaN values. Perhaps substituting 0 is appropriate. "
   ]
  },
  {
   "cell_type": "code",
   "execution_count": 78,
   "metadata": {
    "ExecuteTime": {
     "end_time": "2023-07-17T14:04:41.639325600Z",
     "start_time": "2023-07-17T14:04:41.366582400Z"
    },
    "id": "550aSczryx01"
   },
   "outputs": [
    {
     "name": "stdout",
     "output_type": "stream",
     "text": [
      "<class 'pandas.core.frame.DataFrame'>\n",
      "Int64Index: 2254 entries, 0 to 2534\n",
      "Data columns (total 14 columns):\n",
      " #   Column                   Non-Null Count  Dtype  \n",
      "---  ------                   --------------  -----  \n",
      " 0   id                       2254 non-null   int64  \n",
      " 1   name                     2254 non-null   object \n",
      " 2   date                     2254 non-null   object \n",
      " 3   manner_of_death          2254 non-null   object \n",
      " 4   armed                    2254 non-null   object \n",
      " 5   age                      2254 non-null   float64\n",
      " 6   gender                   2254 non-null   object \n",
      " 7   race                     2254 non-null   object \n",
      " 8   city                     2254 non-null   object \n",
      " 9   state                    2254 non-null   object \n",
      " 10  signs_of_mental_illness  2254 non-null   bool   \n",
      " 11  threat_level             2254 non-null   object \n",
      " 12  flee                     2254 non-null   object \n",
      " 13  body_camera              2254 non-null   bool   \n",
      "dtypes: bool(2), float64(1), int64(1), object(10)\n",
      "memory usage: 233.3+ KB\n"
     ]
    }
   ],
   "source": [
    "df_fatalities.dropna(inplace=True)\n",
    "df_fatalities.info()"
   ]
  },
  {
   "cell_type": "code",
   "execution_count": 79,
   "metadata": {
    "ExecuteTime": {
     "end_time": "2023-07-17T14:04:41.793063400Z",
     "start_time": "2023-07-17T14:04:41.522952Z"
    },
    "collapsed": false
   },
   "outputs": [
    {
     "name": "stdout",
     "output_type": "stream",
     "text": [
      "<class 'pandas.core.frame.DataFrame'>\n",
      "Int64Index: 2254 entries, 0 to 2534\n",
      "Data columns (total 14 columns):\n",
      " #   Column                   Non-Null Count  Dtype         \n",
      "---  ------                   --------------  -----         \n",
      " 0   id                       2254 non-null   int64         \n",
      " 1   name                     2254 non-null   object        \n",
      " 2   date                     2254 non-null   datetime64[ns]\n",
      " 3   manner_of_death          2254 non-null   object        \n",
      " 4   armed                    2254 non-null   object        \n",
      " 5   age                      2254 non-null   float64       \n",
      " 6   gender                   2254 non-null   object        \n",
      " 7   race                     2254 non-null   object        \n",
      " 8   city                     2254 non-null   object        \n",
      " 9   state                    2254 non-null   object        \n",
      " 10  signs_of_mental_illness  2254 non-null   bool          \n",
      " 11  threat_level             2254 non-null   object        \n",
      " 12  flee                     2254 non-null   object        \n",
      " 13  body_camera              2254 non-null   bool          \n",
      "dtypes: bool(2), datetime64[ns](1), float64(1), int64(1), object(9)\n",
      "memory usage: 233.3+ KB\n"
     ]
    }
   ],
   "source": [
    "df_fatalities['date'] = pd.to_datetime(df_fatalities['date'])\n",
    "df_fatalities.info()"
   ]
  },
  {
   "cell_type": "markdown",
   "metadata": {
    "_uuid": "77493cfd86a031612be8fb8d60f27713e74e6d80",
    "id": "K7xvQXkjuRo7"
   },
   "source": [
    "# Create Donut Chart by of People Killed by Race\n",
    "\n",
    "Hint: Use `.value_counts()`"
   ]
  },
  {
   "cell_type": "code",
   "execution_count": 80,
   "metadata": {
    "ExecuteTime": {
     "end_time": "2023-07-17T14:04:46.859033600Z",
     "start_time": "2023-07-17T14:04:46.831823500Z"
    },
    "id": "1nOafPdy1u9Z"
   },
   "outputs": [
    {
     "data": {
      "text/plain": [
       "White              1168\n",
       "Black               592\n",
       "Hispanic            401\n",
       "Asian                36\n",
       "Native American      29\n",
       "Others               28\n",
       "Name: race, dtype: int64"
      ]
     },
     "execution_count": 80,
     "metadata": {},
     "output_type": "execute_result"
    }
   ],
   "source": [
    "victims_by_race = df_fatalities['race'].value_counts().rename({'W':'White','B':'Black','H':'Hispanic','A':'Asian','N':'Native American','O':'Others'})\n",
    "victims_by_race"
   ]
  },
  {
   "cell_type": "code",
   "execution_count": 81,
   "metadata": {
    "ExecuteTime": {
     "end_time": "2023-07-17T14:04:47.393310700Z",
     "start_time": "2023-07-17T14:04:46.847705300Z"
    },
    "id": "YN3hzJTe1vHJ"
   },
   "outputs": [
    {
     "data": {
      "application/vnd.plotly.v1+json": {
       "config": {
        "plotlyServerURL": "https://plot.ly"
       },
       "data": [
        {
         "domain": {
          "x": [
           0,
           1
          ],
          "y": [
           0,
           1
          ]
         },
         "hole": 0.4,
         "hovertemplate": "label=%{label}<br>value=%{value}<extra></extra>",
         "labels": [
          "White",
          "Black",
          "Hispanic",
          "Asian",
          "Native American",
          "Others"
         ],
         "legendgroup": "",
         "name": "",
         "showlegend": true,
         "type": "pie",
         "values": [
          1168,
          592,
          401,
          36,
          29,
          28
         ]
        }
       ],
       "layout": {
        "legend": {
         "tracegroupgap": 0
        },
        "template": {
         "data": {
          "bar": [
           {
            "error_x": {
             "color": "#2a3f5f"
            },
            "error_y": {
             "color": "#2a3f5f"
            },
            "marker": {
             "line": {
              "color": "#E5ECF6",
              "width": 0.5
             },
             "pattern": {
              "fillmode": "overlay",
              "size": 10,
              "solidity": 0.2
             }
            },
            "type": "bar"
           }
          ],
          "barpolar": [
           {
            "marker": {
             "line": {
              "color": "#E5ECF6",
              "width": 0.5
             },
             "pattern": {
              "fillmode": "overlay",
              "size": 10,
              "solidity": 0.2
             }
            },
            "type": "barpolar"
           }
          ],
          "carpet": [
           {
            "aaxis": {
             "endlinecolor": "#2a3f5f",
             "gridcolor": "white",
             "linecolor": "white",
             "minorgridcolor": "white",
             "startlinecolor": "#2a3f5f"
            },
            "baxis": {
             "endlinecolor": "#2a3f5f",
             "gridcolor": "white",
             "linecolor": "white",
             "minorgridcolor": "white",
             "startlinecolor": "#2a3f5f"
            },
            "type": "carpet"
           }
          ],
          "choropleth": [
           {
            "colorbar": {
             "outlinewidth": 0,
             "ticks": ""
            },
            "type": "choropleth"
           }
          ],
          "contour": [
           {
            "colorbar": {
             "outlinewidth": 0,
             "ticks": ""
            },
            "colorscale": [
             [
              0,
              "#0d0887"
             ],
             [
              0.1111111111111111,
              "#46039f"
             ],
             [
              0.2222222222222222,
              "#7201a8"
             ],
             [
              0.3333333333333333,
              "#9c179e"
             ],
             [
              0.4444444444444444,
              "#bd3786"
             ],
             [
              0.5555555555555556,
              "#d8576b"
             ],
             [
              0.6666666666666666,
              "#ed7953"
             ],
             [
              0.7777777777777778,
              "#fb9f3a"
             ],
             [
              0.8888888888888888,
              "#fdca26"
             ],
             [
              1,
              "#f0f921"
             ]
            ],
            "type": "contour"
           }
          ],
          "contourcarpet": [
           {
            "colorbar": {
             "outlinewidth": 0,
             "ticks": ""
            },
            "type": "contourcarpet"
           }
          ],
          "heatmap": [
           {
            "colorbar": {
             "outlinewidth": 0,
             "ticks": ""
            },
            "colorscale": [
             [
              0,
              "#0d0887"
             ],
             [
              0.1111111111111111,
              "#46039f"
             ],
             [
              0.2222222222222222,
              "#7201a8"
             ],
             [
              0.3333333333333333,
              "#9c179e"
             ],
             [
              0.4444444444444444,
              "#bd3786"
             ],
             [
              0.5555555555555556,
              "#d8576b"
             ],
             [
              0.6666666666666666,
              "#ed7953"
             ],
             [
              0.7777777777777778,
              "#fb9f3a"
             ],
             [
              0.8888888888888888,
              "#fdca26"
             ],
             [
              1,
              "#f0f921"
             ]
            ],
            "type": "heatmap"
           }
          ],
          "heatmapgl": [
           {
            "colorbar": {
             "outlinewidth": 0,
             "ticks": ""
            },
            "colorscale": [
             [
              0,
              "#0d0887"
             ],
             [
              0.1111111111111111,
              "#46039f"
             ],
             [
              0.2222222222222222,
              "#7201a8"
             ],
             [
              0.3333333333333333,
              "#9c179e"
             ],
             [
              0.4444444444444444,
              "#bd3786"
             ],
             [
              0.5555555555555556,
              "#d8576b"
             ],
             [
              0.6666666666666666,
              "#ed7953"
             ],
             [
              0.7777777777777778,
              "#fb9f3a"
             ],
             [
              0.8888888888888888,
              "#fdca26"
             ],
             [
              1,
              "#f0f921"
             ]
            ],
            "type": "heatmapgl"
           }
          ],
          "histogram": [
           {
            "marker": {
             "pattern": {
              "fillmode": "overlay",
              "size": 10,
              "solidity": 0.2
             }
            },
            "type": "histogram"
           }
          ],
          "histogram2d": [
           {
            "colorbar": {
             "outlinewidth": 0,
             "ticks": ""
            },
            "colorscale": [
             [
              0,
              "#0d0887"
             ],
             [
              0.1111111111111111,
              "#46039f"
             ],
             [
              0.2222222222222222,
              "#7201a8"
             ],
             [
              0.3333333333333333,
              "#9c179e"
             ],
             [
              0.4444444444444444,
              "#bd3786"
             ],
             [
              0.5555555555555556,
              "#d8576b"
             ],
             [
              0.6666666666666666,
              "#ed7953"
             ],
             [
              0.7777777777777778,
              "#fb9f3a"
             ],
             [
              0.8888888888888888,
              "#fdca26"
             ],
             [
              1,
              "#f0f921"
             ]
            ],
            "type": "histogram2d"
           }
          ],
          "histogram2dcontour": [
           {
            "colorbar": {
             "outlinewidth": 0,
             "ticks": ""
            },
            "colorscale": [
             [
              0,
              "#0d0887"
             ],
             [
              0.1111111111111111,
              "#46039f"
             ],
             [
              0.2222222222222222,
              "#7201a8"
             ],
             [
              0.3333333333333333,
              "#9c179e"
             ],
             [
              0.4444444444444444,
              "#bd3786"
             ],
             [
              0.5555555555555556,
              "#d8576b"
             ],
             [
              0.6666666666666666,
              "#ed7953"
             ],
             [
              0.7777777777777778,
              "#fb9f3a"
             ],
             [
              0.8888888888888888,
              "#fdca26"
             ],
             [
              1,
              "#f0f921"
             ]
            ],
            "type": "histogram2dcontour"
           }
          ],
          "mesh3d": [
           {
            "colorbar": {
             "outlinewidth": 0,
             "ticks": ""
            },
            "type": "mesh3d"
           }
          ],
          "parcoords": [
           {
            "line": {
             "colorbar": {
              "outlinewidth": 0,
              "ticks": ""
             }
            },
            "type": "parcoords"
           }
          ],
          "pie": [
           {
            "automargin": true,
            "type": "pie"
           }
          ],
          "scatter": [
           {
            "fillpattern": {
             "fillmode": "overlay",
             "size": 10,
             "solidity": 0.2
            },
            "type": "scatter"
           }
          ],
          "scatter3d": [
           {
            "line": {
             "colorbar": {
              "outlinewidth": 0,
              "ticks": ""
             }
            },
            "marker": {
             "colorbar": {
              "outlinewidth": 0,
              "ticks": ""
             }
            },
            "type": "scatter3d"
           }
          ],
          "scattercarpet": [
           {
            "marker": {
             "colorbar": {
              "outlinewidth": 0,
              "ticks": ""
             }
            },
            "type": "scattercarpet"
           }
          ],
          "scattergeo": [
           {
            "marker": {
             "colorbar": {
              "outlinewidth": 0,
              "ticks": ""
             }
            },
            "type": "scattergeo"
           }
          ],
          "scattergl": [
           {
            "marker": {
             "colorbar": {
              "outlinewidth": 0,
              "ticks": ""
             }
            },
            "type": "scattergl"
           }
          ],
          "scattermapbox": [
           {
            "marker": {
             "colorbar": {
              "outlinewidth": 0,
              "ticks": ""
             }
            },
            "type": "scattermapbox"
           }
          ],
          "scatterpolar": [
           {
            "marker": {
             "colorbar": {
              "outlinewidth": 0,
              "ticks": ""
             }
            },
            "type": "scatterpolar"
           }
          ],
          "scatterpolargl": [
           {
            "marker": {
             "colorbar": {
              "outlinewidth": 0,
              "ticks": ""
             }
            },
            "type": "scatterpolargl"
           }
          ],
          "scatterternary": [
           {
            "marker": {
             "colorbar": {
              "outlinewidth": 0,
              "ticks": ""
             }
            },
            "type": "scatterternary"
           }
          ],
          "surface": [
           {
            "colorbar": {
             "outlinewidth": 0,
             "ticks": ""
            },
            "colorscale": [
             [
              0,
              "#0d0887"
             ],
             [
              0.1111111111111111,
              "#46039f"
             ],
             [
              0.2222222222222222,
              "#7201a8"
             ],
             [
              0.3333333333333333,
              "#9c179e"
             ],
             [
              0.4444444444444444,
              "#bd3786"
             ],
             [
              0.5555555555555556,
              "#d8576b"
             ],
             [
              0.6666666666666666,
              "#ed7953"
             ],
             [
              0.7777777777777778,
              "#fb9f3a"
             ],
             [
              0.8888888888888888,
              "#fdca26"
             ],
             [
              1,
              "#f0f921"
             ]
            ],
            "type": "surface"
           }
          ],
          "table": [
           {
            "cells": {
             "fill": {
              "color": "#EBF0F8"
             },
             "line": {
              "color": "white"
             }
            },
            "header": {
             "fill": {
              "color": "#C8D4E3"
             },
             "line": {
              "color": "white"
             }
            },
            "type": "table"
           }
          ]
         },
         "layout": {
          "annotationdefaults": {
           "arrowcolor": "#2a3f5f",
           "arrowhead": 0,
           "arrowwidth": 1
          },
          "autotypenumbers": "strict",
          "coloraxis": {
           "colorbar": {
            "outlinewidth": 0,
            "ticks": ""
           }
          },
          "colorscale": {
           "diverging": [
            [
             0,
             "#8e0152"
            ],
            [
             0.1,
             "#c51b7d"
            ],
            [
             0.2,
             "#de77ae"
            ],
            [
             0.3,
             "#f1b6da"
            ],
            [
             0.4,
             "#fde0ef"
            ],
            [
             0.5,
             "#f7f7f7"
            ],
            [
             0.6,
             "#e6f5d0"
            ],
            [
             0.7,
             "#b8e186"
            ],
            [
             0.8,
             "#7fbc41"
            ],
            [
             0.9,
             "#4d9221"
            ],
            [
             1,
             "#276419"
            ]
           ],
           "sequential": [
            [
             0,
             "#0d0887"
            ],
            [
             0.1111111111111111,
             "#46039f"
            ],
            [
             0.2222222222222222,
             "#7201a8"
            ],
            [
             0.3333333333333333,
             "#9c179e"
            ],
            [
             0.4444444444444444,
             "#bd3786"
            ],
            [
             0.5555555555555556,
             "#d8576b"
            ],
            [
             0.6666666666666666,
             "#ed7953"
            ],
            [
             0.7777777777777778,
             "#fb9f3a"
            ],
            [
             0.8888888888888888,
             "#fdca26"
            ],
            [
             1,
             "#f0f921"
            ]
           ],
           "sequentialminus": [
            [
             0,
             "#0d0887"
            ],
            [
             0.1111111111111111,
             "#46039f"
            ],
            [
             0.2222222222222222,
             "#7201a8"
            ],
            [
             0.3333333333333333,
             "#9c179e"
            ],
            [
             0.4444444444444444,
             "#bd3786"
            ],
            [
             0.5555555555555556,
             "#d8576b"
            ],
            [
             0.6666666666666666,
             "#ed7953"
            ],
            [
             0.7777777777777778,
             "#fb9f3a"
            ],
            [
             0.8888888888888888,
             "#fdca26"
            ],
            [
             1,
             "#f0f921"
            ]
           ]
          },
          "colorway": [
           "#636efa",
           "#EF553B",
           "#00cc96",
           "#ab63fa",
           "#FFA15A",
           "#19d3f3",
           "#FF6692",
           "#B6E880",
           "#FF97FF",
           "#FECB52"
          ],
          "font": {
           "color": "#2a3f5f"
          },
          "geo": {
           "bgcolor": "white",
           "lakecolor": "white",
           "landcolor": "#E5ECF6",
           "showlakes": true,
           "showland": true,
           "subunitcolor": "white"
          },
          "hoverlabel": {
           "align": "left"
          },
          "hovermode": "closest",
          "mapbox": {
           "style": "light"
          },
          "paper_bgcolor": "white",
          "plot_bgcolor": "#E5ECF6",
          "polar": {
           "angularaxis": {
            "gridcolor": "white",
            "linecolor": "white",
            "ticks": ""
           },
           "bgcolor": "#E5ECF6",
           "radialaxis": {
            "gridcolor": "white",
            "linecolor": "white",
            "ticks": ""
           }
          },
          "scene": {
           "xaxis": {
            "backgroundcolor": "#E5ECF6",
            "gridcolor": "white",
            "gridwidth": 2,
            "linecolor": "white",
            "showbackground": true,
            "ticks": "",
            "zerolinecolor": "white"
           },
           "yaxis": {
            "backgroundcolor": "#E5ECF6",
            "gridcolor": "white",
            "gridwidth": 2,
            "linecolor": "white",
            "showbackground": true,
            "ticks": "",
            "zerolinecolor": "white"
           },
           "zaxis": {
            "backgroundcolor": "#E5ECF6",
            "gridcolor": "white",
            "gridwidth": 2,
            "linecolor": "white",
            "showbackground": true,
            "ticks": "",
            "zerolinecolor": "white"
           }
          },
          "shapedefaults": {
           "line": {
            "color": "#2a3f5f"
           }
          },
          "ternary": {
           "aaxis": {
            "gridcolor": "white",
            "linecolor": "white",
            "ticks": ""
           },
           "baxis": {
            "gridcolor": "white",
            "linecolor": "white",
            "ticks": ""
           },
           "bgcolor": "#E5ECF6",
           "caxis": {
            "gridcolor": "white",
            "linecolor": "white",
            "ticks": ""
           }
          },
          "title": {
           "x": 0.05
          },
          "xaxis": {
           "automargin": true,
           "gridcolor": "white",
           "linecolor": "white",
           "ticks": "",
           "title": {
            "standoff": 15
           },
           "zerolinecolor": "white",
           "zerolinewidth": 2
          },
          "yaxis": {
           "automargin": true,
           "gridcolor": "white",
           "linecolor": "white",
           "ticks": "",
           "title": {
            "standoff": 15
           },
           "zerolinecolor": "white",
           "zerolinewidth": 2
          }
         }
        },
        "title": {
         "text": "Victims by Race"
        }
       }
      }
     },
     "metadata": {},
     "output_type": "display_data"
    }
   ],
   "source": [
    "px.pie(\n",
    "    names = victims_by_race.index,\n",
    "    values = victims_by_race,\n",
    "    title = 'Victims by Race',\n",
    "    hole = 0.4\n",
    ")"
   ]
  },
  {
   "cell_type": "markdown",
   "metadata": {
    "id": "kr-8Rezn3Bep"
   },
   "source": [
    "# Create a Chart Comparing the Total Number of Deaths of Men and Women\n",
    "\n",
    "Use `df_fatalities` to illustrate how many more men are killed compared to women. "
   ]
  },
  {
   "cell_type": "code",
   "execution_count": 82,
   "metadata": {
    "ExecuteTime": {
     "end_time": "2023-07-17T14:04:47.395358400Z",
     "start_time": "2023-07-17T14:04:46.892511400Z"
    },
    "id": "joH1L4303BsJ"
   },
   "outputs": [
    {
     "data": {
      "text/plain": [
       "Male      2160\n",
       "Female      94\n",
       "Name: gender, dtype: int64"
      ]
     },
     "execution_count": 82,
     "metadata": {},
     "output_type": "execute_result"
    }
   ],
   "source": [
    "victims_by_sex = df_fatalities['gender'].value_counts().rename({'M':'Male','F':'Female'})\n",
    "victims_by_sex"
   ]
  },
  {
   "cell_type": "code",
   "execution_count": 44,
   "metadata": {
    "ExecuteTime": {
     "end_time": "2023-07-17T14:04:47.395358400Z",
     "start_time": "2023-07-17T14:04:46.907974300Z"
    },
    "id": "X4MrMkVa3MTk"
   },
   "outputs": [
    {
     "data": {
      "application/vnd.plotly.v1+json": {
       "config": {
        "plotlyServerURL": "https://plot.ly"
       },
       "data": [
        {
         "domain": {
          "x": [
           0,
           1
          ],
          "y": [
           0,
           1
          ]
         },
         "hovertemplate": "label=%{label}<br>value=%{value}<extra></extra>",
         "labels": [
          "Male",
          "Female"
         ],
         "legendgroup": "",
         "name": "",
         "showlegend": true,
         "type": "pie",
         "values": [
          2428,
          107
         ]
        }
       ],
       "layout": {
        "legend": {
         "tracegroupgap": 0
        },
        "template": {
         "data": {
          "bar": [
           {
            "error_x": {
             "color": "#2a3f5f"
            },
            "error_y": {
             "color": "#2a3f5f"
            },
            "marker": {
             "line": {
              "color": "#E5ECF6",
              "width": 0.5
             },
             "pattern": {
              "fillmode": "overlay",
              "size": 10,
              "solidity": 0.2
             }
            },
            "type": "bar"
           }
          ],
          "barpolar": [
           {
            "marker": {
             "line": {
              "color": "#E5ECF6",
              "width": 0.5
             },
             "pattern": {
              "fillmode": "overlay",
              "size": 10,
              "solidity": 0.2
             }
            },
            "type": "barpolar"
           }
          ],
          "carpet": [
           {
            "aaxis": {
             "endlinecolor": "#2a3f5f",
             "gridcolor": "white",
             "linecolor": "white",
             "minorgridcolor": "white",
             "startlinecolor": "#2a3f5f"
            },
            "baxis": {
             "endlinecolor": "#2a3f5f",
             "gridcolor": "white",
             "linecolor": "white",
             "minorgridcolor": "white",
             "startlinecolor": "#2a3f5f"
            },
            "type": "carpet"
           }
          ],
          "choropleth": [
           {
            "colorbar": {
             "outlinewidth": 0,
             "ticks": ""
            },
            "type": "choropleth"
           }
          ],
          "contour": [
           {
            "colorbar": {
             "outlinewidth": 0,
             "ticks": ""
            },
            "colorscale": [
             [
              0,
              "#0d0887"
             ],
             [
              0.1111111111111111,
              "#46039f"
             ],
             [
              0.2222222222222222,
              "#7201a8"
             ],
             [
              0.3333333333333333,
              "#9c179e"
             ],
             [
              0.4444444444444444,
              "#bd3786"
             ],
             [
              0.5555555555555556,
              "#d8576b"
             ],
             [
              0.6666666666666666,
              "#ed7953"
             ],
             [
              0.7777777777777778,
              "#fb9f3a"
             ],
             [
              0.8888888888888888,
              "#fdca26"
             ],
             [
              1,
              "#f0f921"
             ]
            ],
            "type": "contour"
           }
          ],
          "contourcarpet": [
           {
            "colorbar": {
             "outlinewidth": 0,
             "ticks": ""
            },
            "type": "contourcarpet"
           }
          ],
          "heatmap": [
           {
            "colorbar": {
             "outlinewidth": 0,
             "ticks": ""
            },
            "colorscale": [
             [
              0,
              "#0d0887"
             ],
             [
              0.1111111111111111,
              "#46039f"
             ],
             [
              0.2222222222222222,
              "#7201a8"
             ],
             [
              0.3333333333333333,
              "#9c179e"
             ],
             [
              0.4444444444444444,
              "#bd3786"
             ],
             [
              0.5555555555555556,
              "#d8576b"
             ],
             [
              0.6666666666666666,
              "#ed7953"
             ],
             [
              0.7777777777777778,
              "#fb9f3a"
             ],
             [
              0.8888888888888888,
              "#fdca26"
             ],
             [
              1,
              "#f0f921"
             ]
            ],
            "type": "heatmap"
           }
          ],
          "heatmapgl": [
           {
            "colorbar": {
             "outlinewidth": 0,
             "ticks": ""
            },
            "colorscale": [
             [
              0,
              "#0d0887"
             ],
             [
              0.1111111111111111,
              "#46039f"
             ],
             [
              0.2222222222222222,
              "#7201a8"
             ],
             [
              0.3333333333333333,
              "#9c179e"
             ],
             [
              0.4444444444444444,
              "#bd3786"
             ],
             [
              0.5555555555555556,
              "#d8576b"
             ],
             [
              0.6666666666666666,
              "#ed7953"
             ],
             [
              0.7777777777777778,
              "#fb9f3a"
             ],
             [
              0.8888888888888888,
              "#fdca26"
             ],
             [
              1,
              "#f0f921"
             ]
            ],
            "type": "heatmapgl"
           }
          ],
          "histogram": [
           {
            "marker": {
             "pattern": {
              "fillmode": "overlay",
              "size": 10,
              "solidity": 0.2
             }
            },
            "type": "histogram"
           }
          ],
          "histogram2d": [
           {
            "colorbar": {
             "outlinewidth": 0,
             "ticks": ""
            },
            "colorscale": [
             [
              0,
              "#0d0887"
             ],
             [
              0.1111111111111111,
              "#46039f"
             ],
             [
              0.2222222222222222,
              "#7201a8"
             ],
             [
              0.3333333333333333,
              "#9c179e"
             ],
             [
              0.4444444444444444,
              "#bd3786"
             ],
             [
              0.5555555555555556,
              "#d8576b"
             ],
             [
              0.6666666666666666,
              "#ed7953"
             ],
             [
              0.7777777777777778,
              "#fb9f3a"
             ],
             [
              0.8888888888888888,
              "#fdca26"
             ],
             [
              1,
              "#f0f921"
             ]
            ],
            "type": "histogram2d"
           }
          ],
          "histogram2dcontour": [
           {
            "colorbar": {
             "outlinewidth": 0,
             "ticks": ""
            },
            "colorscale": [
             [
              0,
              "#0d0887"
             ],
             [
              0.1111111111111111,
              "#46039f"
             ],
             [
              0.2222222222222222,
              "#7201a8"
             ],
             [
              0.3333333333333333,
              "#9c179e"
             ],
             [
              0.4444444444444444,
              "#bd3786"
             ],
             [
              0.5555555555555556,
              "#d8576b"
             ],
             [
              0.6666666666666666,
              "#ed7953"
             ],
             [
              0.7777777777777778,
              "#fb9f3a"
             ],
             [
              0.8888888888888888,
              "#fdca26"
             ],
             [
              1,
              "#f0f921"
             ]
            ],
            "type": "histogram2dcontour"
           }
          ],
          "mesh3d": [
           {
            "colorbar": {
             "outlinewidth": 0,
             "ticks": ""
            },
            "type": "mesh3d"
           }
          ],
          "parcoords": [
           {
            "line": {
             "colorbar": {
              "outlinewidth": 0,
              "ticks": ""
             }
            },
            "type": "parcoords"
           }
          ],
          "pie": [
           {
            "automargin": true,
            "type": "pie"
           }
          ],
          "scatter": [
           {
            "fillpattern": {
             "fillmode": "overlay",
             "size": 10,
             "solidity": 0.2
            },
            "type": "scatter"
           }
          ],
          "scatter3d": [
           {
            "line": {
             "colorbar": {
              "outlinewidth": 0,
              "ticks": ""
             }
            },
            "marker": {
             "colorbar": {
              "outlinewidth": 0,
              "ticks": ""
             }
            },
            "type": "scatter3d"
           }
          ],
          "scattercarpet": [
           {
            "marker": {
             "colorbar": {
              "outlinewidth": 0,
              "ticks": ""
             }
            },
            "type": "scattercarpet"
           }
          ],
          "scattergeo": [
           {
            "marker": {
             "colorbar": {
              "outlinewidth": 0,
              "ticks": ""
             }
            },
            "type": "scattergeo"
           }
          ],
          "scattergl": [
           {
            "marker": {
             "colorbar": {
              "outlinewidth": 0,
              "ticks": ""
             }
            },
            "type": "scattergl"
           }
          ],
          "scattermapbox": [
           {
            "marker": {
             "colorbar": {
              "outlinewidth": 0,
              "ticks": ""
             }
            },
            "type": "scattermapbox"
           }
          ],
          "scatterpolar": [
           {
            "marker": {
             "colorbar": {
              "outlinewidth": 0,
              "ticks": ""
             }
            },
            "type": "scatterpolar"
           }
          ],
          "scatterpolargl": [
           {
            "marker": {
             "colorbar": {
              "outlinewidth": 0,
              "ticks": ""
             }
            },
            "type": "scatterpolargl"
           }
          ],
          "scatterternary": [
           {
            "marker": {
             "colorbar": {
              "outlinewidth": 0,
              "ticks": ""
             }
            },
            "type": "scatterternary"
           }
          ],
          "surface": [
           {
            "colorbar": {
             "outlinewidth": 0,
             "ticks": ""
            },
            "colorscale": [
             [
              0,
              "#0d0887"
             ],
             [
              0.1111111111111111,
              "#46039f"
             ],
             [
              0.2222222222222222,
              "#7201a8"
             ],
             [
              0.3333333333333333,
              "#9c179e"
             ],
             [
              0.4444444444444444,
              "#bd3786"
             ],
             [
              0.5555555555555556,
              "#d8576b"
             ],
             [
              0.6666666666666666,
              "#ed7953"
             ],
             [
              0.7777777777777778,
              "#fb9f3a"
             ],
             [
              0.8888888888888888,
              "#fdca26"
             ],
             [
              1,
              "#f0f921"
             ]
            ],
            "type": "surface"
           }
          ],
          "table": [
           {
            "cells": {
             "fill": {
              "color": "#EBF0F8"
             },
             "line": {
              "color": "white"
             }
            },
            "header": {
             "fill": {
              "color": "#C8D4E3"
             },
             "line": {
              "color": "white"
             }
            },
            "type": "table"
           }
          ]
         },
         "layout": {
          "annotationdefaults": {
           "arrowcolor": "#2a3f5f",
           "arrowhead": 0,
           "arrowwidth": 1
          },
          "autotypenumbers": "strict",
          "coloraxis": {
           "colorbar": {
            "outlinewidth": 0,
            "ticks": ""
           }
          },
          "colorscale": {
           "diverging": [
            [
             0,
             "#8e0152"
            ],
            [
             0.1,
             "#c51b7d"
            ],
            [
             0.2,
             "#de77ae"
            ],
            [
             0.3,
             "#f1b6da"
            ],
            [
             0.4,
             "#fde0ef"
            ],
            [
             0.5,
             "#f7f7f7"
            ],
            [
             0.6,
             "#e6f5d0"
            ],
            [
             0.7,
             "#b8e186"
            ],
            [
             0.8,
             "#7fbc41"
            ],
            [
             0.9,
             "#4d9221"
            ],
            [
             1,
             "#276419"
            ]
           ],
           "sequential": [
            [
             0,
             "#0d0887"
            ],
            [
             0.1111111111111111,
             "#46039f"
            ],
            [
             0.2222222222222222,
             "#7201a8"
            ],
            [
             0.3333333333333333,
             "#9c179e"
            ],
            [
             0.4444444444444444,
             "#bd3786"
            ],
            [
             0.5555555555555556,
             "#d8576b"
            ],
            [
             0.6666666666666666,
             "#ed7953"
            ],
            [
             0.7777777777777778,
             "#fb9f3a"
            ],
            [
             0.8888888888888888,
             "#fdca26"
            ],
            [
             1,
             "#f0f921"
            ]
           ],
           "sequentialminus": [
            [
             0,
             "#0d0887"
            ],
            [
             0.1111111111111111,
             "#46039f"
            ],
            [
             0.2222222222222222,
             "#7201a8"
            ],
            [
             0.3333333333333333,
             "#9c179e"
            ],
            [
             0.4444444444444444,
             "#bd3786"
            ],
            [
             0.5555555555555556,
             "#d8576b"
            ],
            [
             0.6666666666666666,
             "#ed7953"
            ],
            [
             0.7777777777777778,
             "#fb9f3a"
            ],
            [
             0.8888888888888888,
             "#fdca26"
            ],
            [
             1,
             "#f0f921"
            ]
           ]
          },
          "colorway": [
           "#636efa",
           "#EF553B",
           "#00cc96",
           "#ab63fa",
           "#FFA15A",
           "#19d3f3",
           "#FF6692",
           "#B6E880",
           "#FF97FF",
           "#FECB52"
          ],
          "font": {
           "color": "#2a3f5f"
          },
          "geo": {
           "bgcolor": "white",
           "lakecolor": "white",
           "landcolor": "#E5ECF6",
           "showlakes": true,
           "showland": true,
           "subunitcolor": "white"
          },
          "hoverlabel": {
           "align": "left"
          },
          "hovermode": "closest",
          "mapbox": {
           "style": "light"
          },
          "paper_bgcolor": "white",
          "plot_bgcolor": "#E5ECF6",
          "polar": {
           "angularaxis": {
            "gridcolor": "white",
            "linecolor": "white",
            "ticks": ""
           },
           "bgcolor": "#E5ECF6",
           "radialaxis": {
            "gridcolor": "white",
            "linecolor": "white",
            "ticks": ""
           }
          },
          "scene": {
           "xaxis": {
            "backgroundcolor": "#E5ECF6",
            "gridcolor": "white",
            "gridwidth": 2,
            "linecolor": "white",
            "showbackground": true,
            "ticks": "",
            "zerolinecolor": "white"
           },
           "yaxis": {
            "backgroundcolor": "#E5ECF6",
            "gridcolor": "white",
            "gridwidth": 2,
            "linecolor": "white",
            "showbackground": true,
            "ticks": "",
            "zerolinecolor": "white"
           },
           "zaxis": {
            "backgroundcolor": "#E5ECF6",
            "gridcolor": "white",
            "gridwidth": 2,
            "linecolor": "white",
            "showbackground": true,
            "ticks": "",
            "zerolinecolor": "white"
           }
          },
          "shapedefaults": {
           "line": {
            "color": "#2a3f5f"
           }
          },
          "ternary": {
           "aaxis": {
            "gridcolor": "white",
            "linecolor": "white",
            "ticks": ""
           },
           "baxis": {
            "gridcolor": "white",
            "linecolor": "white",
            "ticks": ""
           },
           "bgcolor": "#E5ECF6",
           "caxis": {
            "gridcolor": "white",
            "linecolor": "white",
            "ticks": ""
           }
          },
          "title": {
           "x": 0.05
          },
          "xaxis": {
           "automargin": true,
           "gridcolor": "white",
           "linecolor": "white",
           "ticks": "",
           "title": {
            "standoff": 15
           },
           "zerolinecolor": "white",
           "zerolinewidth": 2
          },
          "yaxis": {
           "automargin": true,
           "gridcolor": "white",
           "linecolor": "white",
           "ticks": "",
           "title": {
            "standoff": 15
           },
           "zerolinecolor": "white",
           "zerolinewidth": 2
          }
         }
        },
        "title": {
         "text": "Victims by Sex"
        }
       }
      }
     },
     "metadata": {},
     "output_type": "display_data"
    }
   ],
   "source": [
    "px.pie(\n",
    "    values = victims_by_sex,\n",
    "    names = victims_by_sex.index,\n",
    "    title = 'Victims by Sex'\n",
    ")"
   ]
  },
  {
   "cell_type": "markdown",
   "metadata": {
    "_uuid": "cd1531c8421bfb6967cebf7039056779f9b960a6",
    "id": "ZxbBdvM0uRpQ"
   },
   "source": [
    "# Create a Box Plot Showing the Age and Manner of Death\n",
    "\n",
    "Break out the data by gender using `df_fatalities`. Is there a difference between men and women in the manner of death? "
   ]
  },
  {
   "cell_type": "code",
   "execution_count": 83,
   "metadata": {
    "ExecuteTime": {
     "end_time": "2023-07-17T14:04:47.395358400Z",
     "start_time": "2023-07-17T14:04:46.940625500Z"
    },
    "id": "WdPPZLJY2shA"
   },
   "outputs": [
    {
     "data": {
      "application/vnd.plotly.v1+json": {
       "config": {
        "plotlyServerURL": "https://plot.ly"
       },
       "data": [
        {
         "alignmentgroup": "True",
         "hovertemplate": "manner_of_death=%{x}<br>age=%{y}<extra></extra>",
         "legendgroup": "shot",
         "marker": {
          "color": "#636efa"
         },
         "name": "shot",
         "notched": false,
         "offsetgroup": "shot",
         "orientation": "v",
         "showlegend": true,
         "type": "box",
         "x": [
          "shot",
          "shot",
          "shot",
          "shot",
          "shot",
          "shot",
          "shot",
          "shot",
          "shot",
          "shot",
          "shot",
          "shot",
          "shot",
          "shot",
          "shot",
          "shot",
          "shot",
          "shot",
          "shot",
          "shot",
          "shot",
          "shot",
          "shot",
          "shot",
          "shot",
          "shot",
          "shot",
          "shot",
          "shot",
          "shot",
          "shot",
          "shot",
          "shot",
          "shot",
          "shot",
          "shot",
          "shot",
          "shot",
          "shot",
          "shot",
          "shot",
          "shot",
          "shot",
          "shot",
          "shot",
          "shot",
          "shot",
          "shot",
          "shot",
          "shot",
          "shot",
          "shot",
          "shot",
          "shot",
          "shot",
          "shot",
          "shot",
          "shot",
          "shot",
          "shot",
          "shot",
          "shot",
          "shot",
          "shot",
          "shot",
          "shot",
          "shot",
          "shot",
          "shot",
          "shot",
          "shot",
          "shot",
          "shot",
          "shot",
          "shot",
          "shot",
          "shot",
          "shot",
          "shot",
          "shot",
          "shot",
          "shot",
          "shot",
          "shot",
          "shot",
          "shot",
          "shot",
          "shot",
          "shot",
          "shot",
          "shot",
          "shot",
          "shot",
          "shot",
          "shot",
          "shot",
          "shot",
          "shot",
          "shot",
          "shot",
          "shot",
          "shot",
          "shot",
          "shot",
          "shot",
          "shot",
          "shot",
          "shot",
          "shot",
          "shot",
          "shot",
          "shot",
          "shot",
          "shot",
          "shot",
          "shot",
          "shot",
          "shot",
          "shot",
          "shot",
          "shot",
          "shot",
          "shot",
          "shot",
          "shot",
          "shot",
          "shot",
          "shot",
          "shot",
          "shot",
          "shot",
          "shot",
          "shot",
          "shot",
          "shot",
          "shot",
          "shot",
          "shot",
          "shot",
          "shot",
          "shot",
          "shot",
          "shot",
          "shot",
          "shot",
          "shot",
          "shot",
          "shot",
          "shot",
          "shot",
          "shot",
          "shot",
          "shot",
          "shot",
          "shot",
          "shot",
          "shot",
          "shot",
          "shot",
          "shot",
          "shot",
          "shot",
          "shot",
          "shot",
          "shot",
          "shot",
          "shot",
          "shot",
          "shot",
          "shot",
          "shot",
          "shot",
          "shot",
          "shot",
          "shot",
          "shot",
          "shot",
          "shot",
          "shot",
          "shot",
          "shot",
          "shot",
          "shot",
          "shot",
          "shot",
          "shot",
          "shot",
          "shot",
          "shot",
          "shot",
          "shot",
          "shot",
          "shot",
          "shot",
          "shot",
          "shot",
          "shot",
          "shot",
          "shot",
          "shot",
          "shot",
          "shot",
          "shot",
          "shot",
          "shot",
          "shot",
          "shot",
          "shot",
          "shot",
          "shot",
          "shot",
          "shot",
          "shot",
          "shot",
          "shot",
          "shot",
          "shot",
          "shot",
          "shot",
          "shot",
          "shot",
          "shot",
          "shot",
          "shot",
          "shot",
          "shot",
          "shot",
          "shot",
          "shot",
          "shot",
          "shot",
          "shot",
          "shot",
          "shot",
          "shot",
          "shot",
          "shot",
          "shot",
          "shot",
          "shot",
          "shot",
          "shot",
          "shot",
          "shot",
          "shot",
          "shot",
          "shot",
          "shot",
          "shot",
          "shot",
          "shot",
          "shot",
          "shot",
          "shot",
          "shot",
          "shot",
          "shot",
          "shot",
          "shot",
          "shot",
          "shot",
          "shot",
          "shot",
          "shot",
          "shot",
          "shot",
          "shot",
          "shot",
          "shot",
          "shot",
          "shot",
          "shot",
          "shot",
          "shot",
          "shot",
          "shot",
          "shot",
          "shot",
          "shot",
          "shot",
          "shot",
          "shot",
          "shot",
          "shot",
          "shot",
          "shot",
          "shot",
          "shot",
          "shot",
          "shot",
          "shot",
          "shot",
          "shot",
          "shot",
          "shot",
          "shot",
          "shot",
          "shot",
          "shot",
          "shot",
          "shot",
          "shot",
          "shot",
          "shot",
          "shot",
          "shot",
          "shot",
          "shot",
          "shot",
          "shot",
          "shot",
          "shot",
          "shot",
          "shot",
          "shot",
          "shot",
          "shot",
          "shot",
          "shot",
          "shot",
          "shot",
          "shot",
          "shot",
          "shot",
          "shot",
          "shot",
          "shot",
          "shot",
          "shot",
          "shot",
          "shot",
          "shot",
          "shot",
          "shot",
          "shot",
          "shot",
          "shot",
          "shot",
          "shot",
          "shot",
          "shot",
          "shot",
          "shot",
          "shot",
          "shot",
          "shot",
          "shot",
          "shot",
          "shot",
          "shot",
          "shot",
          "shot",
          "shot",
          "shot",
          "shot",
          "shot",
          "shot",
          "shot",
          "shot",
          "shot",
          "shot",
          "shot",
          "shot",
          "shot",
          "shot",
          "shot",
          "shot",
          "shot",
          "shot",
          "shot",
          "shot",
          "shot",
          "shot",
          "shot",
          "shot",
          "shot",
          "shot",
          "shot",
          "shot",
          "shot",
          "shot",
          "shot",
          "shot",
          "shot",
          "shot",
          "shot",
          "shot",
          "shot",
          "shot",
          "shot",
          "shot",
          "shot",
          "shot",
          "shot",
          "shot",
          "shot",
          "shot",
          "shot",
          "shot",
          "shot",
          "shot",
          "shot",
          "shot",
          "shot",
          "shot",
          "shot",
          "shot",
          "shot",
          "shot",
          "shot",
          "shot",
          "shot",
          "shot",
          "shot",
          "shot",
          "shot",
          "shot",
          "shot",
          "shot",
          "shot",
          "shot",
          "shot",
          "shot",
          "shot",
          "shot",
          "shot",
          "shot",
          "shot",
          "shot",
          "shot",
          "shot",
          "shot",
          "shot",
          "shot",
          "shot",
          "shot",
          "shot",
          "shot",
          "shot",
          "shot",
          "shot",
          "shot",
          "shot",
          "shot",
          "shot",
          "shot",
          "shot",
          "shot",
          "shot",
          "shot",
          "shot",
          "shot",
          "shot",
          "shot",
          "shot",
          "shot",
          "shot",
          "shot",
          "shot",
          "shot",
          "shot",
          "shot",
          "shot",
          "shot",
          "shot",
          "shot",
          "shot",
          "shot",
          "shot",
          "shot",
          "shot",
          "shot",
          "shot",
          "shot",
          "shot",
          "shot",
          "shot",
          "shot",
          "shot",
          "shot",
          "shot",
          "shot",
          "shot",
          "shot",
          "shot",
          "shot",
          "shot",
          "shot",
          "shot",
          "shot",
          "shot",
          "shot",
          "shot",
          "shot",
          "shot",
          "shot",
          "shot",
          "shot",
          "shot",
          "shot",
          "shot",
          "shot",
          "shot",
          "shot",
          "shot",
          "shot",
          "shot",
          "shot",
          "shot",
          "shot",
          "shot",
          "shot",
          "shot",
          "shot",
          "shot",
          "shot",
          "shot",
          "shot",
          "shot",
          "shot",
          "shot",
          "shot",
          "shot",
          "shot",
          "shot",
          "shot",
          "shot",
          "shot",
          "shot",
          "shot",
          "shot",
          "shot",
          "shot",
          "shot",
          "shot",
          "shot",
          "shot",
          "shot",
          "shot",
          "shot",
          "shot",
          "shot",
          "shot",
          "shot",
          "shot",
          "shot",
          "shot",
          "shot",
          "shot",
          "shot",
          "shot",
          "shot",
          "shot",
          "shot",
          "shot",
          "shot",
          "shot",
          "shot",
          "shot",
          "shot",
          "shot",
          "shot",
          "shot",
          "shot",
          "shot",
          "shot",
          "shot",
          "shot",
          "shot",
          "shot",
          "shot",
          "shot",
          "shot",
          "shot",
          "shot",
          "shot",
          "shot",
          "shot",
          "shot",
          "shot",
          "shot",
          "shot",
          "shot",
          "shot",
          "shot",
          "shot",
          "shot",
          "shot",
          "shot",
          "shot",
          "shot",
          "shot",
          "shot",
          "shot",
          "shot",
          "shot",
          "shot",
          "shot",
          "shot",
          "shot",
          "shot",
          "shot",
          "shot",
          "shot",
          "shot",
          "shot",
          "shot",
          "shot",
          "shot",
          "shot",
          "shot",
          "shot",
          "shot",
          "shot",
          "shot",
          "shot",
          "shot",
          "shot",
          "shot",
          "shot",
          "shot",
          "shot",
          "shot",
          "shot",
          "shot",
          "shot",
          "shot",
          "shot",
          "shot",
          "shot",
          "shot",
          "shot",
          "shot",
          "shot",
          "shot",
          "shot",
          "shot",
          "shot",
          "shot",
          "shot",
          "shot",
          "shot",
          "shot",
          "shot",
          "shot",
          "shot",
          "shot",
          "shot",
          "shot",
          "shot",
          "shot",
          "shot",
          "shot",
          "shot",
          "shot",
          "shot",
          "shot",
          "shot",
          "shot",
          "shot",
          "shot",
          "shot",
          "shot",
          "shot",
          "shot",
          "shot",
          "shot",
          "shot",
          "shot",
          "shot",
          "shot",
          "shot",
          "shot",
          "shot",
          "shot",
          "shot",
          "shot",
          "shot",
          "shot",
          "shot",
          "shot",
          "shot",
          "shot",
          "shot",
          "shot",
          "shot",
          "shot",
          "shot",
          "shot",
          "shot",
          "shot",
          "shot",
          "shot",
          "shot",
          "shot",
          "shot",
          "shot",
          "shot",
          "shot",
          "shot",
          "shot",
          "shot",
          "shot",
          "shot",
          "shot",
          "shot",
          "shot",
          "shot",
          "shot",
          "shot",
          "shot",
          "shot",
          "shot",
          "shot",
          "shot",
          "shot",
          "shot",
          "shot",
          "shot",
          "shot",
          "shot",
          "shot",
          "shot",
          "shot",
          "shot",
          "shot",
          "shot",
          "shot",
          "shot",
          "shot",
          "shot",
          "shot",
          "shot",
          "shot",
          "shot",
          "shot",
          "shot",
          "shot",
          "shot",
          "shot",
          "shot",
          "shot",
          "shot",
          "shot",
          "shot",
          "shot",
          "shot",
          "shot",
          "shot",
          "shot",
          "shot",
          "shot",
          "shot",
          "shot",
          "shot",
          "shot",
          "shot",
          "shot",
          "shot",
          "shot",
          "shot",
          "shot",
          "shot",
          "shot",
          "shot",
          "shot",
          "shot",
          "shot",
          "shot",
          "shot",
          "shot",
          "shot",
          "shot",
          "shot",
          "shot",
          "shot",
          "shot",
          "shot",
          "shot",
          "shot",
          "shot",
          "shot",
          "shot",
          "shot",
          "shot",
          "shot",
          "shot",
          "shot",
          "shot",
          "shot",
          "shot",
          "shot",
          "shot",
          "shot",
          "shot",
          "shot",
          "shot",
          "shot",
          "shot",
          "shot",
          "shot",
          "shot",
          "shot",
          "shot",
          "shot",
          "shot",
          "shot",
          "shot",
          "shot",
          "shot",
          "shot",
          "shot",
          "shot",
          "shot",
          "shot",
          "shot",
          "shot",
          "shot",
          "shot",
          "shot",
          "shot",
          "shot",
          "shot",
          "shot",
          "shot",
          "shot",
          "shot",
          "shot",
          "shot",
          "shot",
          "shot",
          "shot",
          "shot",
          "shot",
          "shot",
          "shot",
          "shot",
          "shot",
          "shot",
          "shot",
          "shot",
          "shot",
          "shot",
          "shot",
          "shot",
          "shot",
          "shot",
          "shot",
          "shot",
          "shot",
          "shot",
          "shot",
          "shot",
          "shot",
          "shot",
          "shot",
          "shot",
          "shot",
          "shot",
          "shot",
          "shot",
          "shot",
          "shot",
          "shot",
          "shot",
          "shot",
          "shot",
          "shot",
          "shot",
          "shot",
          "shot",
          "shot",
          "shot",
          "shot",
          "shot",
          "shot",
          "shot",
          "shot",
          "shot",
          "shot",
          "shot",
          "shot",
          "shot",
          "shot",
          "shot",
          "shot",
          "shot",
          "shot",
          "shot",
          "shot",
          "shot",
          "shot",
          "shot",
          "shot",
          "shot",
          "shot",
          "shot",
          "shot",
          "shot",
          "shot",
          "shot",
          "shot",
          "shot",
          "shot",
          "shot",
          "shot",
          "shot",
          "shot",
          "shot",
          "shot",
          "shot",
          "shot",
          "shot",
          "shot",
          "shot",
          "shot",
          "shot",
          "shot",
          "shot",
          "shot",
          "shot",
          "shot",
          "shot",
          "shot",
          "shot",
          "shot",
          "shot",
          "shot",
          "shot",
          "shot",
          "shot",
          "shot",
          "shot",
          "shot",
          "shot",
          "shot",
          "shot",
          "shot",
          "shot",
          "shot",
          "shot",
          "shot",
          "shot",
          "shot",
          "shot",
          "shot",
          "shot",
          "shot",
          "shot",
          "shot",
          "shot",
          "shot",
          "shot",
          "shot",
          "shot",
          "shot",
          "shot",
          "shot",
          "shot",
          "shot",
          "shot",
          "shot",
          "shot",
          "shot",
          "shot",
          "shot",
          "shot",
          "shot",
          "shot",
          "shot",
          "shot",
          "shot",
          "shot",
          "shot",
          "shot",
          "shot",
          "shot",
          "shot",
          "shot",
          "shot",
          "shot",
          "shot",
          "shot",
          "shot",
          "shot",
          "shot",
          "shot",
          "shot",
          "shot",
          "shot",
          "shot",
          "shot",
          "shot",
          "shot",
          "shot",
          "shot",
          "shot",
          "shot",
          "shot",
          "shot",
          "shot",
          "shot",
          "shot",
          "shot",
          "shot",
          "shot",
          "shot",
          "shot",
          "shot",
          "shot",
          "shot",
          "shot",
          "shot",
          "shot",
          "shot",
          "shot",
          "shot",
          "shot",
          "shot",
          "shot",
          "shot",
          "shot",
          "shot",
          "shot",
          "shot",
          "shot",
          "shot",
          "shot",
          "shot",
          "shot",
          "shot",
          "shot",
          "shot",
          "shot",
          "shot",
          "shot",
          "shot",
          "shot",
          "shot",
          "shot",
          "shot",
          "shot",
          "shot",
          "shot",
          "shot",
          "shot",
          "shot",
          "shot",
          "shot",
          "shot",
          "shot",
          "shot",
          "shot",
          "shot",
          "shot",
          "shot",
          "shot",
          "shot",
          "shot",
          "shot",
          "shot",
          "shot",
          "shot",
          "shot",
          "shot",
          "shot",
          "shot",
          "shot",
          "shot",
          "shot",
          "shot",
          "shot",
          "shot",
          "shot",
          "shot",
          "shot",
          "shot",
          "shot",
          "shot",
          "shot",
          "shot",
          "shot",
          "shot",
          "shot",
          "shot",
          "shot",
          "shot",
          "shot",
          "shot",
          "shot",
          "shot",
          "shot",
          "shot",
          "shot",
          "shot",
          "shot",
          "shot",
          "shot",
          "shot",
          "shot",
          "shot",
          "shot",
          "shot",
          "shot",
          "shot",
          "shot",
          "shot",
          "shot",
          "shot",
          "shot",
          "shot",
          "shot",
          "shot",
          "shot",
          "shot",
          "shot",
          "shot",
          "shot",
          "shot",
          "shot",
          "shot",
          "shot",
          "shot",
          "shot",
          "shot",
          "shot",
          "shot",
          "shot",
          "shot",
          "shot",
          "shot",
          "shot",
          "shot",
          "shot",
          "shot",
          "shot",
          "shot",
          "shot",
          "shot",
          "shot",
          "shot",
          "shot",
          "shot",
          "shot",
          "shot",
          "shot",
          "shot",
          "shot",
          "shot",
          "shot",
          "shot",
          "shot",
          "shot",
          "shot",
          "shot",
          "shot",
          "shot",
          "shot",
          "shot",
          "shot",
          "shot",
          "shot",
          "shot",
          "shot",
          "shot",
          "shot",
          "shot",
          "shot",
          "shot",
          "shot",
          "shot",
          "shot",
          "shot",
          "shot",
          "shot",
          "shot",
          "shot",
          "shot",
          "shot",
          "shot",
          "shot",
          "shot",
          "shot",
          "shot",
          "shot",
          "shot",
          "shot",
          "shot",
          "shot",
          "shot",
          "shot",
          "shot",
          "shot",
          "shot",
          "shot",
          "shot",
          "shot",
          "shot",
          "shot",
          "shot",
          "shot",
          "shot",
          "shot",
          "shot",
          "shot",
          "shot",
          "shot",
          "shot",
          "shot",
          "shot",
          "shot",
          "shot",
          "shot",
          "shot",
          "shot",
          "shot",
          "shot",
          "shot",
          "shot",
          "shot",
          "shot",
          "shot",
          "shot",
          "shot",
          "shot",
          "shot",
          "shot",
          "shot",
          "shot",
          "shot",
          "shot",
          "shot",
          "shot",
          "shot",
          "shot",
          "shot",
          "shot",
          "shot",
          "shot",
          "shot",
          "shot",
          "shot",
          "shot",
          "shot",
          "shot",
          "shot",
          "shot",
          "shot",
          "shot",
          "shot",
          "shot",
          "shot",
          "shot",
          "shot",
          "shot",
          "shot",
          "shot",
          "shot",
          "shot",
          "shot",
          "shot",
          "shot",
          "shot",
          "shot",
          "shot",
          "shot",
          "shot",
          "shot",
          "shot",
          "shot",
          "shot",
          "shot",
          "shot",
          "shot",
          "shot",
          "shot",
          "shot",
          "shot",
          "shot",
          "shot",
          "shot",
          "shot",
          "shot",
          "shot",
          "shot",
          "shot",
          "shot",
          "shot",
          "shot",
          "shot",
          "shot",
          "shot",
          "shot",
          "shot",
          "shot",
          "shot",
          "shot",
          "shot",
          "shot",
          "shot",
          "shot",
          "shot",
          "shot",
          "shot",
          "shot",
          "shot",
          "shot",
          "shot",
          "shot",
          "shot",
          "shot",
          "shot",
          "shot",
          "shot",
          "shot",
          "shot",
          "shot",
          "shot",
          "shot",
          "shot",
          "shot",
          "shot",
          "shot",
          "shot",
          "shot",
          "shot",
          "shot",
          "shot",
          "shot",
          "shot",
          "shot",
          "shot",
          "shot",
          "shot",
          "shot",
          "shot",
          "shot",
          "shot",
          "shot",
          "shot",
          "shot",
          "shot",
          "shot",
          "shot",
          "shot",
          "shot",
          "shot",
          "shot",
          "shot",
          "shot",
          "shot",
          "shot",
          "shot",
          "shot",
          "shot",
          "shot",
          "shot",
          "shot",
          "shot",
          "shot",
          "shot",
          "shot",
          "shot",
          "shot",
          "shot",
          "shot",
          "shot",
          "shot",
          "shot",
          "shot",
          "shot",
          "shot",
          "shot",
          "shot",
          "shot",
          "shot",
          "shot",
          "shot",
          "shot",
          "shot",
          "shot",
          "shot",
          "shot",
          "shot",
          "shot",
          "shot",
          "shot",
          "shot",
          "shot",
          "shot",
          "shot",
          "shot",
          "shot",
          "shot",
          "shot",
          "shot",
          "shot",
          "shot",
          "shot",
          "shot",
          "shot",
          "shot",
          "shot",
          "shot",
          "shot",
          "shot",
          "shot",
          "shot",
          "shot",
          "shot",
          "shot",
          "shot",
          "shot",
          "shot",
          "shot",
          "shot",
          "shot",
          "shot",
          "shot",
          "shot",
          "shot",
          "shot",
          "shot",
          "shot",
          "shot",
          "shot",
          "shot",
          "shot",
          "shot",
          "shot",
          "shot",
          "shot",
          "shot",
          "shot",
          "shot",
          "shot",
          "shot",
          "shot",
          "shot",
          "shot",
          "shot",
          "shot",
          "shot",
          "shot",
          "shot",
          "shot",
          "shot",
          "shot",
          "shot",
          "shot",
          "shot",
          "shot",
          "shot",
          "shot",
          "shot",
          "shot",
          "shot",
          "shot",
          "shot",
          "shot",
          "shot",
          "shot",
          "shot",
          "shot",
          "shot",
          "shot",
          "shot",
          "shot",
          "shot",
          "shot",
          "shot",
          "shot",
          "shot",
          "shot",
          "shot",
          "shot",
          "shot",
          "shot",
          "shot",
          "shot",
          "shot",
          "shot",
          "shot",
          "shot",
          "shot",
          "shot",
          "shot",
          "shot",
          "shot",
          "shot",
          "shot",
          "shot",
          "shot",
          "shot",
          "shot",
          "shot",
          "shot",
          "shot",
          "shot",
          "shot",
          "shot",
          "shot",
          "shot",
          "shot",
          "shot",
          "shot",
          "shot",
          "shot",
          "shot",
          "shot",
          "shot",
          "shot",
          "shot",
          "shot",
          "shot",
          "shot",
          "shot",
          "shot",
          "shot",
          "shot",
          "shot",
          "shot",
          "shot",
          "shot",
          "shot",
          "shot",
          "shot",
          "shot",
          "shot",
          "shot",
          "shot",
          "shot",
          "shot",
          "shot",
          "shot",
          "shot",
          "shot",
          "shot",
          "shot",
          "shot",
          "shot",
          "shot",
          "shot",
          "shot",
          "shot",
          "shot",
          "shot",
          "shot",
          "shot",
          "shot",
          "shot",
          "shot",
          "shot",
          "shot",
          "shot",
          "shot",
          "shot",
          "shot",
          "shot",
          "shot",
          "shot",
          "shot",
          "shot",
          "shot",
          "shot",
          "shot",
          "shot",
          "shot",
          "shot",
          "shot",
          "shot",
          "shot",
          "shot",
          "shot",
          "shot",
          "shot",
          "shot",
          "shot",
          "shot",
          "shot",
          "shot",
          "shot",
          "shot",
          "shot",
          "shot",
          "shot",
          "shot",
          "shot",
          "shot",
          "shot",
          "shot",
          "shot",
          "shot",
          "shot",
          "shot",
          "shot",
          "shot",
          "shot",
          "shot",
          "shot",
          "shot",
          "shot",
          "shot",
          "shot",
          "shot",
          "shot",
          "shot",
          "shot",
          "shot",
          "shot",
          "shot",
          "shot",
          "shot",
          "shot",
          "shot",
          "shot",
          "shot",
          "shot",
          "shot",
          "shot",
          "shot",
          "shot",
          "shot",
          "shot",
          "shot",
          "shot",
          "shot",
          "shot",
          "shot",
          "shot",
          "shot",
          "shot",
          "shot",
          "shot",
          "shot",
          "shot",
          "shot",
          "shot",
          "shot",
          "shot",
          "shot",
          "shot",
          "shot",
          "shot",
          "shot",
          "shot",
          "shot",
          "shot",
          "shot",
          "shot",
          "shot",
          "shot",
          "shot",
          "shot",
          "shot",
          "shot",
          "shot",
          "shot",
          "shot",
          "shot",
          "shot",
          "shot",
          "shot",
          "shot",
          "shot",
          "shot",
          "shot",
          "shot",
          "shot",
          "shot",
          "shot",
          "shot",
          "shot",
          "shot",
          "shot",
          "shot",
          "shot",
          "shot",
          "shot",
          "shot",
          "shot",
          "shot",
          "shot",
          "shot",
          "shot",
          "shot",
          "shot",
          "shot",
          "shot",
          "shot",
          "shot",
          "shot",
          "shot",
          "shot",
          "shot",
          "shot",
          "shot",
          "shot",
          "shot",
          "shot",
          "shot",
          "shot",
          "shot",
          "shot",
          "shot",
          "shot",
          "shot",
          "shot",
          "shot",
          "shot",
          "shot",
          "shot",
          "shot",
          "shot",
          "shot",
          "shot",
          "shot",
          "shot",
          "shot",
          "shot",
          "shot",
          "shot",
          "shot",
          "shot",
          "shot",
          "shot",
          "shot",
          "shot",
          "shot",
          "shot",
          "shot",
          "shot",
          "shot",
          "shot",
          "shot",
          "shot",
          "shot",
          "shot",
          "shot",
          "shot",
          "shot",
          "shot",
          "shot",
          "shot",
          "shot",
          "shot",
          "shot",
          "shot",
          "shot",
          "shot",
          "shot",
          "shot",
          "shot",
          "shot",
          "shot",
          "shot",
          "shot",
          "shot",
          "shot",
          "shot",
          "shot",
          "shot",
          "shot",
          "shot",
          "shot",
          "shot",
          "shot",
          "shot",
          "shot",
          "shot",
          "shot",
          "shot",
          "shot",
          "shot",
          "shot",
          "shot",
          "shot",
          "shot",
          "shot",
          "shot",
          "shot",
          "shot",
          "shot",
          "shot",
          "shot",
          "shot",
          "shot",
          "shot",
          "shot",
          "shot",
          "shot",
          "shot",
          "shot",
          "shot",
          "shot",
          "shot",
          "shot",
          "shot",
          "shot",
          "shot",
          "shot",
          "shot",
          "shot",
          "shot",
          "shot",
          "shot",
          "shot",
          "shot",
          "shot",
          "shot",
          "shot",
          "shot",
          "shot",
          "shot",
          "shot",
          "shot",
          "shot",
          "shot",
          "shot",
          "shot",
          "shot",
          "shot",
          "shot",
          "shot",
          "shot",
          "shot",
          "shot",
          "shot",
          "shot",
          "shot",
          "shot",
          "shot",
          "shot",
          "shot",
          "shot",
          "shot",
          "shot",
          "shot",
          "shot",
          "shot",
          "shot",
          "shot",
          "shot",
          "shot",
          "shot",
          "shot",
          "shot",
          "shot",
          "shot",
          "shot",
          "shot",
          "shot",
          "shot",
          "shot",
          "shot",
          "shot",
          "shot",
          "shot",
          "shot",
          "shot",
          "shot",
          "shot",
          "shot",
          "shot",
          "shot",
          "shot",
          "shot",
          "shot",
          "shot",
          "shot",
          "shot",
          "shot",
          "shot",
          "shot",
          "shot",
          "shot",
          "shot",
          "shot",
          "shot",
          "shot",
          "shot",
          "shot",
          "shot",
          "shot",
          "shot",
          "shot",
          "shot",
          "shot",
          "shot",
          "shot",
          "shot",
          "shot",
          "shot",
          "shot",
          "shot",
          "shot",
          "shot",
          "shot",
          "shot",
          "shot",
          "shot",
          "shot",
          "shot",
          "shot",
          "shot",
          "shot",
          "shot",
          "shot",
          "shot",
          "shot",
          "shot",
          "shot",
          "shot",
          "shot",
          "shot",
          "shot",
          "shot",
          "shot",
          "shot",
          "shot",
          "shot",
          "shot",
          "shot",
          "shot",
          "shot",
          "shot",
          "shot",
          "shot",
          "shot",
          "shot",
          "shot",
          "shot",
          "shot",
          "shot",
          "shot",
          "shot",
          "shot",
          "shot",
          "shot",
          "shot",
          "shot",
          "shot",
          "shot",
          "shot",
          "shot",
          "shot",
          "shot",
          "shot",
          "shot",
          "shot",
          "shot",
          "shot",
          "shot",
          "shot",
          "shot",
          "shot",
          "shot",
          "shot",
          "shot",
          "shot",
          "shot",
          "shot",
          "shot",
          "shot",
          "shot",
          "shot",
          "shot",
          "shot",
          "shot",
          "shot",
          "shot",
          "shot",
          "shot",
          "shot",
          "shot",
          "shot",
          "shot",
          "shot",
          "shot",
          "shot",
          "shot",
          "shot",
          "shot",
          "shot",
          "shot",
          "shot",
          "shot",
          "shot",
          "shot",
          "shot",
          "shot",
          "shot",
          "shot",
          "shot",
          "shot",
          "shot",
          "shot",
          "shot",
          "shot",
          "shot",
          "shot",
          "shot",
          "shot",
          "shot",
          "shot",
          "shot",
          "shot",
          "shot",
          "shot",
          "shot",
          "shot"
         ],
         "x0": " ",
         "xaxis": "x",
         "y": [
          53,
          47,
          32,
          39,
          18,
          22,
          35,
          47,
          31,
          41,
          30,
          37,
          28,
          42,
          36,
          49,
          71,
          33,
          39,
          23,
          34,
          43,
          24,
          29,
          34,
          75,
          68,
          34,
          27,
          39,
          24,
          36,
          33,
          41,
          21,
          24,
          27,
          32,
          49,
          42,
          36,
          36,
          19,
          54,
          25,
          61,
          29,
          56,
          40,
          45,
          26,
          26,
          68,
          24,
          34,
          26,
          29,
          33,
          45,
          26,
          42,
          31,
          48,
          31,
          17,
          59,
          42,
          23,
          29,
          45,
          28,
          37,
          28,
          28,
          51,
          36,
          59,
          25,
          26,
          74,
          33,
          27,
          57,
          46,
          41,
          61,
          45,
          49,
          45,
          23,
          46,
          23,
          21,
          35,
          27,
          37,
          16,
          51,
          34,
          34,
          56,
          26,
          24,
          31,
          32,
          30,
          50,
          31,
          38,
          77,
          41,
          51,
          50,
          47,
          37,
          41,
          16,
          27,
          43,
          42,
          21,
          49,
          27,
          24,
          34,
          28,
          40,
          49,
          35,
          20,
          25,
          25,
          26,
          28,
          45,
          36,
          34,
          37,
          48,
          19,
          29,
          40,
          35,
          58,
          46,
          30,
          27,
          31,
          23,
          37,
          64,
          31,
          39,
          31,
          25,
          54,
          53,
          37,
          35,
          59,
          36,
          32,
          41,
          29,
          53,
          26,
          27,
          28,
          52,
          20,
          22,
          49,
          24,
          47,
          64,
          16,
          20,
          36,
          39,
          18,
          31,
          24,
          63,
          34,
          44,
          60,
          42,
          21,
          37,
          24,
          38,
          29,
          57,
          23,
          27,
          28,
          35,
          56,
          39,
          23,
          40,
          42,
          41,
          26,
          29,
          49,
          36,
          21,
          37,
          36,
          32,
          44,
          27,
          38,
          17,
          31,
          34,
          51,
          56,
          23,
          25,
          31,
          32,
          60,
          42,
          39,
          28,
          22,
          29,
          31,
          28,
          21,
          38,
          66,
          36,
          83,
          32,
          27,
          26,
          31,
          22,
          41,
          41,
          51,
          72,
          52,
          47,
          18,
          29,
          23,
          43,
          45,
          40,
          44,
          25,
          35,
          37,
          59,
          35,
          18,
          51,
          30,
          31,
          39,
          26,
          51,
          19,
          49,
          63,
          20,
          25,
          24,
          58,
          29,
          76,
          45,
          20,
          58,
          21,
          27,
          26,
          33,
          27,
          53,
          53,
          42,
          52,
          36,
          30,
          34,
          44,
          53,
          36,
          29,
          32,
          46,
          18,
          38,
          21,
          35,
          58,
          48,
          31,
          47,
          34,
          30,
          28,
          28,
          40,
          37,
          53,
          41,
          42,
          45,
          34,
          18,
          27,
          54,
          35,
          17,
          29,
          38,
          26,
          22,
          29,
          43,
          24,
          32,
          40,
          25,
          47,
          40,
          36,
          62,
          51,
          24,
          39,
          24,
          57,
          60,
          32,
          40,
          36,
          35,
          55,
          19,
          39,
          47,
          23,
          26,
          26,
          46,
          18,
          33,
          56,
          50,
          53,
          45,
          42,
          27,
          36,
          58,
          30,
          69,
          30,
          45,
          22,
          28,
          19,
          40,
          46,
          28,
          22,
          46,
          35,
          35,
          28,
          15,
          22,
          28,
          31,
          48,
          58,
          44,
          21,
          50,
          23,
          24,
          49,
          60,
          35,
          29,
          20,
          34,
          22,
          49,
          32,
          26,
          41,
          61,
          49,
          28,
          35,
          29,
          51,
          52,
          24,
          32,
          45,
          60,
          23,
          46,
          33,
          40,
          42,
          37,
          23,
          36,
          19,
          35,
          43,
          20,
          42,
          29,
          18,
          33,
          59,
          47,
          39,
          37,
          35,
          28,
          59,
          62,
          50,
          68,
          27,
          17,
          21,
          54,
          20,
          25,
          31,
          35,
          60,
          24,
          27,
          20,
          24,
          23,
          20,
          29,
          35,
          30,
          24,
          23,
          29,
          27,
          50,
          19,
          24,
          22,
          46,
          65,
          43,
          35,
          47,
          24,
          35,
          25,
          27,
          34,
          32,
          47,
          44,
          60,
          50,
          36,
          59,
          33,
          19,
          56,
          45,
          34,
          53,
          48,
          25,
          30,
          33,
          34,
          29,
          63,
          49,
          18,
          71,
          35,
          55,
          31,
          18,
          51,
          39,
          20,
          29,
          40,
          42,
          22,
          19,
          24,
          30,
          53,
          25,
          28,
          24,
          59,
          46,
          15,
          41,
          22,
          24,
          34,
          24,
          27,
          27,
          27,
          49,
          38,
          26,
          30,
          23,
          30,
          29,
          47,
          35,
          40,
          18,
          24,
          29,
          44,
          19,
          17,
          57,
          30,
          38,
          31,
          29,
          26,
          64,
          36,
          36,
          21,
          53,
          57,
          30,
          34,
          53,
          45,
          22,
          22,
          46,
          27,
          30,
          54,
          29,
          41,
          28,
          61,
          23,
          25,
          29,
          20,
          40,
          45,
          33,
          76,
          47,
          45,
          40,
          37,
          27,
          36,
          23,
          21,
          32,
          35,
          59,
          28,
          45,
          45,
          19,
          25,
          37,
          33,
          59,
          31,
          29,
          32,
          41,
          31,
          44,
          23,
          45,
          39,
          67,
          29,
          25,
          28,
          21,
          32,
          51,
          39,
          27,
          31,
          50,
          32,
          47,
          46,
          57,
          23,
          56,
          24,
          27,
          26,
          34,
          32,
          33,
          55,
          48,
          35,
          19,
          45,
          28,
          42,
          17,
          30,
          21,
          45,
          46,
          23,
          43,
          40,
          59,
          46,
          37,
          28,
          28,
          29,
          27,
          31,
          51,
          50,
          27,
          18,
          46,
          19,
          49,
          31,
          38,
          40,
          34,
          44,
          23,
          43,
          31,
          27,
          18,
          57,
          15,
          25,
          31,
          35,
          27,
          20,
          27,
          33,
          22,
          31,
          28,
          53,
          30,
          39,
          40,
          30,
          21,
          35,
          21,
          47,
          38,
          36,
          53,
          34,
          34,
          30,
          28,
          47,
          49,
          36,
          45,
          18,
          25,
          29,
          57,
          34,
          35,
          18,
          62,
          29,
          25,
          33,
          56,
          49,
          20,
          62,
          62,
          6,
          30,
          57,
          18,
          47,
          48,
          20,
          30,
          51,
          55,
          48,
          20,
          25,
          26,
          45,
          63,
          34,
          36,
          22,
          31,
          25,
          57,
          32,
          42,
          52,
          25,
          31,
          39,
          16,
          24,
          28,
          25,
          41,
          28,
          21,
          30,
          58,
          47,
          25,
          44,
          27,
          34,
          39,
          29,
          24,
          47,
          45,
          28,
          50,
          45,
          24,
          23,
          52,
          26,
          58,
          50,
          22,
          53,
          69,
          23,
          25,
          18,
          31,
          23,
          18,
          35,
          28,
          26,
          32,
          36,
          66,
          21,
          24,
          60,
          38,
          35,
          46,
          48,
          36,
          33,
          66,
          34,
          55,
          54,
          36,
          25,
          24,
          28,
          36,
          20,
          21,
          30,
          32,
          33,
          56,
          39,
          45,
          33,
          51,
          25,
          24,
          32,
          58,
          26,
          30,
          31,
          34,
          48,
          21,
          39,
          25,
          30,
          56,
          29,
          19,
          35,
          36,
          24,
          23,
          18,
          31,
          41,
          19,
          38,
          36,
          34,
          52,
          28,
          55,
          23,
          30,
          54,
          37,
          30,
          27,
          22,
          29,
          39,
          33,
          52,
          28,
          38,
          32,
          34,
          26,
          50,
          37,
          56,
          45,
          32,
          49,
          58,
          29,
          60,
          40,
          39,
          26,
          24,
          34,
          27,
          44,
          55,
          19,
          52,
          31,
          26,
          33,
          28,
          27,
          39,
          29,
          36,
          55,
          28,
          40,
          33,
          37,
          39,
          43,
          55,
          52,
          32,
          31,
          27,
          40,
          30,
          26,
          33,
          19,
          33,
          29,
          29,
          38,
          64,
          42,
          42,
          46,
          36,
          21,
          53,
          31,
          22,
          24,
          36,
          47,
          54,
          43,
          38,
          30,
          51,
          55,
          16,
          23,
          36,
          33,
          17,
          22,
          22,
          29,
          41,
          67,
          36,
          52,
          56,
          35,
          45,
          30,
          29,
          53,
          22,
          24,
          19,
          26,
          50,
          29,
          52,
          39,
          51,
          48,
          30,
          37,
          30,
          35,
          32,
          35,
          31,
          30,
          23,
          41,
          45,
          46,
          32,
          33,
          45,
          38,
          22,
          48,
          36,
          26,
          16,
          58,
          27,
          26,
          21,
          37,
          56,
          19,
          38,
          18,
          35,
          23,
          41,
          44,
          24,
          39,
          22,
          37,
          36,
          27,
          30,
          34,
          22,
          51,
          42,
          41,
          49,
          45,
          45,
          42,
          41,
          27,
          37,
          22,
          21,
          50,
          23,
          25,
          51,
          46,
          23,
          43,
          45,
          16,
          30,
          26,
          24,
          28,
          29,
          34,
          38,
          43,
          23,
          33,
          40,
          38,
          53,
          30,
          60,
          24,
          21,
          23,
          61,
          54,
          62,
          16,
          25,
          28,
          25,
          33,
          51,
          34,
          30,
          44,
          24,
          29,
          48,
          19,
          22,
          39,
          36,
          55,
          46,
          34,
          33,
          18,
          33,
          51,
          33,
          25,
          52,
          31,
          18,
          43,
          34,
          65,
          37,
          30,
          25,
          69,
          50,
          52,
          44,
          60,
          45,
          44,
          40,
          43,
          27,
          19,
          39,
          30,
          28,
          22,
          16,
          40,
          38,
          20,
          35,
          52,
          26,
          38,
          52,
          26,
          53,
          22,
          31,
          32,
          37,
          28,
          18,
          41,
          15,
          38,
          41,
          52,
          48,
          29,
          51,
          21,
          24,
          18,
          30,
          28,
          26,
          44,
          36,
          34,
          21,
          37,
          53,
          24,
          48,
          42,
          33,
          55,
          28,
          25,
          28,
          52,
          59,
          52,
          39,
          40,
          36,
          38,
          29,
          37,
          21,
          33,
          33,
          23,
          26,
          29,
          28,
          35,
          33,
          24,
          28,
          19,
          43,
          59,
          35,
          23,
          36,
          46,
          44,
          20,
          30,
          35,
          36,
          22,
          31,
          63,
          38,
          31,
          27,
          35,
          22,
          28,
          26,
          22,
          31,
          43,
          24,
          29,
          43,
          21,
          19,
          25,
          59,
          50,
          58,
          25,
          32,
          53,
          70,
          33,
          36,
          21,
          51,
          43,
          18,
          33,
          34,
          35,
          31,
          31,
          23,
          25,
          25,
          21,
          49,
          63,
          43,
          34,
          52,
          68,
          31,
          29,
          32,
          50,
          27,
          31,
          29,
          23,
          61,
          33,
          18,
          80,
          43,
          50,
          47,
          54,
          22,
          43,
          38,
          21,
          36,
          30,
          34,
          17,
          37,
          25,
          23,
          19,
          50,
          24,
          25,
          20,
          37,
          44,
          22,
          31,
          25,
          36,
          50,
          42,
          26,
          19,
          59,
          51,
          27,
          22,
          30,
          28,
          63,
          32,
          26,
          25,
          27,
          61,
          30,
          37,
          41,
          24,
          44,
          63,
          58,
          35,
          50,
          40,
          19,
          34,
          18,
          21,
          49,
          32,
          65,
          37,
          33,
          63,
          30,
          40,
          38,
          50,
          41,
          41,
          39,
          44,
          23,
          32,
          56,
          33,
          63,
          31,
          57,
          39,
          42,
          29,
          56,
          31,
          50,
          36,
          34,
          49,
          31,
          36,
          29,
          32,
          18,
          50,
          33,
          17,
          19,
          24,
          24,
          20,
          41,
          18,
          31,
          27,
          36,
          59,
          32,
          38,
          18,
          43,
          67,
          22,
          31,
          43,
          34,
          51,
          31,
          54,
          69,
          58,
          26,
          59,
          25,
          20,
          69,
          57,
          56,
          64,
          34,
          45,
          14,
          44,
          54,
          59,
          33,
          22,
          36,
          23,
          38,
          53,
          29,
          42,
          25,
          18,
          55,
          36,
          32,
          53,
          30,
          27,
          37,
          29,
          40,
          36,
          38,
          29,
          59,
          47,
          22,
          31,
          29,
          54,
          71,
          36,
          34,
          49,
          36,
          43,
          53,
          31,
          32,
          41,
          26,
          82,
          37,
          24,
          22,
          59,
          21,
          38,
          60,
          18,
          23,
          38,
          22,
          38,
          25,
          25,
          36,
          44,
          36,
          35,
          25,
          31,
          70,
          25,
          55,
          35,
          25,
          32,
          38,
          32,
          64,
          55,
          69,
          37,
          31,
          25,
          25,
          13,
          32,
          69,
          29,
          29,
          42,
          25,
          45,
          55,
          22,
          61,
          30,
          56,
          35,
          22,
          23,
          43,
          43,
          49,
          23,
          41,
          33,
          30,
          25,
          52,
          32,
          46,
          48,
          38,
          26,
          32,
          28,
          53,
          18,
          32,
          37,
          18,
          20,
          28,
          18,
          16,
          36,
          57,
          49,
          31,
          26,
          51,
          28,
          35,
          36,
          42,
          49,
          62,
          21,
          41,
          40,
          27,
          26,
          44,
          30,
          31,
          33,
          22,
          38,
          23,
          24,
          26,
          50,
          17,
          28,
          42,
          34,
          38,
          28,
          29,
          21,
          45,
          38,
          40,
          19,
          46,
          25,
          37,
          25,
          32,
          33,
          24,
          37,
          38,
          45,
          31,
          34,
          23,
          55,
          76,
          59,
          40,
          23,
          26,
          35,
          49,
          36,
          56,
          34,
          43,
          31,
          17,
          32,
          31,
          23,
          26,
          45,
          36,
          53,
          24,
          40,
          29,
          22,
          21,
          25,
          37,
          37,
          56,
          25,
          26,
          29,
          21,
          24,
          18,
          19,
          27,
          45,
          36,
          34,
          23,
          43,
          43,
          19,
          23,
          26,
          20,
          59,
          33,
          48,
          18,
          23,
          41,
          41,
          55,
          29,
          31,
          25,
          38,
          83,
          22,
          33,
          36,
          26,
          29,
          55,
          47,
          52,
          37,
          36,
          30,
          35,
          35,
          36,
          39,
          30,
          24,
          73,
          31,
          28,
          18,
          48,
          33,
          44,
          20,
          37,
          72,
          52,
          46,
          25,
          38,
          27,
          24,
          19,
          18,
          48,
          29,
          30,
          61,
          41,
          36,
          21,
          46,
          32,
          42,
          17,
          35,
          23,
          21,
          53,
          18,
          51,
          64,
          45,
          20,
          41,
          23,
          32,
          25,
          42,
          41,
          31,
          50,
          44,
          38,
          21,
          32,
          41,
          41,
          38,
          54,
          20,
          26,
          29,
          47,
          48,
          34,
          36,
          43,
          29,
          39,
          40,
          50,
          19,
          28,
          49,
          44,
          39,
          44,
          57,
          57,
          33,
          21,
          52,
          27,
          60,
          34,
          22,
          26,
          27,
          29,
          30,
          32,
          37,
          54,
          50,
          28,
          59,
          24,
          34,
          25,
          48,
          45,
          25,
          17,
          18,
          50,
          36,
          23,
          31,
          18,
          26,
          57,
          27,
          41,
          33,
          22,
          38,
          26,
          45,
          23,
          68,
          56,
          45,
          41,
          33,
          22,
          50,
          35,
          18,
          34,
          29,
          25,
          17,
          25,
          31,
          45,
          25,
          23,
          37,
          33,
          27,
          32,
          31,
          26,
          32,
          53,
          19,
          53,
          35,
          64,
          24,
          33,
          55,
          17,
          48,
          21,
          30,
          34,
          35,
          32,
          22,
          46,
          27,
          18,
          33,
          26,
          27,
          51,
          63,
          38,
          25,
          39,
          41,
          26,
          33,
          38,
          24,
          47,
          62,
          30,
          23,
          39,
          36,
          66,
          27,
          40,
          25,
          20,
          40,
          33,
          34,
          27,
          37,
          32,
          25,
          38,
          50,
          26,
          91,
          25,
          29,
          40,
          51,
          28,
          23,
          20,
          36,
          18,
          29,
          25,
          34,
          32,
          58,
          36,
          25,
          25,
          42,
          36,
          59,
          19,
          45,
          42,
          27,
          42,
          24,
          39,
          18,
          26,
          35,
          53,
          56,
          54,
          36,
          51,
          45,
          28,
          36,
          73,
          26,
          41,
          59,
          28,
          45,
          27,
          46,
          47,
          32,
          65,
          19,
          39,
          38,
          68,
          49,
          37,
          33,
          25,
          36,
          30,
          28,
          28,
          25,
          35,
          24,
          56,
          56,
          16,
          47,
          33,
          32,
          21,
          64,
          25,
          25,
          43,
          39,
          24,
          70,
          79,
          16,
          35,
          20,
          32,
          26,
          53,
          32,
          25,
          15,
          59,
          35,
          32,
          49,
          46,
          25,
          20,
          24,
          18,
          67,
          26,
          15,
          62,
          24,
          27,
          26,
          32,
          29,
          16,
          25,
          39,
          34,
          36,
          24,
          30,
          46,
          37,
          41,
          48,
          29,
          47,
          48,
          24,
          38,
          28,
          47,
          65,
          58,
          33,
          43,
          24,
          37,
          65,
          59,
          74,
          24,
          23,
          59,
          34,
          30,
          22,
          37,
          20,
          18,
          17,
          27,
          51,
          29,
          34,
          18,
          17,
          55,
          44,
          66,
          45,
          34,
          54,
          21,
          35,
          45,
          58,
          44,
          53,
          60,
          19,
          63,
          50,
          35,
          24,
          36,
          35,
          33,
          66,
          54,
          40,
          41,
          32,
          37,
          64,
          21,
          28,
          40,
          32,
          50,
          33,
          17,
          34,
          37,
          47,
          20,
          56,
          24,
          47,
          37,
          45,
          33,
          23,
          37,
          36,
          34,
          45,
          24,
          34,
          47,
          37,
          32,
          52,
          27,
          49,
          59,
          41,
          34,
          31,
          23,
          28,
          16,
          25,
          39,
          28,
          32
         ],
         "y0": " ",
         "yaxis": "y"
        },
        {
         "alignmentgroup": "True",
         "hovertemplate": "manner_of_death=%{x}<br>age=%{y}<extra></extra>",
         "legendgroup": "shot and Tasered",
         "marker": {
          "color": "#EF553B"
         },
         "name": "shot and Tasered",
         "notched": false,
         "offsetgroup": "shot and Tasered",
         "orientation": "v",
         "showlegend": true,
         "type": "box",
         "x": [
          "shot and Tasered",
          "shot and Tasered",
          "shot and Tasered",
          "shot and Tasered",
          "shot and Tasered",
          "shot and Tasered",
          "shot and Tasered",
          "shot and Tasered",
          "shot and Tasered",
          "shot and Tasered",
          "shot and Tasered",
          "shot and Tasered",
          "shot and Tasered",
          "shot and Tasered",
          "shot and Tasered",
          "shot and Tasered",
          "shot and Tasered",
          "shot and Tasered",
          "shot and Tasered",
          "shot and Tasered",
          "shot and Tasered",
          "shot and Tasered",
          "shot and Tasered",
          "shot and Tasered",
          "shot and Tasered",
          "shot and Tasered",
          "shot and Tasered",
          "shot and Tasered",
          "shot and Tasered",
          "shot and Tasered",
          "shot and Tasered",
          "shot and Tasered",
          "shot and Tasered",
          "shot and Tasered",
          "shot and Tasered",
          "shot and Tasered",
          "shot and Tasered",
          "shot and Tasered",
          "shot and Tasered",
          "shot and Tasered",
          "shot and Tasered",
          "shot and Tasered",
          "shot and Tasered",
          "shot and Tasered",
          "shot and Tasered",
          "shot and Tasered",
          "shot and Tasered",
          "shot and Tasered",
          "shot and Tasered",
          "shot and Tasered",
          "shot and Tasered",
          "shot and Tasered",
          "shot and Tasered",
          "shot and Tasered",
          "shot and Tasered",
          "shot and Tasered",
          "shot and Tasered",
          "shot and Tasered",
          "shot and Tasered",
          "shot and Tasered",
          "shot and Tasered",
          "shot and Tasered",
          "shot and Tasered",
          "shot and Tasered",
          "shot and Tasered",
          "shot and Tasered",
          "shot and Tasered",
          "shot and Tasered",
          "shot and Tasered",
          "shot and Tasered",
          "shot and Tasered",
          "shot and Tasered",
          "shot and Tasered",
          "shot and Tasered",
          "shot and Tasered",
          "shot and Tasered",
          "shot and Tasered",
          "shot and Tasered",
          "shot and Tasered",
          "shot and Tasered",
          "shot and Tasered",
          "shot and Tasered",
          "shot and Tasered",
          "shot and Tasered",
          "shot and Tasered",
          "shot and Tasered",
          "shot and Tasered",
          "shot and Tasered",
          "shot and Tasered",
          "shot and Tasered",
          "shot and Tasered",
          "shot and Tasered",
          "shot and Tasered",
          "shot and Tasered",
          "shot and Tasered",
          "shot and Tasered",
          "shot and Tasered",
          "shot and Tasered",
          "shot and Tasered",
          "shot and Tasered",
          "shot and Tasered",
          "shot and Tasered",
          "shot and Tasered",
          "shot and Tasered",
          "shot and Tasered",
          "shot and Tasered",
          "shot and Tasered",
          "shot and Tasered",
          "shot and Tasered",
          "shot and Tasered",
          "shot and Tasered",
          "shot and Tasered",
          "shot and Tasered",
          "shot and Tasered",
          "shot and Tasered",
          "shot and Tasered",
          "shot and Tasered",
          "shot and Tasered",
          "shot and Tasered",
          "shot and Tasered",
          "shot and Tasered",
          "shot and Tasered",
          "shot and Tasered",
          "shot and Tasered",
          "shot and Tasered",
          "shot and Tasered",
          "shot and Tasered",
          "shot and Tasered",
          "shot and Tasered",
          "shot and Tasered",
          "shot and Tasered",
          "shot and Tasered",
          "shot and Tasered",
          "shot and Tasered",
          "shot and Tasered",
          "shot and Tasered",
          "shot and Tasered",
          "shot and Tasered",
          "shot and Tasered",
          "shot and Tasered",
          "shot and Tasered",
          "shot and Tasered",
          "shot and Tasered",
          "shot and Tasered",
          "shot and Tasered",
          "shot and Tasered",
          "shot and Tasered",
          "shot and Tasered",
          "shot and Tasered"
         ],
         "x0": " ",
         "xaxis": "x",
         "y": [
          23,
          25,
          29,
          48,
          67,
          35,
          54,
          35,
          25,
          42,
          39,
          30,
          31,
          17,
          43,
          36,
          21,
          63,
          63,
          50,
          22,
          46,
          52,
          20,
          33,
          18,
          36,
          30,
          27,
          25,
          42,
          31,
          38,
          36,
          41,
          43,
          25,
          23,
          26,
          31,
          30,
          22,
          47,
          48,
          53,
          43,
          50,
          39,
          42,
          49,
          21,
          33,
          31,
          26,
          35,
          28,
          30,
          35,
          32,
          49,
          32,
          47,
          51,
          52,
          37,
          54,
          24,
          38,
          38,
          37,
          25,
          30,
          29,
          25,
          39,
          41,
          37,
          20,
          76,
          46,
          20,
          54,
          33,
          45,
          29,
          34,
          38,
          20,
          36,
          30,
          37,
          26,
          43,
          49,
          56,
          36,
          34,
          40,
          32,
          39,
          36,
          33,
          43,
          19,
          35,
          25,
          15,
          50,
          49,
          31,
          53,
          32,
          60,
          31,
          33,
          44,
          63,
          23,
          28,
          33,
          32,
          16,
          25,
          50,
          25,
          18,
          45,
          42,
          52,
          18,
          26,
          33,
          26,
          70,
          41,
          33,
          32,
          25,
          46,
          27,
          57,
          48,
          50,
          51,
          21,
          30,
          29,
          45,
          20
         ],
         "y0": " ",
         "yaxis": "y"
        }
       ],
       "layout": {
        "boxmode": "overlay",
        "legend": {
         "title": {
          "text": "manner_of_death"
         },
         "tracegroupgap": 0
        },
        "template": {
         "data": {
          "bar": [
           {
            "error_x": {
             "color": "#2a3f5f"
            },
            "error_y": {
             "color": "#2a3f5f"
            },
            "marker": {
             "line": {
              "color": "#E5ECF6",
              "width": 0.5
             },
             "pattern": {
              "fillmode": "overlay",
              "size": 10,
              "solidity": 0.2
             }
            },
            "type": "bar"
           }
          ],
          "barpolar": [
           {
            "marker": {
             "line": {
              "color": "#E5ECF6",
              "width": 0.5
             },
             "pattern": {
              "fillmode": "overlay",
              "size": 10,
              "solidity": 0.2
             }
            },
            "type": "barpolar"
           }
          ],
          "carpet": [
           {
            "aaxis": {
             "endlinecolor": "#2a3f5f",
             "gridcolor": "white",
             "linecolor": "white",
             "minorgridcolor": "white",
             "startlinecolor": "#2a3f5f"
            },
            "baxis": {
             "endlinecolor": "#2a3f5f",
             "gridcolor": "white",
             "linecolor": "white",
             "minorgridcolor": "white",
             "startlinecolor": "#2a3f5f"
            },
            "type": "carpet"
           }
          ],
          "choropleth": [
           {
            "colorbar": {
             "outlinewidth": 0,
             "ticks": ""
            },
            "type": "choropleth"
           }
          ],
          "contour": [
           {
            "colorbar": {
             "outlinewidth": 0,
             "ticks": ""
            },
            "colorscale": [
             [
              0,
              "#0d0887"
             ],
             [
              0.1111111111111111,
              "#46039f"
             ],
             [
              0.2222222222222222,
              "#7201a8"
             ],
             [
              0.3333333333333333,
              "#9c179e"
             ],
             [
              0.4444444444444444,
              "#bd3786"
             ],
             [
              0.5555555555555556,
              "#d8576b"
             ],
             [
              0.6666666666666666,
              "#ed7953"
             ],
             [
              0.7777777777777778,
              "#fb9f3a"
             ],
             [
              0.8888888888888888,
              "#fdca26"
             ],
             [
              1,
              "#f0f921"
             ]
            ],
            "type": "contour"
           }
          ],
          "contourcarpet": [
           {
            "colorbar": {
             "outlinewidth": 0,
             "ticks": ""
            },
            "type": "contourcarpet"
           }
          ],
          "heatmap": [
           {
            "colorbar": {
             "outlinewidth": 0,
             "ticks": ""
            },
            "colorscale": [
             [
              0,
              "#0d0887"
             ],
             [
              0.1111111111111111,
              "#46039f"
             ],
             [
              0.2222222222222222,
              "#7201a8"
             ],
             [
              0.3333333333333333,
              "#9c179e"
             ],
             [
              0.4444444444444444,
              "#bd3786"
             ],
             [
              0.5555555555555556,
              "#d8576b"
             ],
             [
              0.6666666666666666,
              "#ed7953"
             ],
             [
              0.7777777777777778,
              "#fb9f3a"
             ],
             [
              0.8888888888888888,
              "#fdca26"
             ],
             [
              1,
              "#f0f921"
             ]
            ],
            "type": "heatmap"
           }
          ],
          "heatmapgl": [
           {
            "colorbar": {
             "outlinewidth": 0,
             "ticks": ""
            },
            "colorscale": [
             [
              0,
              "#0d0887"
             ],
             [
              0.1111111111111111,
              "#46039f"
             ],
             [
              0.2222222222222222,
              "#7201a8"
             ],
             [
              0.3333333333333333,
              "#9c179e"
             ],
             [
              0.4444444444444444,
              "#bd3786"
             ],
             [
              0.5555555555555556,
              "#d8576b"
             ],
             [
              0.6666666666666666,
              "#ed7953"
             ],
             [
              0.7777777777777778,
              "#fb9f3a"
             ],
             [
              0.8888888888888888,
              "#fdca26"
             ],
             [
              1,
              "#f0f921"
             ]
            ],
            "type": "heatmapgl"
           }
          ],
          "histogram": [
           {
            "marker": {
             "pattern": {
              "fillmode": "overlay",
              "size": 10,
              "solidity": 0.2
             }
            },
            "type": "histogram"
           }
          ],
          "histogram2d": [
           {
            "colorbar": {
             "outlinewidth": 0,
             "ticks": ""
            },
            "colorscale": [
             [
              0,
              "#0d0887"
             ],
             [
              0.1111111111111111,
              "#46039f"
             ],
             [
              0.2222222222222222,
              "#7201a8"
             ],
             [
              0.3333333333333333,
              "#9c179e"
             ],
             [
              0.4444444444444444,
              "#bd3786"
             ],
             [
              0.5555555555555556,
              "#d8576b"
             ],
             [
              0.6666666666666666,
              "#ed7953"
             ],
             [
              0.7777777777777778,
              "#fb9f3a"
             ],
             [
              0.8888888888888888,
              "#fdca26"
             ],
             [
              1,
              "#f0f921"
             ]
            ],
            "type": "histogram2d"
           }
          ],
          "histogram2dcontour": [
           {
            "colorbar": {
             "outlinewidth": 0,
             "ticks": ""
            },
            "colorscale": [
             [
              0,
              "#0d0887"
             ],
             [
              0.1111111111111111,
              "#46039f"
             ],
             [
              0.2222222222222222,
              "#7201a8"
             ],
             [
              0.3333333333333333,
              "#9c179e"
             ],
             [
              0.4444444444444444,
              "#bd3786"
             ],
             [
              0.5555555555555556,
              "#d8576b"
             ],
             [
              0.6666666666666666,
              "#ed7953"
             ],
             [
              0.7777777777777778,
              "#fb9f3a"
             ],
             [
              0.8888888888888888,
              "#fdca26"
             ],
             [
              1,
              "#f0f921"
             ]
            ],
            "type": "histogram2dcontour"
           }
          ],
          "mesh3d": [
           {
            "colorbar": {
             "outlinewidth": 0,
             "ticks": ""
            },
            "type": "mesh3d"
           }
          ],
          "parcoords": [
           {
            "line": {
             "colorbar": {
              "outlinewidth": 0,
              "ticks": ""
             }
            },
            "type": "parcoords"
           }
          ],
          "pie": [
           {
            "automargin": true,
            "type": "pie"
           }
          ],
          "scatter": [
           {
            "fillpattern": {
             "fillmode": "overlay",
             "size": 10,
             "solidity": 0.2
            },
            "type": "scatter"
           }
          ],
          "scatter3d": [
           {
            "line": {
             "colorbar": {
              "outlinewidth": 0,
              "ticks": ""
             }
            },
            "marker": {
             "colorbar": {
              "outlinewidth": 0,
              "ticks": ""
             }
            },
            "type": "scatter3d"
           }
          ],
          "scattercarpet": [
           {
            "marker": {
             "colorbar": {
              "outlinewidth": 0,
              "ticks": ""
             }
            },
            "type": "scattercarpet"
           }
          ],
          "scattergeo": [
           {
            "marker": {
             "colorbar": {
              "outlinewidth": 0,
              "ticks": ""
             }
            },
            "type": "scattergeo"
           }
          ],
          "scattergl": [
           {
            "marker": {
             "colorbar": {
              "outlinewidth": 0,
              "ticks": ""
             }
            },
            "type": "scattergl"
           }
          ],
          "scattermapbox": [
           {
            "marker": {
             "colorbar": {
              "outlinewidth": 0,
              "ticks": ""
             }
            },
            "type": "scattermapbox"
           }
          ],
          "scatterpolar": [
           {
            "marker": {
             "colorbar": {
              "outlinewidth": 0,
              "ticks": ""
             }
            },
            "type": "scatterpolar"
           }
          ],
          "scatterpolargl": [
           {
            "marker": {
             "colorbar": {
              "outlinewidth": 0,
              "ticks": ""
             }
            },
            "type": "scatterpolargl"
           }
          ],
          "scatterternary": [
           {
            "marker": {
             "colorbar": {
              "outlinewidth": 0,
              "ticks": ""
             }
            },
            "type": "scatterternary"
           }
          ],
          "surface": [
           {
            "colorbar": {
             "outlinewidth": 0,
             "ticks": ""
            },
            "colorscale": [
             [
              0,
              "#0d0887"
             ],
             [
              0.1111111111111111,
              "#46039f"
             ],
             [
              0.2222222222222222,
              "#7201a8"
             ],
             [
              0.3333333333333333,
              "#9c179e"
             ],
             [
              0.4444444444444444,
              "#bd3786"
             ],
             [
              0.5555555555555556,
              "#d8576b"
             ],
             [
              0.6666666666666666,
              "#ed7953"
             ],
             [
              0.7777777777777778,
              "#fb9f3a"
             ],
             [
              0.8888888888888888,
              "#fdca26"
             ],
             [
              1,
              "#f0f921"
             ]
            ],
            "type": "surface"
           }
          ],
          "table": [
           {
            "cells": {
             "fill": {
              "color": "#EBF0F8"
             },
             "line": {
              "color": "white"
             }
            },
            "header": {
             "fill": {
              "color": "#C8D4E3"
             },
             "line": {
              "color": "white"
             }
            },
            "type": "table"
           }
          ]
         },
         "layout": {
          "annotationdefaults": {
           "arrowcolor": "#2a3f5f",
           "arrowhead": 0,
           "arrowwidth": 1
          },
          "autotypenumbers": "strict",
          "coloraxis": {
           "colorbar": {
            "outlinewidth": 0,
            "ticks": ""
           }
          },
          "colorscale": {
           "diverging": [
            [
             0,
             "#8e0152"
            ],
            [
             0.1,
             "#c51b7d"
            ],
            [
             0.2,
             "#de77ae"
            ],
            [
             0.3,
             "#f1b6da"
            ],
            [
             0.4,
             "#fde0ef"
            ],
            [
             0.5,
             "#f7f7f7"
            ],
            [
             0.6,
             "#e6f5d0"
            ],
            [
             0.7,
             "#b8e186"
            ],
            [
             0.8,
             "#7fbc41"
            ],
            [
             0.9,
             "#4d9221"
            ],
            [
             1,
             "#276419"
            ]
           ],
           "sequential": [
            [
             0,
             "#0d0887"
            ],
            [
             0.1111111111111111,
             "#46039f"
            ],
            [
             0.2222222222222222,
             "#7201a8"
            ],
            [
             0.3333333333333333,
             "#9c179e"
            ],
            [
             0.4444444444444444,
             "#bd3786"
            ],
            [
             0.5555555555555556,
             "#d8576b"
            ],
            [
             0.6666666666666666,
             "#ed7953"
            ],
            [
             0.7777777777777778,
             "#fb9f3a"
            ],
            [
             0.8888888888888888,
             "#fdca26"
            ],
            [
             1,
             "#f0f921"
            ]
           ],
           "sequentialminus": [
            [
             0,
             "#0d0887"
            ],
            [
             0.1111111111111111,
             "#46039f"
            ],
            [
             0.2222222222222222,
             "#7201a8"
            ],
            [
             0.3333333333333333,
             "#9c179e"
            ],
            [
             0.4444444444444444,
             "#bd3786"
            ],
            [
             0.5555555555555556,
             "#d8576b"
            ],
            [
             0.6666666666666666,
             "#ed7953"
            ],
            [
             0.7777777777777778,
             "#fb9f3a"
            ],
            [
             0.8888888888888888,
             "#fdca26"
            ],
            [
             1,
             "#f0f921"
            ]
           ]
          },
          "colorway": [
           "#636efa",
           "#EF553B",
           "#00cc96",
           "#ab63fa",
           "#FFA15A",
           "#19d3f3",
           "#FF6692",
           "#B6E880",
           "#FF97FF",
           "#FECB52"
          ],
          "font": {
           "color": "#2a3f5f"
          },
          "geo": {
           "bgcolor": "white",
           "lakecolor": "white",
           "landcolor": "#E5ECF6",
           "showlakes": true,
           "showland": true,
           "subunitcolor": "white"
          },
          "hoverlabel": {
           "align": "left"
          },
          "hovermode": "closest",
          "mapbox": {
           "style": "light"
          },
          "paper_bgcolor": "white",
          "plot_bgcolor": "#E5ECF6",
          "polar": {
           "angularaxis": {
            "gridcolor": "white",
            "linecolor": "white",
            "ticks": ""
           },
           "bgcolor": "#E5ECF6",
           "radialaxis": {
            "gridcolor": "white",
            "linecolor": "white",
            "ticks": ""
           }
          },
          "scene": {
           "xaxis": {
            "backgroundcolor": "#E5ECF6",
            "gridcolor": "white",
            "gridwidth": 2,
            "linecolor": "white",
            "showbackground": true,
            "ticks": "",
            "zerolinecolor": "white"
           },
           "yaxis": {
            "backgroundcolor": "#E5ECF6",
            "gridcolor": "white",
            "gridwidth": 2,
            "linecolor": "white",
            "showbackground": true,
            "ticks": "",
            "zerolinecolor": "white"
           },
           "zaxis": {
            "backgroundcolor": "#E5ECF6",
            "gridcolor": "white",
            "gridwidth": 2,
            "linecolor": "white",
            "showbackground": true,
            "ticks": "",
            "zerolinecolor": "white"
           }
          },
          "shapedefaults": {
           "line": {
            "color": "#2a3f5f"
           }
          },
          "ternary": {
           "aaxis": {
            "gridcolor": "white",
            "linecolor": "white",
            "ticks": ""
           },
           "baxis": {
            "gridcolor": "white",
            "linecolor": "white",
            "ticks": ""
           },
           "bgcolor": "#E5ECF6",
           "caxis": {
            "gridcolor": "white",
            "linecolor": "white",
            "ticks": ""
           }
          },
          "title": {
           "x": 0.05
          },
          "xaxis": {
           "automargin": true,
           "gridcolor": "white",
           "linecolor": "white",
           "ticks": "",
           "title": {
            "standoff": 15
           },
           "zerolinecolor": "white",
           "zerolinewidth": 2
          },
          "yaxis": {
           "automargin": true,
           "gridcolor": "white",
           "linecolor": "white",
           "ticks": "",
           "title": {
            "standoff": 15
           },
           "zerolinecolor": "white",
           "zerolinewidth": 2
          }
         }
        },
        "title": {
         "text": "Age and Manner of Death (Male)"
        },
        "xaxis": {
         "anchor": "y",
         "categoryarray": [
          "shot",
          "shot and Tasered"
         ],
         "categoryorder": "array",
         "domain": [
          0,
          1
         ],
         "title": {
          "text": "manner_of_death"
         }
        },
        "yaxis": {
         "anchor": "x",
         "domain": [
          0,
          1
         ],
         "title": {
          "text": "age"
         }
        }
       }
      }
     },
     "metadata": {},
     "output_type": "display_data"
    }
   ],
   "source": [
    "px.box(\n",
    "    df_fatalities[df_fatalities['gender']=='M'],\n",
    "    x='manner_of_death',\n",
    "    y='age',\n",
    "    color='manner_of_death',\n",
    "    title = 'Age and Manner of Death (Male)'\n",
    ")"
   ]
  },
  {
   "cell_type": "code",
   "execution_count": 84,
   "metadata": {
    "ExecuteTime": {
     "end_time": "2023-07-17T14:04:47.395358400Z",
     "start_time": "2023-07-17T14:04:46.989041200Z"
    },
    "id": "tpPq4uFc2sql"
   },
   "outputs": [
    {
     "data": {
      "application/vnd.plotly.v1+json": {
       "config": {
        "plotlyServerURL": "https://plot.ly"
       },
       "data": [
        {
         "alignmentgroup": "True",
         "hovertemplate": "manner_of_death=%{x}<br>age=%{y}<extra></extra>",
         "legendgroup": "shot",
         "marker": {
          "color": "#636efa"
         },
         "name": "shot",
         "notched": false,
         "offsetgroup": "shot",
         "orientation": "v",
         "showlegend": true,
         "type": "box",
         "x": [
          "shot",
          "shot",
          "shot",
          "shot",
          "shot",
          "shot",
          "shot",
          "shot",
          "shot",
          "shot",
          "shot",
          "shot",
          "shot",
          "shot",
          "shot",
          "shot",
          "shot",
          "shot",
          "shot",
          "shot",
          "shot",
          "shot",
          "shot",
          "shot",
          "shot",
          "shot",
          "shot",
          "shot",
          "shot",
          "shot",
          "shot",
          "shot",
          "shot",
          "shot",
          "shot",
          "shot",
          "shot",
          "shot",
          "shot",
          "shot",
          "shot",
          "shot",
          "shot",
          "shot",
          "shot",
          "shot",
          "shot",
          "shot",
          "shot",
          "shot",
          "shot",
          "shot",
          "shot",
          "shot",
          "shot",
          "shot",
          "shot",
          "shot",
          "shot",
          "shot",
          "shot",
          "shot",
          "shot",
          "shot",
          "shot",
          "shot",
          "shot",
          "shot",
          "shot",
          "shot",
          "shot",
          "shot",
          "shot",
          "shot",
          "shot",
          "shot",
          "shot",
          "shot",
          "shot",
          "shot",
          "shot",
          "shot",
          "shot",
          "shot",
          "shot",
          "shot",
          "shot",
          "shot",
          "shot"
         ],
         "x0": " ",
         "xaxis": "x",
         "y": [
          34,
          17,
          39,
          38,
          43,
          20,
          34,
          28,
          37,
          43,
          24,
          49,
          53,
          26,
          27,
          46,
          25,
          31,
          45,
          17,
          40,
          44,
          28,
          23,
          37,
          55,
          46,
          50,
          21,
          36,
          37,
          27,
          61,
          51,
          48,
          22,
          50,
          45,
          12,
          25,
          31,
          32,
          41,
          32,
          36,
          31,
          38,
          38,
          25,
          27,
          50,
          36,
          40,
          25,
          35,
          60,
          24,
          26,
          29,
          42,
          24,
          40,
          23,
          35,
          46,
          53,
          26,
          66,
          23,
          25,
          39,
          31,
          44,
          53,
          71,
          21,
          30,
          33,
          46,
          59,
          21,
          17,
          50,
          27,
          41,
          30,
          29,
          50,
          40
         ],
         "y0": " ",
         "yaxis": "y"
        },
        {
         "alignmentgroup": "True",
         "hovertemplate": "manner_of_death=%{x}<br>age=%{y}<extra></extra>",
         "legendgroup": "shot and Tasered",
         "marker": {
          "color": "#EF553B"
         },
         "name": "shot and Tasered",
         "notched": false,
         "offsetgroup": "shot and Tasered",
         "orientation": "v",
         "showlegend": true,
         "type": "box",
         "x": [
          "shot and Tasered",
          "shot and Tasered",
          "shot and Tasered",
          "shot and Tasered",
          "shot and Tasered"
         ],
         "x0": " ",
         "xaxis": "x",
         "y": [
          17,
          39,
          30,
          37,
          55
         ],
         "y0": " ",
         "yaxis": "y"
        }
       ],
       "layout": {
        "boxmode": "overlay",
        "legend": {
         "title": {
          "text": "manner_of_death"
         },
         "tracegroupgap": 0
        },
        "template": {
         "data": {
          "bar": [
           {
            "error_x": {
             "color": "#2a3f5f"
            },
            "error_y": {
             "color": "#2a3f5f"
            },
            "marker": {
             "line": {
              "color": "#E5ECF6",
              "width": 0.5
             },
             "pattern": {
              "fillmode": "overlay",
              "size": 10,
              "solidity": 0.2
             }
            },
            "type": "bar"
           }
          ],
          "barpolar": [
           {
            "marker": {
             "line": {
              "color": "#E5ECF6",
              "width": 0.5
             },
             "pattern": {
              "fillmode": "overlay",
              "size": 10,
              "solidity": 0.2
             }
            },
            "type": "barpolar"
           }
          ],
          "carpet": [
           {
            "aaxis": {
             "endlinecolor": "#2a3f5f",
             "gridcolor": "white",
             "linecolor": "white",
             "minorgridcolor": "white",
             "startlinecolor": "#2a3f5f"
            },
            "baxis": {
             "endlinecolor": "#2a3f5f",
             "gridcolor": "white",
             "linecolor": "white",
             "minorgridcolor": "white",
             "startlinecolor": "#2a3f5f"
            },
            "type": "carpet"
           }
          ],
          "choropleth": [
           {
            "colorbar": {
             "outlinewidth": 0,
             "ticks": ""
            },
            "type": "choropleth"
           }
          ],
          "contour": [
           {
            "colorbar": {
             "outlinewidth": 0,
             "ticks": ""
            },
            "colorscale": [
             [
              0,
              "#0d0887"
             ],
             [
              0.1111111111111111,
              "#46039f"
             ],
             [
              0.2222222222222222,
              "#7201a8"
             ],
             [
              0.3333333333333333,
              "#9c179e"
             ],
             [
              0.4444444444444444,
              "#bd3786"
             ],
             [
              0.5555555555555556,
              "#d8576b"
             ],
             [
              0.6666666666666666,
              "#ed7953"
             ],
             [
              0.7777777777777778,
              "#fb9f3a"
             ],
             [
              0.8888888888888888,
              "#fdca26"
             ],
             [
              1,
              "#f0f921"
             ]
            ],
            "type": "contour"
           }
          ],
          "contourcarpet": [
           {
            "colorbar": {
             "outlinewidth": 0,
             "ticks": ""
            },
            "type": "contourcarpet"
           }
          ],
          "heatmap": [
           {
            "colorbar": {
             "outlinewidth": 0,
             "ticks": ""
            },
            "colorscale": [
             [
              0,
              "#0d0887"
             ],
             [
              0.1111111111111111,
              "#46039f"
             ],
             [
              0.2222222222222222,
              "#7201a8"
             ],
             [
              0.3333333333333333,
              "#9c179e"
             ],
             [
              0.4444444444444444,
              "#bd3786"
             ],
             [
              0.5555555555555556,
              "#d8576b"
             ],
             [
              0.6666666666666666,
              "#ed7953"
             ],
             [
              0.7777777777777778,
              "#fb9f3a"
             ],
             [
              0.8888888888888888,
              "#fdca26"
             ],
             [
              1,
              "#f0f921"
             ]
            ],
            "type": "heatmap"
           }
          ],
          "heatmapgl": [
           {
            "colorbar": {
             "outlinewidth": 0,
             "ticks": ""
            },
            "colorscale": [
             [
              0,
              "#0d0887"
             ],
             [
              0.1111111111111111,
              "#46039f"
             ],
             [
              0.2222222222222222,
              "#7201a8"
             ],
             [
              0.3333333333333333,
              "#9c179e"
             ],
             [
              0.4444444444444444,
              "#bd3786"
             ],
             [
              0.5555555555555556,
              "#d8576b"
             ],
             [
              0.6666666666666666,
              "#ed7953"
             ],
             [
              0.7777777777777778,
              "#fb9f3a"
             ],
             [
              0.8888888888888888,
              "#fdca26"
             ],
             [
              1,
              "#f0f921"
             ]
            ],
            "type": "heatmapgl"
           }
          ],
          "histogram": [
           {
            "marker": {
             "pattern": {
              "fillmode": "overlay",
              "size": 10,
              "solidity": 0.2
             }
            },
            "type": "histogram"
           }
          ],
          "histogram2d": [
           {
            "colorbar": {
             "outlinewidth": 0,
             "ticks": ""
            },
            "colorscale": [
             [
              0,
              "#0d0887"
             ],
             [
              0.1111111111111111,
              "#46039f"
             ],
             [
              0.2222222222222222,
              "#7201a8"
             ],
             [
              0.3333333333333333,
              "#9c179e"
             ],
             [
              0.4444444444444444,
              "#bd3786"
             ],
             [
              0.5555555555555556,
              "#d8576b"
             ],
             [
              0.6666666666666666,
              "#ed7953"
             ],
             [
              0.7777777777777778,
              "#fb9f3a"
             ],
             [
              0.8888888888888888,
              "#fdca26"
             ],
             [
              1,
              "#f0f921"
             ]
            ],
            "type": "histogram2d"
           }
          ],
          "histogram2dcontour": [
           {
            "colorbar": {
             "outlinewidth": 0,
             "ticks": ""
            },
            "colorscale": [
             [
              0,
              "#0d0887"
             ],
             [
              0.1111111111111111,
              "#46039f"
             ],
             [
              0.2222222222222222,
              "#7201a8"
             ],
             [
              0.3333333333333333,
              "#9c179e"
             ],
             [
              0.4444444444444444,
              "#bd3786"
             ],
             [
              0.5555555555555556,
              "#d8576b"
             ],
             [
              0.6666666666666666,
              "#ed7953"
             ],
             [
              0.7777777777777778,
              "#fb9f3a"
             ],
             [
              0.8888888888888888,
              "#fdca26"
             ],
             [
              1,
              "#f0f921"
             ]
            ],
            "type": "histogram2dcontour"
           }
          ],
          "mesh3d": [
           {
            "colorbar": {
             "outlinewidth": 0,
             "ticks": ""
            },
            "type": "mesh3d"
           }
          ],
          "parcoords": [
           {
            "line": {
             "colorbar": {
              "outlinewidth": 0,
              "ticks": ""
             }
            },
            "type": "parcoords"
           }
          ],
          "pie": [
           {
            "automargin": true,
            "type": "pie"
           }
          ],
          "scatter": [
           {
            "fillpattern": {
             "fillmode": "overlay",
             "size": 10,
             "solidity": 0.2
            },
            "type": "scatter"
           }
          ],
          "scatter3d": [
           {
            "line": {
             "colorbar": {
              "outlinewidth": 0,
              "ticks": ""
             }
            },
            "marker": {
             "colorbar": {
              "outlinewidth": 0,
              "ticks": ""
             }
            },
            "type": "scatter3d"
           }
          ],
          "scattercarpet": [
           {
            "marker": {
             "colorbar": {
              "outlinewidth": 0,
              "ticks": ""
             }
            },
            "type": "scattercarpet"
           }
          ],
          "scattergeo": [
           {
            "marker": {
             "colorbar": {
              "outlinewidth": 0,
              "ticks": ""
             }
            },
            "type": "scattergeo"
           }
          ],
          "scattergl": [
           {
            "marker": {
             "colorbar": {
              "outlinewidth": 0,
              "ticks": ""
             }
            },
            "type": "scattergl"
           }
          ],
          "scattermapbox": [
           {
            "marker": {
             "colorbar": {
              "outlinewidth": 0,
              "ticks": ""
             }
            },
            "type": "scattermapbox"
           }
          ],
          "scatterpolar": [
           {
            "marker": {
             "colorbar": {
              "outlinewidth": 0,
              "ticks": ""
             }
            },
            "type": "scatterpolar"
           }
          ],
          "scatterpolargl": [
           {
            "marker": {
             "colorbar": {
              "outlinewidth": 0,
              "ticks": ""
             }
            },
            "type": "scatterpolargl"
           }
          ],
          "scatterternary": [
           {
            "marker": {
             "colorbar": {
              "outlinewidth": 0,
              "ticks": ""
             }
            },
            "type": "scatterternary"
           }
          ],
          "surface": [
           {
            "colorbar": {
             "outlinewidth": 0,
             "ticks": ""
            },
            "colorscale": [
             [
              0,
              "#0d0887"
             ],
             [
              0.1111111111111111,
              "#46039f"
             ],
             [
              0.2222222222222222,
              "#7201a8"
             ],
             [
              0.3333333333333333,
              "#9c179e"
             ],
             [
              0.4444444444444444,
              "#bd3786"
             ],
             [
              0.5555555555555556,
              "#d8576b"
             ],
             [
              0.6666666666666666,
              "#ed7953"
             ],
             [
              0.7777777777777778,
              "#fb9f3a"
             ],
             [
              0.8888888888888888,
              "#fdca26"
             ],
             [
              1,
              "#f0f921"
             ]
            ],
            "type": "surface"
           }
          ],
          "table": [
           {
            "cells": {
             "fill": {
              "color": "#EBF0F8"
             },
             "line": {
              "color": "white"
             }
            },
            "header": {
             "fill": {
              "color": "#C8D4E3"
             },
             "line": {
              "color": "white"
             }
            },
            "type": "table"
           }
          ]
         },
         "layout": {
          "annotationdefaults": {
           "arrowcolor": "#2a3f5f",
           "arrowhead": 0,
           "arrowwidth": 1
          },
          "autotypenumbers": "strict",
          "coloraxis": {
           "colorbar": {
            "outlinewidth": 0,
            "ticks": ""
           }
          },
          "colorscale": {
           "diverging": [
            [
             0,
             "#8e0152"
            ],
            [
             0.1,
             "#c51b7d"
            ],
            [
             0.2,
             "#de77ae"
            ],
            [
             0.3,
             "#f1b6da"
            ],
            [
             0.4,
             "#fde0ef"
            ],
            [
             0.5,
             "#f7f7f7"
            ],
            [
             0.6,
             "#e6f5d0"
            ],
            [
             0.7,
             "#b8e186"
            ],
            [
             0.8,
             "#7fbc41"
            ],
            [
             0.9,
             "#4d9221"
            ],
            [
             1,
             "#276419"
            ]
           ],
           "sequential": [
            [
             0,
             "#0d0887"
            ],
            [
             0.1111111111111111,
             "#46039f"
            ],
            [
             0.2222222222222222,
             "#7201a8"
            ],
            [
             0.3333333333333333,
             "#9c179e"
            ],
            [
             0.4444444444444444,
             "#bd3786"
            ],
            [
             0.5555555555555556,
             "#d8576b"
            ],
            [
             0.6666666666666666,
             "#ed7953"
            ],
            [
             0.7777777777777778,
             "#fb9f3a"
            ],
            [
             0.8888888888888888,
             "#fdca26"
            ],
            [
             1,
             "#f0f921"
            ]
           ],
           "sequentialminus": [
            [
             0,
             "#0d0887"
            ],
            [
             0.1111111111111111,
             "#46039f"
            ],
            [
             0.2222222222222222,
             "#7201a8"
            ],
            [
             0.3333333333333333,
             "#9c179e"
            ],
            [
             0.4444444444444444,
             "#bd3786"
            ],
            [
             0.5555555555555556,
             "#d8576b"
            ],
            [
             0.6666666666666666,
             "#ed7953"
            ],
            [
             0.7777777777777778,
             "#fb9f3a"
            ],
            [
             0.8888888888888888,
             "#fdca26"
            ],
            [
             1,
             "#f0f921"
            ]
           ]
          },
          "colorway": [
           "#636efa",
           "#EF553B",
           "#00cc96",
           "#ab63fa",
           "#FFA15A",
           "#19d3f3",
           "#FF6692",
           "#B6E880",
           "#FF97FF",
           "#FECB52"
          ],
          "font": {
           "color": "#2a3f5f"
          },
          "geo": {
           "bgcolor": "white",
           "lakecolor": "white",
           "landcolor": "#E5ECF6",
           "showlakes": true,
           "showland": true,
           "subunitcolor": "white"
          },
          "hoverlabel": {
           "align": "left"
          },
          "hovermode": "closest",
          "mapbox": {
           "style": "light"
          },
          "paper_bgcolor": "white",
          "plot_bgcolor": "#E5ECF6",
          "polar": {
           "angularaxis": {
            "gridcolor": "white",
            "linecolor": "white",
            "ticks": ""
           },
           "bgcolor": "#E5ECF6",
           "radialaxis": {
            "gridcolor": "white",
            "linecolor": "white",
            "ticks": ""
           }
          },
          "scene": {
           "xaxis": {
            "backgroundcolor": "#E5ECF6",
            "gridcolor": "white",
            "gridwidth": 2,
            "linecolor": "white",
            "showbackground": true,
            "ticks": "",
            "zerolinecolor": "white"
           },
           "yaxis": {
            "backgroundcolor": "#E5ECF6",
            "gridcolor": "white",
            "gridwidth": 2,
            "linecolor": "white",
            "showbackground": true,
            "ticks": "",
            "zerolinecolor": "white"
           },
           "zaxis": {
            "backgroundcolor": "#E5ECF6",
            "gridcolor": "white",
            "gridwidth": 2,
            "linecolor": "white",
            "showbackground": true,
            "ticks": "",
            "zerolinecolor": "white"
           }
          },
          "shapedefaults": {
           "line": {
            "color": "#2a3f5f"
           }
          },
          "ternary": {
           "aaxis": {
            "gridcolor": "white",
            "linecolor": "white",
            "ticks": ""
           },
           "baxis": {
            "gridcolor": "white",
            "linecolor": "white",
            "ticks": ""
           },
           "bgcolor": "#E5ECF6",
           "caxis": {
            "gridcolor": "white",
            "linecolor": "white",
            "ticks": ""
           }
          },
          "title": {
           "x": 0.05
          },
          "xaxis": {
           "automargin": true,
           "gridcolor": "white",
           "linecolor": "white",
           "ticks": "",
           "title": {
            "standoff": 15
           },
           "zerolinecolor": "white",
           "zerolinewidth": 2
          },
          "yaxis": {
           "automargin": true,
           "gridcolor": "white",
           "linecolor": "white",
           "ticks": "",
           "title": {
            "standoff": 15
           },
           "zerolinecolor": "white",
           "zerolinewidth": 2
          }
         }
        },
        "title": {
         "text": "Age and Manner of Death (Female)"
        },
        "xaxis": {
         "anchor": "y",
         "categoryarray": [
          "shot",
          "shot and Tasered"
         ],
         "categoryorder": "array",
         "domain": [
          0,
          1
         ],
         "title": {
          "text": "manner_of_death"
         }
        },
        "yaxis": {
         "anchor": "x",
         "domain": [
          0,
          1
         ],
         "title": {
          "text": "age"
         }
        }
       }
      }
     },
     "metadata": {},
     "output_type": "display_data"
    }
   ],
   "source": [
    "px.box(\n",
    "    df_fatalities[df_fatalities['gender']=='F'],\n",
    "    x='manner_of_death',\n",
    "    y='age',\n",
    "    color='manner_of_death',\n",
    "    title = 'Age and Manner of Death (Female)'\n",
    ")"
   ]
  },
  {
   "cell_type": "markdown",
   "metadata": {
    "id": "h1pAgkyb3Xb0"
   },
   "source": [
    "# Were People Armed? \n",
    "\n",
    "In what percentage of police killings were people armed? Create chart that show what kind of weapon (if any) the deceased was carrying. How many of the people killed by police were armed with guns versus unarmed? "
   ]
  },
  {
   "cell_type": "code",
   "execution_count": 85,
   "metadata": {
    "ExecuteTime": {
     "end_time": "2023-07-17T14:04:47.395358400Z",
     "start_time": "2023-07-17T14:04:47.049317100Z"
    },
    "id": "0d9B3Pec4TdM"
   },
   "outputs": [
    {
     "data": {
      "text/plain": [
       "gun            1247\n",
       "knife           324\n",
       "unarmed         165\n",
       "vehicle         158\n",
       "toy weapon      102\n",
       "               ... \n",
       "chain saw         1\n",
       "garden tool       1\n",
       "pole              1\n",
       "pick-axe          1\n",
       "pen               1\n",
       "Name: armed, Length: 67, dtype: int64"
      ]
     },
     "execution_count": 85,
     "metadata": {},
     "output_type": "execute_result"
    }
   ],
   "source": [
    "armed_status = df_fatalities['armed'].value_counts()\n",
    "armed_status"
   ]
  },
  {
   "cell_type": "code",
   "execution_count": 86,
   "metadata": {
    "ExecuteTime": {
     "end_time": "2023-07-17T14:04:47.396365200Z",
     "start_time": "2023-07-17T14:04:47.065900600Z"
    },
    "id": "vdGTO3pW4Tp5"
   },
   "outputs": [
    {
     "data": {
      "text/plain": [
       "<AxesSubplot:title={'center':'Top 10 Victims armed status'}>"
      ]
     },
     "execution_count": 86,
     "metadata": {},
     "output_type": "execute_result"
    },
    {
     "data": {
      "image/png": "[encoded data removed]",
      "text/plain": [
       "<Figure size 1600x600 with 1 Axes>"
      ]
     },
     "metadata": {},
     "output_type": "display_data"
    }
   ],
   "source": [
    "armed_status[:10].plot(\n",
    "    kind='bar',\n",
    "    figsize = (16,6),\n",
    "    title = 'Top 10 Victims armed status',\n",
    "    rot=0,\n",
    ")"
   ]
  },
  {
   "cell_type": "code",
   "execution_count": 87,
   "metadata": {
    "ExecuteTime": {
     "end_time": "2023-07-17T14:04:47.396365200Z",
     "start_time": "2023-07-17T14:04:47.343416700Z"
    },
    "id": "qnO_rckl4WuJ"
   },
   "outputs": [
    {
     "data": {
      "text/plain": [
       "armed      2089\n",
       "unarmed     165\n",
       "dtype: int64"
      ]
     },
     "execution_count": 87,
     "metadata": {},
     "output_type": "execute_result"
    }
   ],
   "source": [
    "armed_vs_unarmed = pd.Series({\n",
    "    'armed':len(df_fatalities[df_fatalities['armed']!='unarmed']),\n",
    "    'unarmed':len(df_fatalities[df_fatalities['armed']=='unarmed'])\n",
    "})\n",
    "armed_vs_unarmed"
   ]
  },
  {
   "cell_type": "code",
   "execution_count": 88,
   "metadata": {
    "ExecuteTime": {
     "end_time": "2023-07-17T14:04:47.421765600Z",
     "start_time": "2023-07-17T14:04:47.359081300Z"
    },
    "collapsed": false
   },
   "outputs": [
    {
     "data": {
      "application/vnd.plotly.v1+json": {
       "config": {
        "plotlyServerURL": "https://plot.ly"
       },
       "data": [
        {
         "domain": {
          "x": [
           0,
           1
          ],
          "y": [
           0,
           1
          ]
         },
         "hovertemplate": "label=%{label}<br>value=%{value}<extra></extra>",
         "labels": [
          "armed",
          "unarmed"
         ],
         "legendgroup": "",
         "name": "",
         "showlegend": true,
         "type": "pie",
         "values": [
          2089,
          165
         ]
        }
       ],
       "layout": {
        "legend": {
         "tracegroupgap": 0
        },
        "template": {
         "data": {
          "bar": [
           {
            "error_x": {
             "color": "#2a3f5f"
            },
            "error_y": {
             "color": "#2a3f5f"
            },
            "marker": {
             "line": {
              "color": "#E5ECF6",
              "width": 0.5
             },
             "pattern": {
              "fillmode": "overlay",
              "size": 10,
              "solidity": 0.2
             }
            },
            "type": "bar"
           }
          ],
          "barpolar": [
           {
            "marker": {
             "line": {
              "color": "#E5ECF6",
              "width": 0.5
             },
             "pattern": {
              "fillmode": "overlay",
              "size": 10,
              "solidity": 0.2
             }
            },
            "type": "barpolar"
           }
          ],
          "carpet": [
           {
            "aaxis": {
             "endlinecolor": "#2a3f5f",
             "gridcolor": "white",
             "linecolor": "white",
             "minorgridcolor": "white",
             "startlinecolor": "#2a3f5f"
            },
            "baxis": {
             "endlinecolor": "#2a3f5f",
             "gridcolor": "white",
             "linecolor": "white",
             "minorgridcolor": "white",
             "startlinecolor": "#2a3f5f"
            },
            "type": "carpet"
           }
          ],
          "choropleth": [
           {
            "colorbar": {
             "outlinewidth": 0,
             "ticks": ""
            },
            "type": "choropleth"
           }
          ],
          "contour": [
           {
            "colorbar": {
             "outlinewidth": 0,
             "ticks": ""
            },
            "colorscale": [
             [
              0,
              "#0d0887"
             ],
             [
              0.1111111111111111,
              "#46039f"
             ],
             [
              0.2222222222222222,
              "#7201a8"
             ],
             [
              0.3333333333333333,
              "#9c179e"
             ],
             [
              0.4444444444444444,
              "#bd3786"
             ],
             [
              0.5555555555555556,
              "#d8576b"
             ],
             [
              0.6666666666666666,
              "#ed7953"
             ],
             [
              0.7777777777777778,
              "#fb9f3a"
             ],
             [
              0.8888888888888888,
              "#fdca26"
             ],
             [
              1,
              "#f0f921"
             ]
            ],
            "type": "contour"
           }
          ],
          "contourcarpet": [
           {
            "colorbar": {
             "outlinewidth": 0,
             "ticks": ""
            },
            "type": "contourcarpet"
           }
          ],
          "heatmap": [
           {
            "colorbar": {
             "outlinewidth": 0,
             "ticks": ""
            },
            "colorscale": [
             [
              0,
              "#0d0887"
             ],
             [
              0.1111111111111111,
              "#46039f"
             ],
             [
              0.2222222222222222,
              "#7201a8"
             ],
             [
              0.3333333333333333,
              "#9c179e"
             ],
             [
              0.4444444444444444,
              "#bd3786"
             ],
             [
              0.5555555555555556,
              "#d8576b"
             ],
             [
              0.6666666666666666,
              "#ed7953"
             ],
             [
              0.7777777777777778,
              "#fb9f3a"
             ],
             [
              0.8888888888888888,
              "#fdca26"
             ],
             [
              1,
              "#f0f921"
             ]
            ],
            "type": "heatmap"
           }
          ],
          "heatmapgl": [
           {
            "colorbar": {
             "outlinewidth": 0,
             "ticks": ""
            },
            "colorscale": [
             [
              0,
              "#0d0887"
             ],
             [
              0.1111111111111111,
              "#46039f"
             ],
             [
              0.2222222222222222,
              "#7201a8"
             ],
             [
              0.3333333333333333,
              "#9c179e"
             ],
             [
              0.4444444444444444,
              "#bd3786"
             ],
             [
              0.5555555555555556,
              "#d8576b"
             ],
             [
              0.6666666666666666,
              "#ed7953"
             ],
             [
              0.7777777777777778,
              "#fb9f3a"
             ],
             [
              0.8888888888888888,
              "#fdca26"
             ],
             [
              1,
              "#f0f921"
             ]
            ],
            "type": "heatmapgl"
           }
          ],
          "histogram": [
           {
            "marker": {
             "pattern": {
              "fillmode": "overlay",
              "size": 10,
              "solidity": 0.2
             }
            },
            "type": "histogram"
           }
          ],
          "histogram2d": [
           {
            "colorbar": {
             "outlinewidth": 0,
             "ticks": ""
            },
            "colorscale": [
             [
              0,
              "#0d0887"
             ],
             [
              0.1111111111111111,
              "#46039f"
             ],
             [
              0.2222222222222222,
              "#7201a8"
             ],
             [
              0.3333333333333333,
              "#9c179e"
             ],
             [
              0.4444444444444444,
              "#bd3786"
             ],
             [
              0.5555555555555556,
              "#d8576b"
             ],
             [
              0.6666666666666666,
              "#ed7953"
             ],
             [
              0.7777777777777778,
              "#fb9f3a"
             ],
             [
              0.8888888888888888,
              "#fdca26"
             ],
             [
              1,
              "#f0f921"
             ]
            ],
            "type": "histogram2d"
           }
          ],
          "histogram2dcontour": [
           {
            "colorbar": {
             "outlinewidth": 0,
             "ticks": ""
            },
            "colorscale": [
             [
              0,
              "#0d0887"
             ],
             [
              0.1111111111111111,
              "#46039f"
             ],
             [
              0.2222222222222222,
              "#7201a8"
             ],
             [
              0.3333333333333333,
              "#9c179e"
             ],
             [
              0.4444444444444444,
              "#bd3786"
             ],
             [
              0.5555555555555556,
              "#d8576b"
             ],
             [
              0.6666666666666666,
              "#ed7953"
             ],
             [
              0.7777777777777778,
              "#fb9f3a"
             ],
             [
              0.8888888888888888,
              "#fdca26"
             ],
             [
              1,
              "#f0f921"
             ]
            ],
            "type": "histogram2dcontour"
           }
          ],
          "mesh3d": [
           {
            "colorbar": {
             "outlinewidth": 0,
             "ticks": ""
            },
            "type": "mesh3d"
           }
          ],
          "parcoords": [
           {
            "line": {
             "colorbar": {
              "outlinewidth": 0,
              "ticks": ""
             }
            },
            "type": "parcoords"
           }
          ],
          "pie": [
           {
            "automargin": true,
            "type": "pie"
           }
          ],
          "scatter": [
           {
            "fillpattern": {
             "fillmode": "overlay",
             "size": 10,
             "solidity": 0.2
            },
            "type": "scatter"
           }
          ],
          "scatter3d": [
           {
            "line": {
             "colorbar": {
              "outlinewidth": 0,
              "ticks": ""
             }
            },
            "marker": {
             "colorbar": {
              "outlinewidth": 0,
              "ticks": ""
             }
            },
            "type": "scatter3d"
           }
          ],
          "scattercarpet": [
           {
            "marker": {
             "colorbar": {
              "outlinewidth": 0,
              "ticks": ""
             }
            },
            "type": "scattercarpet"
           }
          ],
          "scattergeo": [
           {
            "marker": {
             "colorbar": {
              "outlinewidth": 0,
              "ticks": ""
             }
            },
            "type": "scattergeo"
           }
          ],
          "scattergl": [
           {
            "marker": {
             "colorbar": {
              "outlinewidth": 0,
              "ticks": ""
             }
            },
            "type": "scattergl"
           }
          ],
          "scattermapbox": [
           {
            "marker": {
             "colorbar": {
              "outlinewidth": 0,
              "ticks": ""
             }
            },
            "type": "scattermapbox"
           }
          ],
          "scatterpolar": [
           {
            "marker": {
             "colorbar": {
              "outlinewidth": 0,
              "ticks": ""
             }
            },
            "type": "scatterpolar"
           }
          ],
          "scatterpolargl": [
           {
            "marker": {
             "colorbar": {
              "outlinewidth": 0,
              "ticks": ""
             }
            },
            "type": "scatterpolargl"
           }
          ],
          "scatterternary": [
           {
            "marker": {
             "colorbar": {
              "outlinewidth": 0,
              "ticks": ""
             }
            },
            "type": "scatterternary"
           }
          ],
          "surface": [
           {
            "colorbar": {
             "outlinewidth": 0,
             "ticks": ""
            },
            "colorscale": [
             [
              0,
              "#0d0887"
             ],
             [
              0.1111111111111111,
              "#46039f"
             ],
             [
              0.2222222222222222,
              "#7201a8"
             ],
             [
              0.3333333333333333,
              "#9c179e"
             ],
             [
              0.4444444444444444,
              "#bd3786"
             ],
             [
              0.5555555555555556,
              "#d8576b"
             ],
             [
              0.6666666666666666,
              "#ed7953"
             ],
             [
              0.7777777777777778,
              "#fb9f3a"
             ],
             [
              0.8888888888888888,
              "#fdca26"
             ],
             [
              1,
              "#f0f921"
             ]
            ],
            "type": "surface"
           }
          ],
          "table": [
           {
            "cells": {
             "fill": {
              "color": "#EBF0F8"
             },
             "line": {
              "color": "white"
             }
            },
            "header": {
             "fill": {
              "color": "#C8D4E3"
             },
             "line": {
              "color": "white"
             }
            },
            "type": "table"
           }
          ]
         },
         "layout": {
          "annotationdefaults": {
           "arrowcolor": "#2a3f5f",
           "arrowhead": 0,
           "arrowwidth": 1
          },
          "autotypenumbers": "strict",
          "coloraxis": {
           "colorbar": {
            "outlinewidth": 0,
            "ticks": ""
           }
          },
          "colorscale": {
           "diverging": [
            [
             0,
             "#8e0152"
            ],
            [
             0.1,
             "#c51b7d"
            ],
            [
             0.2,
             "#de77ae"
            ],
            [
             0.3,
             "#f1b6da"
            ],
            [
             0.4,
             "#fde0ef"
            ],
            [
             0.5,
             "#f7f7f7"
            ],
            [
             0.6,
             "#e6f5d0"
            ],
            [
             0.7,
             "#b8e186"
            ],
            [
             0.8,
             "#7fbc41"
            ],
            [
             0.9,
             "#4d9221"
            ],
            [
             1,
             "#276419"
            ]
           ],
           "sequential": [
            [
             0,
             "#0d0887"
            ],
            [
             0.1111111111111111,
             "#46039f"
            ],
            [
             0.2222222222222222,
             "#7201a8"
            ],
            [
             0.3333333333333333,
             "#9c179e"
            ],
            [
             0.4444444444444444,
             "#bd3786"
            ],
            [
             0.5555555555555556,
             "#d8576b"
            ],
            [
             0.6666666666666666,
             "#ed7953"
            ],
            [
             0.7777777777777778,
             "#fb9f3a"
            ],
            [
             0.8888888888888888,
             "#fdca26"
            ],
            [
             1,
             "#f0f921"
            ]
           ],
           "sequentialminus": [
            [
             0,
             "#0d0887"
            ],
            [
             0.1111111111111111,
             "#46039f"
            ],
            [
             0.2222222222222222,
             "#7201a8"
            ],
            [
             0.3333333333333333,
             "#9c179e"
            ],
            [
             0.4444444444444444,
             "#bd3786"
            ],
            [
             0.5555555555555556,
             "#d8576b"
            ],
            [
             0.6666666666666666,
             "#ed7953"
            ],
            [
             0.7777777777777778,
             "#fb9f3a"
            ],
            [
             0.8888888888888888,
             "#fdca26"
            ],
            [
             1,
             "#f0f921"
            ]
           ]
          },
          "colorway": [
           "#636efa",
           "#EF553B",
           "#00cc96",
           "#ab63fa",
           "#FFA15A",
           "#19d3f3",
           "#FF6692",
           "#B6E880",
           "#FF97FF",
           "#FECB52"
          ],
          "font": {
           "color": "#2a3f5f"
          },
          "geo": {
           "bgcolor": "white",
           "lakecolor": "white",
           "landcolor": "#E5ECF6",
           "showlakes": true,
           "showland": true,
           "subunitcolor": "white"
          },
          "hoverlabel": {
           "align": "left"
          },
          "hovermode": "closest",
          "mapbox": {
           "style": "light"
          },
          "paper_bgcolor": "white",
          "plot_bgcolor": "#E5ECF6",
          "polar": {
           "angularaxis": {
            "gridcolor": "white",
            "linecolor": "white",
            "ticks": ""
           },
           "bgcolor": "#E5ECF6",
           "radialaxis": {
            "gridcolor": "white",
            "linecolor": "white",
            "ticks": ""
           }
          },
          "scene": {
           "xaxis": {
            "backgroundcolor": "#E5ECF6",
            "gridcolor": "white",
            "gridwidth": 2,
            "linecolor": "white",
            "showbackground": true,
            "ticks": "",
            "zerolinecolor": "white"
           },
           "yaxis": {
            "backgroundcolor": "#E5ECF6",
            "gridcolor": "white",
            "gridwidth": 2,
            "linecolor": "white",
            "showbackground": true,
            "ticks": "",
            "zerolinecolor": "white"
           },
           "zaxis": {
            "backgroundcolor": "#E5ECF6",
            "gridcolor": "white",
            "gridwidth": 2,
            "linecolor": "white",
            "showbackground": true,
            "ticks": "",
            "zerolinecolor": "white"
           }
          },
          "shapedefaults": {
           "line": {
            "color": "#2a3f5f"
           }
          },
          "ternary": {
           "aaxis": {
            "gridcolor": "white",
            "linecolor": "white",
            "ticks": ""
           },
           "baxis": {
            "gridcolor": "white",
            "linecolor": "white",
            "ticks": ""
           },
           "bgcolor": "#E5ECF6",
           "caxis": {
            "gridcolor": "white",
            "linecolor": "white",
            "ticks": ""
           }
          },
          "title": {
           "x": 0.05
          },
          "xaxis": {
           "automargin": true,
           "gridcolor": "white",
           "linecolor": "white",
           "ticks": "",
           "title": {
            "standoff": 15
           },
           "zerolinecolor": "white",
           "zerolinewidth": 2
          },
          "yaxis": {
           "automargin": true,
           "gridcolor": "white",
           "linecolor": "white",
           "ticks": "",
           "title": {
            "standoff": 15
           },
           "zerolinecolor": "white",
           "zerolinewidth": 2
          }
         }
        },
        "title": {
         "text": "Armed vs Unarmed Percentage"
        }
       }
      }
     },
     "metadata": {},
     "output_type": "display_data"
    }
   ],
   "source": [
    "px.pie(\n",
    "    names = armed_vs_unarmed.index,\n",
    "    values = armed_vs_unarmed.values,\n",
    "    title = 'Armed vs Unarmed Percentage'\n",
    ")"
   ]
  },
  {
   "cell_type": "markdown",
   "metadata": {
    "id": "IgD2a5-L4W_I"
   },
   "source": [
    "# How Old Were the People Killed?"
   ]
  },
  {
   "cell_type": "markdown",
   "metadata": {
    "id": "BNPrdT-W9lf3"
   },
   "source": [
    "Work out what percentage of people killed were under 25 years old.  "
   ]
  },
  {
   "cell_type": "code",
   "execution_count": 89,
   "metadata": {
    "ExecuteTime": {
     "end_time": "2023-07-17T14:04:47.681339100Z",
     "start_time": "2023-07-17T14:04:47.406850300Z"
    },
    "id": "zSyDgzb542O9"
   },
   "outputs": [
    {
     "name": "stdout",
     "output_type": "stream",
     "text": [
      "18.72% of police killing victims are under the age of 25\n"
     ]
    }
   ],
   "source": [
    "under_25 = len(df_fatalities[df_fatalities['age']<25])/len(df_fatalities)*100\n",
    "print(f'{under_25:.2f}% of police killing victims are under the age of 25')"
   ]
  },
  {
   "cell_type": "markdown",
   "metadata": {
    "id": "5XrAD_ey9qBB"
   },
   "source": [
    "Create a histogram and KDE plot that shows the distribution of ages of the people killed by police. "
   ]
  },
  {
   "cell_type": "code",
   "execution_count": 90,
   "metadata": {
    "ExecuteTime": {
     "end_time": "2023-07-17T14:04:47.729633700Z",
     "start_time": "2023-07-17T14:04:47.421765600Z"
    },
    "id": "U6B1Qp7l42H8"
   },
   "outputs": [
    {
     "data": {
      "image/png": "[encoded data removed]",
      "text/plain": [
       "<Figure size 640x480 with 1 Axes>"
      ]
     },
     "metadata": {},
     "output_type": "display_data"
    }
   ],
   "source": [
    "plt.title(\"Distribution of victim's age\")\n",
    "sns.kdeplot(data=df_fatalities, x='age', fill=True)\n",
    "plt.show()"
   ]
  },
  {
   "cell_type": "markdown",
   "metadata": {
    "id": "zcqqPDo79rTx"
   },
   "source": [
    "Create a seperate KDE plot for each race. Is there a difference between the distributions? "
   ]
  },
  {
   "cell_type": "code",
   "execution_count": 91,
   "metadata": {
    "ExecuteTime": {
     "end_time": "2023-07-17T14:04:47.885751800Z",
     "start_time": "2023-07-17T14:04:47.689184800Z"
    },
    "id": "ubUnMjok43Zo"
   },
   "outputs": [
    {
     "data": {
      "image/png": "[encoded data removed]",
      "text/plain": [
       "<Figure size 640x480 with 1 Axes>"
      ]
     },
     "metadata": {},
     "output_type": "display_data"
    }
   ],
   "source": [
    "plt.title(\"Distribution of victim's age\")\n",
    "df_fatalities['age'].hist()\n",
    "plt.show()"
   ]
  },
  {
   "cell_type": "markdown",
   "metadata": {
    "id": "JkcHvMUt43uE"
   },
   "source": [
    "# Race of People Killed\n",
    "\n",
    "Create a chart that shows the total number of people killed by race. "
   ]
  },
  {
   "cell_type": "code",
   "execution_count": 92,
   "metadata": {
    "ExecuteTime": {
     "end_time": "2023-07-17T14:04:48.321612Z",
     "start_time": "2023-07-17T14:04:47.885751800Z"
    },
    "id": "e8wZvBrt5BEb"
   },
   "outputs": [
    {
     "data": {
      "image/png": "[encoded data removed]",
      "text/plain": [
       "<Figure size 1920x1200 with 1 Axes>"
      ]
     },
     "metadata": {},
     "output_type": "display_data"
    }
   ],
   "source": [
    "plt.figure(figsize=(16,10), dpi=120)\n",
    "plt.title(\"Distribution of victim's age\")\n",
    "sns.kdeplot(\n",
    "    data=df_fatalities.rename({'W':'White','B':'Black','H':'Hispanic','A':'Asian','N':'Native American','O':'Others'}),\n",
    "    x='age',\n",
    "    hue='race',\n",
    "    palette='viridis'\n",
    ")\n",
    "plt.show()"
   ]
  },
  {
   "cell_type": "markdown",
   "metadata": {
    "id": "SJaNm4rC5nWm"
   },
   "source": [
    "# Mental Illness and Police Killings\n",
    "\n",
    "What percentage of people killed by police have been diagnosed with a mental illness?"
   ]
  },
  {
   "cell_type": "code",
   "execution_count": 93,
   "metadata": {
    "ExecuteTime": {
     "end_time": "2023-07-17T14:04:48.336948800Z",
     "start_time": "2023-07-17T14:04:48.323608400Z"
    },
    "id": "dbuGvCnN5ytC"
   },
   "outputs": [],
   "source": [
    "fatalities_by_mental_illness = df_fatalities['signs_of_mental_illness'].value_counts()"
   ]
  },
  {
   "cell_type": "code",
   "execution_count": 94,
   "metadata": {
    "ExecuteTime": {
     "end_time": "2023-07-17T14:04:48.562240800Z",
     "start_time": "2023-07-17T14:04:48.336948800Z"
    },
    "id": "BsKDVLiY5CP_"
   },
   "outputs": [
    {
     "data": {
      "application/vnd.plotly.v1+json": {
       "config": {
        "plotlyServerURL": "https://plot.ly"
       },
       "data": [
        {
         "domain": {
          "x": [
           0,
           1
          ],
          "y": [
           0,
           1
          ]
         },
         "hovertemplate": "label=%{label}<br>value=%{value}<extra></extra>",
         "labels": [
          false,
          true
         ],
         "legendgroup": "",
         "name": "",
         "showlegend": true,
         "type": "pie",
         "values": [
          1681,
          573
         ]
        }
       ],
       "layout": {
        "legend": {
         "tracegroupgap": 0
        },
        "template": {
         "data": {
          "bar": [
           {
            "error_x": {
             "color": "#2a3f5f"
            },
            "error_y": {
             "color": "#2a3f5f"
            },
            "marker": {
             "line": {
              "color": "#E5ECF6",
              "width": 0.5
             },
             "pattern": {
              "fillmode": "overlay",
              "size": 10,
              "solidity": 0.2
             }
            },
            "type": "bar"
           }
          ],
          "barpolar": [
           {
            "marker": {
             "line": {
              "color": "#E5ECF6",
              "width": 0.5
             },
             "pattern": {
              "fillmode": "overlay",
              "size": 10,
              "solidity": 0.2
             }
            },
            "type": "barpolar"
           }
          ],
          "carpet": [
           {
            "aaxis": {
             "endlinecolor": "#2a3f5f",
             "gridcolor": "white",
             "linecolor": "white",
             "minorgridcolor": "white",
             "startlinecolor": "#2a3f5f"
            },
            "baxis": {
             "endlinecolor": "#2a3f5f",
             "gridcolor": "white",
             "linecolor": "white",
             "minorgridcolor": "white",
             "startlinecolor": "#2a3f5f"
            },
            "type": "carpet"
           }
          ],
          "choropleth": [
           {
            "colorbar": {
             "outlinewidth": 0,
             "ticks": ""
            },
            "type": "choropleth"
           }
          ],
          "contour": [
           {
            "colorbar": {
             "outlinewidth": 0,
             "ticks": ""
            },
            "colorscale": [
             [
              0,
              "#0d0887"
             ],
             [
              0.1111111111111111,
              "#46039f"
             ],
             [
              0.2222222222222222,
              "#7201a8"
             ],
             [
              0.3333333333333333,
              "#9c179e"
             ],
             [
              0.4444444444444444,
              "#bd3786"
             ],
             [
              0.5555555555555556,
              "#d8576b"
             ],
             [
              0.6666666666666666,
              "#ed7953"
             ],
             [
              0.7777777777777778,
              "#fb9f3a"
             ],
             [
              0.8888888888888888,
              "#fdca26"
             ],
             [
              1,
              "#f0f921"
             ]
            ],
            "type": "contour"
           }
          ],
          "contourcarpet": [
           {
            "colorbar": {
             "outlinewidth": 0,
             "ticks": ""
            },
            "type": "contourcarpet"
           }
          ],
          "heatmap": [
           {
            "colorbar": {
             "outlinewidth": 0,
             "ticks": ""
            },
            "colorscale": [
             [
              0,
              "#0d0887"
             ],
             [
              0.1111111111111111,
              "#46039f"
             ],
             [
              0.2222222222222222,
              "#7201a8"
             ],
             [
              0.3333333333333333,
              "#9c179e"
             ],
             [
              0.4444444444444444,
              "#bd3786"
             ],
             [
              0.5555555555555556,
              "#d8576b"
             ],
             [
              0.6666666666666666,
              "#ed7953"
             ],
             [
              0.7777777777777778,
              "#fb9f3a"
             ],
             [
              0.8888888888888888,
              "#fdca26"
             ],
             [
              1,
              "#f0f921"
             ]
            ],
            "type": "heatmap"
           }
          ],
          "heatmapgl": [
           {
            "colorbar": {
             "outlinewidth": 0,
             "ticks": ""
            },
            "colorscale": [
             [
              0,
              "#0d0887"
             ],
             [
              0.1111111111111111,
              "#46039f"
             ],
             [
              0.2222222222222222,
              "#7201a8"
             ],
             [
              0.3333333333333333,
              "#9c179e"
             ],
             [
              0.4444444444444444,
              "#bd3786"
             ],
             [
              0.5555555555555556,
              "#d8576b"
             ],
             [
              0.6666666666666666,
              "#ed7953"
             ],
             [
              0.7777777777777778,
              "#fb9f3a"
             ],
             [
              0.8888888888888888,
              "#fdca26"
             ],
             [
              1,
              "#f0f921"
             ]
            ],
            "type": "heatmapgl"
           }
          ],
          "histogram": [
           {
            "marker": {
             "pattern": {
              "fillmode": "overlay",
              "size": 10,
              "solidity": 0.2
             }
            },
            "type": "histogram"
           }
          ],
          "histogram2d": [
           {
            "colorbar": {
             "outlinewidth": 0,
             "ticks": ""
            },
            "colorscale": [
             [
              0,
              "#0d0887"
             ],
             [
              0.1111111111111111,
              "#46039f"
             ],
             [
              0.2222222222222222,
              "#7201a8"
             ],
             [
              0.3333333333333333,
              "#9c179e"
             ],
             [
              0.4444444444444444,
              "#bd3786"
             ],
             [
              0.5555555555555556,
              "#d8576b"
             ],
             [
              0.6666666666666666,
              "#ed7953"
             ],
             [
              0.7777777777777778,
              "#fb9f3a"
             ],
             [
              0.8888888888888888,
              "#fdca26"
             ],
             [
              1,
              "#f0f921"
             ]
            ],
            "type": "histogram2d"
           }
          ],
          "histogram2dcontour": [
           {
            "colorbar": {
             "outlinewidth": 0,
             "ticks": ""
            },
            "colorscale": [
             [
              0,
              "#0d0887"
             ],
             [
              0.1111111111111111,
              "#46039f"
             ],
             [
              0.2222222222222222,
              "#7201a8"
             ],
             [
              0.3333333333333333,
              "#9c179e"
             ],
             [
              0.4444444444444444,
              "#bd3786"
             ],
             [
              0.5555555555555556,
              "#d8576b"
             ],
             [
              0.6666666666666666,
              "#ed7953"
             ],
             [
              0.7777777777777778,
              "#fb9f3a"
             ],
             [
              0.8888888888888888,
              "#fdca26"
             ],
             [
              1,
              "#f0f921"
             ]
            ],
            "type": "histogram2dcontour"
           }
          ],
          "mesh3d": [
           {
            "colorbar": {
             "outlinewidth": 0,
             "ticks": ""
            },
            "type": "mesh3d"
           }
          ],
          "parcoords": [
           {
            "line": {
             "colorbar": {
              "outlinewidth": 0,
              "ticks": ""
             }
            },
            "type": "parcoords"
           }
          ],
          "pie": [
           {
            "automargin": true,
            "type": "pie"
           }
          ],
          "scatter": [
           {
            "fillpattern": {
             "fillmode": "overlay",
             "size": 10,
             "solidity": 0.2
            },
            "type": "scatter"
           }
          ],
          "scatter3d": [
           {
            "line": {
             "colorbar": {
              "outlinewidth": 0,
              "ticks": ""
             }
            },
            "marker": {
             "colorbar": {
              "outlinewidth": 0,
              "ticks": ""
             }
            },
            "type": "scatter3d"
           }
          ],
          "scattercarpet": [
           {
            "marker": {
             "colorbar": {
              "outlinewidth": 0,
              "ticks": ""
             }
            },
            "type": "scattercarpet"
           }
          ],
          "scattergeo": [
           {
            "marker": {
             "colorbar": {
              "outlinewidth": 0,
              "ticks": ""
             }
            },
            "type": "scattergeo"
           }
          ],
          "scattergl": [
           {
            "marker": {
             "colorbar": {
              "outlinewidth": 0,
              "ticks": ""
             }
            },
            "type": "scattergl"
           }
          ],
          "scattermapbox": [
           {
            "marker": {
             "colorbar": {
              "outlinewidth": 0,
              "ticks": ""
             }
            },
            "type": "scattermapbox"
           }
          ],
          "scatterpolar": [
           {
            "marker": {
             "colorbar": {
              "outlinewidth": 0,
              "ticks": ""
             }
            },
            "type": "scatterpolar"
           }
          ],
          "scatterpolargl": [
           {
            "marker": {
             "colorbar": {
              "outlinewidth": 0,
              "ticks": ""
             }
            },
            "type": "scatterpolargl"
           }
          ],
          "scatterternary": [
           {
            "marker": {
             "colorbar": {
              "outlinewidth": 0,
              "ticks": ""
             }
            },
            "type": "scatterternary"
           }
          ],
          "surface": [
           {
            "colorbar": {
             "outlinewidth": 0,
             "ticks": ""
            },
            "colorscale": [
             [
              0,
              "#0d0887"
             ],
             [
              0.1111111111111111,
              "#46039f"
             ],
             [
              0.2222222222222222,
              "#7201a8"
             ],
             [
              0.3333333333333333,
              "#9c179e"
             ],
             [
              0.4444444444444444,
              "#bd3786"
             ],
             [
              0.5555555555555556,
              "#d8576b"
             ],
             [
              0.6666666666666666,
              "#ed7953"
             ],
             [
              0.7777777777777778,
              "#fb9f3a"
             ],
             [
              0.8888888888888888,
              "#fdca26"
             ],
             [
              1,
              "#f0f921"
             ]
            ],
            "type": "surface"
           }
          ],
          "table": [
           {
            "cells": {
             "fill": {
              "color": "#EBF0F8"
             },
             "line": {
              "color": "white"
             }
            },
            "header": {
             "fill": {
              "color": "#C8D4E3"
             },
             "line": {
              "color": "white"
             }
            },
            "type": "table"
           }
          ]
         },
         "layout": {
          "annotationdefaults": {
           "arrowcolor": "#2a3f5f",
           "arrowhead": 0,
           "arrowwidth": 1
          },
          "autotypenumbers": "strict",
          "coloraxis": {
           "colorbar": {
            "outlinewidth": 0,
            "ticks": ""
           }
          },
          "colorscale": {
           "diverging": [
            [
             0,
             "#8e0152"
            ],
            [
             0.1,
             "#c51b7d"
            ],
            [
             0.2,
             "#de77ae"
            ],
            [
             0.3,
             "#f1b6da"
            ],
            [
             0.4,
             "#fde0ef"
            ],
            [
             0.5,
             "#f7f7f7"
            ],
            [
             0.6,
             "#e6f5d0"
            ],
            [
             0.7,
             "#b8e186"
            ],
            [
             0.8,
             "#7fbc41"
            ],
            [
             0.9,
             "#4d9221"
            ],
            [
             1,
             "#276419"
            ]
           ],
           "sequential": [
            [
             0,
             "#0d0887"
            ],
            [
             0.1111111111111111,
             "#46039f"
            ],
            [
             0.2222222222222222,
             "#7201a8"
            ],
            [
             0.3333333333333333,
             "#9c179e"
            ],
            [
             0.4444444444444444,
             "#bd3786"
            ],
            [
             0.5555555555555556,
             "#d8576b"
            ],
            [
             0.6666666666666666,
             "#ed7953"
            ],
            [
             0.7777777777777778,
             "#fb9f3a"
            ],
            [
             0.8888888888888888,
             "#fdca26"
            ],
            [
             1,
             "#f0f921"
            ]
           ],
           "sequentialminus": [
            [
             0,
             "#0d0887"
            ],
            [
             0.1111111111111111,
             "#46039f"
            ],
            [
             0.2222222222222222,
             "#7201a8"
            ],
            [
             0.3333333333333333,
             "#9c179e"
            ],
            [
             0.4444444444444444,
             "#bd3786"
            ],
            [
             0.5555555555555556,
             "#d8576b"
            ],
            [
             0.6666666666666666,
             "#ed7953"
            ],
            [
             0.7777777777777778,
             "#fb9f3a"
            ],
            [
             0.8888888888888888,
             "#fdca26"
            ],
            [
             1,
             "#f0f921"
            ]
           ]
          },
          "colorway": [
           "#636efa",
           "#EF553B",
           "#00cc96",
           "#ab63fa",
           "#FFA15A",
           "#19d3f3",
           "#FF6692",
           "#B6E880",
           "#FF97FF",
           "#FECB52"
          ],
          "font": {
           "color": "#2a3f5f"
          },
          "geo": {
           "bgcolor": "white",
           "lakecolor": "white",
           "landcolor": "#E5ECF6",
           "showlakes": true,
           "showland": true,
           "subunitcolor": "white"
          },
          "hoverlabel": {
           "align": "left"
          },
          "hovermode": "closest",
          "mapbox": {
           "style": "light"
          },
          "paper_bgcolor": "white",
          "plot_bgcolor": "#E5ECF6",
          "polar": {
           "angularaxis": {
            "gridcolor": "white",
            "linecolor": "white",
            "ticks": ""
           },
           "bgcolor": "#E5ECF6",
           "radialaxis": {
            "gridcolor": "white",
            "linecolor": "white",
            "ticks": ""
           }
          },
          "scene": {
           "xaxis": {
            "backgroundcolor": "#E5ECF6",
            "gridcolor": "white",
            "gridwidth": 2,
            "linecolor": "white",
            "showbackground": true,
            "ticks": "",
            "zerolinecolor": "white"
           },
           "yaxis": {
            "backgroundcolor": "#E5ECF6",
            "gridcolor": "white",
            "gridwidth": 2,
            "linecolor": "white",
            "showbackground": true,
            "ticks": "",
            "zerolinecolor": "white"
           },
           "zaxis": {
            "backgroundcolor": "#E5ECF6",
            "gridcolor": "white",
            "gridwidth": 2,
            "linecolor": "white",
            "showbackground": true,
            "ticks": "",
            "zerolinecolor": "white"
           }
          },
          "shapedefaults": {
           "line": {
            "color": "#2a3f5f"
           }
          },
          "ternary": {
           "aaxis": {
            "gridcolor": "white",
            "linecolor": "white",
            "ticks": ""
           },
           "baxis": {
            "gridcolor": "white",
            "linecolor": "white",
            "ticks": ""
           },
           "bgcolor": "#E5ECF6",
           "caxis": {
            "gridcolor": "white",
            "linecolor": "white",
            "ticks": ""
           }
          },
          "title": {
           "x": 0.05
          },
          "xaxis": {
           "automargin": true,
           "gridcolor": "white",
           "linecolor": "white",
           "ticks": "",
           "title": {
            "standoff": 15
           },
           "zerolinecolor": "white",
           "zerolinewidth": 2
          },
          "yaxis": {
           "automargin": true,
           "gridcolor": "white",
           "linecolor": "white",
           "ticks": "",
           "title": {
            "standoff": 15
           },
           "zerolinecolor": "white",
           "zerolinewidth": 2
          }
         }
        },
        "title": {
         "text": "Relationship between Police Killing Victims and Mental Illness"
        }
       }
      }
     },
     "metadata": {},
     "output_type": "display_data"
    }
   ],
   "source": [
    "px.pie(\n",
    "    title = 'Relationship between Police Killing Victims and Mental Illness',\n",
    "    names = fatalities_by_mental_illness.index,\n",
    "    values = fatalities_by_mental_illness.values,\n",
    ")"
   ]
  },
  {
   "cell_type": "markdown",
   "metadata": {
    "id": "R0WSPeKD5Cir"
   },
   "source": [
    "# In Which Cities Do the Most Police Killings Take Place?\n",
    "\n",
    "Create a chart ranking the top 10 cities with the most police killings. Which cities are the most dangerous?  "
   ]
  },
  {
   "cell_type": "code",
   "execution_count": 95,
   "metadata": {
    "ExecuteTime": {
     "end_time": "2023-07-17T14:04:48.562240800Z",
     "start_time": "2023-07-17T14:04:48.385094300Z"
    },
    "id": "NYVwo3qy5UV3"
   },
   "outputs": [
    {
     "data": {
      "text/plain": [
       "Los Angeles     35\n",
       "Phoenix         28\n",
       "Houston         24\n",
       "Chicago         22\n",
       "Austin          18\n",
       "Las Vegas       17\n",
       "Columbus        16\n",
       "San Antonio     15\n",
       "Miami           15\n",
       "Indianapolis    14\n",
       "Name: city, dtype: int64"
      ]
     },
     "execution_count": 95,
     "metadata": {},
     "output_type": "execute_result"
    }
   ],
   "source": [
    "top_10_cities = df_fatalities['city'].value_counts().sort_values(ascending=False)[:10]\n",
    "top_10_cities"
   ]
  },
  {
   "cell_type": "code",
   "execution_count": 57,
   "metadata": {
    "ExecuteTime": {
     "end_time": "2023-07-17T14:04:48.686144300Z",
     "start_time": "2023-07-17T14:04:48.398144Z"
    },
    "id": "T_FU4GFk5Upa"
   },
   "outputs": [
    {
     "data": {
      "text/plain": [
       "<AxesSubplot:title={'center':'Top 10 Cities with the most police killings'}>"
      ]
     },
     "execution_count": 57,
     "metadata": {},
     "output_type": "execute_result"
    },
    {
     "data": {
      "image/png": "[encoded data removed]",
      "text/plain": [
       "<Figure size 640x480 with 1 Axes>"
      ]
     },
     "metadata": {},
     "output_type": "display_data"
    }
   ],
   "source": [
    "plt.title('Top 10 Cities with the most police killings')\n",
    "top_10_cities.plot(kind='bar')"
   ]
  },
  {
   "cell_type": "markdown",
   "metadata": {
    "id": "AqcOW6ca8JMD"
   },
   "source": [
    "# Rate of Death by Race\n",
    "\n",
    "Find the share of each race in the top 10 cities. Contrast this with the top 10 cities of police killings to work out the rate at which people are killed by race for each city. "
   ]
  },
  {
   "cell_type": "code",
   "execution_count": 96,
   "metadata": {
    "ExecuteTime": {
     "end_time": "2023-07-17T14:04:48.737294400Z",
     "start_time": "2023-07-17T14:04:48.675901Z"
    },
    "id": "FkjAUlKy8I2g"
   },
   "outputs": [
    {
     "data": {
      "text/html": [
       "<div>\n",
       "<style scoped>\n",
       "    .dataframe tbody tr th:only-of-type {\n",
       "        vertical-align: middle;\n",
       "    }\n",
       "\n",
       "    .dataframe tbody tr th {\n",
       "        vertical-align: top;\n",
       "    }\n",
       "\n",
       "    .dataframe thead th {\n",
       "        text-align: right;\n",
       "    }\n",
       "</style>\n",
       "<table border=\"1\" class=\"dataframe\">\n",
       "  <thead>\n",
       "    <tr style=\"text-align: right;\">\n",
       "      <th>race</th>\n",
       "      <th>Asian</th>\n",
       "      <th>Black</th>\n",
       "      <th>Hispanic</th>\n",
       "      <th>Native American</th>\n",
       "      <th>Others</th>\n",
       "      <th>White</th>\n",
       "    </tr>\n",
       "    <tr>\n",
       "      <th>city</th>\n",
       "      <th></th>\n",
       "      <th></th>\n",
       "      <th></th>\n",
       "      <th></th>\n",
       "      <th></th>\n",
       "      <th></th>\n",
       "    </tr>\n",
       "  </thead>\n",
       "  <tbody>\n",
       "    <tr>\n",
       "      <th>Austin</th>\n",
       "      <td>0.00</td>\n",
       "      <td>3.00</td>\n",
       "      <td>2.00</td>\n",
       "      <td>0.00</td>\n",
       "      <td>0.00</td>\n",
       "      <td>13.00</td>\n",
       "    </tr>\n",
       "    <tr>\n",
       "      <th>Chicago</th>\n",
       "      <td>0.00</td>\n",
       "      <td>19.00</td>\n",
       "      <td>1.00</td>\n",
       "      <td>0.00</td>\n",
       "      <td>0.00</td>\n",
       "      <td>2.00</td>\n",
       "    </tr>\n",
       "    <tr>\n",
       "      <th>Columbus</th>\n",
       "      <td>0.00</td>\n",
       "      <td>9.00</td>\n",
       "      <td>0.00</td>\n",
       "      <td>0.00</td>\n",
       "      <td>1.00</td>\n",
       "      <td>6.00</td>\n",
       "    </tr>\n",
       "    <tr>\n",
       "      <th>Houston</th>\n",
       "      <td>1.00</td>\n",
       "      <td>14.00</td>\n",
       "      <td>5.00</td>\n",
       "      <td>1.00</td>\n",
       "      <td>0.00</td>\n",
       "      <td>3.00</td>\n",
       "    </tr>\n",
       "    <tr>\n",
       "      <th>Indianapolis</th>\n",
       "      <td>0.00</td>\n",
       "      <td>9.00</td>\n",
       "      <td>0.00</td>\n",
       "      <td>0.00</td>\n",
       "      <td>0.00</td>\n",
       "      <td>5.00</td>\n",
       "    </tr>\n",
       "    <tr>\n",
       "      <th>Las Vegas</th>\n",
       "      <td>0.00</td>\n",
       "      <td>3.00</td>\n",
       "      <td>5.00</td>\n",
       "      <td>0.00</td>\n",
       "      <td>0.00</td>\n",
       "      <td>9.00</td>\n",
       "    </tr>\n",
       "    <tr>\n",
       "      <th>Los Angeles</th>\n",
       "      <td>1.00</td>\n",
       "      <td>10.00</td>\n",
       "      <td>18.00</td>\n",
       "      <td>0.00</td>\n",
       "      <td>0.00</td>\n",
       "      <td>6.00</td>\n",
       "    </tr>\n",
       "    <tr>\n",
       "      <th>Miami</th>\n",
       "      <td>0.00</td>\n",
       "      <td>7.00</td>\n",
       "      <td>6.00</td>\n",
       "      <td>0.00</td>\n",
       "      <td>0.00</td>\n",
       "      <td>2.00</td>\n",
       "    </tr>\n",
       "    <tr>\n",
       "      <th>Phoenix</th>\n",
       "      <td>0.00</td>\n",
       "      <td>2.00</td>\n",
       "      <td>11.00</td>\n",
       "      <td>3.00</td>\n",
       "      <td>0.00</td>\n",
       "      <td>12.00</td>\n",
       "    </tr>\n",
       "    <tr>\n",
       "      <th>San Antonio</th>\n",
       "      <td>0.00</td>\n",
       "      <td>2.00</td>\n",
       "      <td>11.00</td>\n",
       "      <td>0.00</td>\n",
       "      <td>0.00</td>\n",
       "      <td>2.00</td>\n",
       "    </tr>\n",
       "  </tbody>\n",
       "</table>\n",
       "</div>"
      ],
      "text/plain": [
       "race          Asian  Black  Hispanic  Native American  Others  White\n",
       "city                                                                \n",
       "Austin         0.00   3.00      2.00             0.00    0.00  13.00\n",
       "Chicago        0.00  19.00      1.00             0.00    0.00   2.00\n",
       "Columbus       0.00   9.00      0.00             0.00    1.00   6.00\n",
       "Houston        1.00  14.00      5.00             1.00    0.00   3.00\n",
       "Indianapolis   0.00   9.00      0.00             0.00    0.00   5.00\n",
       "Las Vegas      0.00   3.00      5.00             0.00    0.00   9.00\n",
       "Los Angeles    1.00  10.00     18.00             0.00    0.00   6.00\n",
       "Miami          0.00   7.00      6.00             0.00    0.00   2.00\n",
       "Phoenix        0.00   2.00     11.00             3.00    0.00  12.00\n",
       "San Antonio    0.00   2.00     11.00             0.00    0.00   2.00"
      ]
     },
     "execution_count": 96,
     "metadata": {},
     "output_type": "execute_result"
    }
   ],
   "source": [
    "top_10_cities_by_race = df_fatalities[df_fatalities['city'].isin(top_10_cities.index.tolist())].groupby(['city','race'])['name'].count().unstack(level=1)\n",
    "top_10_cities_by_race.fillna(0, inplace=True)\n",
    "top_10_cities_by_race.rename({'W':'White','B':'Black','H':'Hispanic','A':'Asian','N':'Native American','O':'Others'},axis=1, inplace=True)\n",
    "top_10_cities_by_race"
   ]
  },
  {
   "cell_type": "code",
   "execution_count": 97,
   "metadata": {
    "ExecuteTime": {
     "end_time": "2023-07-17T14:04:49.136933Z",
     "start_time": "2023-07-17T14:04:48.690204900Z"
    },
    "id": "dA3Hs9b55V59"
   },
   "outputs": [
    {
     "data": {
      "text/plain": [
       "<AxesSubplot:title={'center':'Rate of Death by Race on Top 10 Cities'}, xlabel='city'>"
      ]
     },
     "execution_count": 97,
     "metadata": {},
     "output_type": "execute_result"
    },
    {
     "data": {
      "image/png": "[encoded data removed]",
      "text/plain": [
       "<Figure size 1600x1000 with 1 Axes>"
      ]
     },
     "metadata": {},
     "output_type": "display_data"
    }
   ],
   "source": [
    "top_10_cities_by_race.plot(\n",
    "    kind='bar',\n",
    "    stacked=True,\n",
    "    figsize=(16,10),\n",
    "    title='Rate of Death by Race on Top 10 Cities',\n",
    "    rot=0\n",
    ")"
   ]
  },
  {
   "cell_type": "markdown",
   "metadata": {
    "id": "1HUJksrI5WFb"
   },
   "source": [
    "# Create a Choropleth Map of Police Killings by US State\n",
    "\n",
    "Which states are the most dangerous? Compare your map with your previous chart. Are these the same states with high degrees of poverty? "
   ]
  },
  {
   "cell_type": "code",
   "execution_count": 98,
   "metadata": {
    "ExecuteTime": {
     "end_time": "2023-07-17T14:04:49.136933Z",
     "start_time": "2023-07-17T14:04:49.108393800Z"
    },
    "id": "u3UuX4Yo5dBA"
   },
   "outputs": [],
   "source": [
    "death_by_state = df_fatalities['state'].value_counts().sort_index()"
   ]
  },
  {
   "cell_type": "code",
   "execution_count": 99,
   "metadata": {
    "ExecuteTime": {
     "end_time": "2023-07-17T14:04:49.460964100Z",
     "start_time": "2023-07-17T14:04:49.133251100Z"
    },
    "id": "Y6VLPDeN5dKO"
   },
   "outputs": [
    {
     "data": {
      "application/vnd.plotly.v1+json": {
       "config": {
        "plotlyServerURL": "https://plot.ly"
       },
       "data": [
        {
         "coloraxis": "coloraxis",
         "geo": "geo",
         "hovertemplate": "index=%{location}<br>color=%{z}<extra></extra>",
         "locationmode": "USA-states",
         "locations": [
          "AK",
          "AL",
          "AR",
          "AZ",
          "CA",
          "CO",
          "CT",
          "DC",
          "DE",
          "FL",
          "GA",
          "HI",
          "IA",
          "ID",
          "IL",
          "IN",
          "KS",
          "KY",
          "LA",
          "MA",
          "MD",
          "ME",
          "MI",
          "MN",
          "MO",
          "MS",
          "MT",
          "NC",
          "ND",
          "NE",
          "NH",
          "NJ",
          "NM",
          "NV",
          "NY",
          "OH",
          "OK",
          "OR",
          "PA",
          "RI",
          "SC",
          "SD",
          "TN",
          "TX",
          "UT",
          "VA",
          "VT",
          "WA",
          "WI",
          "WV",
          "WY"
         ],
         "name": "",
         "type": "choropleth",
         "z": [
          14,
          45,
          20,
          105,
          366,
          63,
          7,
          11,
          8,
          136,
          61,
          11,
          12,
          14,
          56,
          40,
          24,
          40,
          47,
          22,
          36,
          10,
          36,
          31,
          58,
          22,
          11,
          66,
          4,
          14,
          7,
          30,
          41,
          34,
          43,
          70,
          65,
          32,
          45,
          2,
          41,
          9,
          56,
          200,
          22,
          43,
          3,
          51,
          42,
          21,
          7
         ]
        }
       ],
       "layout": {
        "coloraxis": {
         "colorbar": {
          "title": {
           "text": "color"
          }
         },
         "colorscale": [
          [
           0,
           "#0d0887"
          ],
          [
           0.1111111111111111,
           "#46039f"
          ],
          [
           0.2222222222222222,
           "#7201a8"
          ],
          [
           0.3333333333333333,
           "#9c179e"
          ],
          [
           0.4444444444444444,
           "#bd3786"
          ],
          [
           0.5555555555555556,
           "#d8576b"
          ],
          [
           0.6666666666666666,
           "#ed7953"
          ],
          [
           0.7777777777777778,
           "#fb9f3a"
          ],
          [
           0.8888888888888888,
           "#fdca26"
          ],
          [
           1,
           "#f0f921"
          ]
         ]
        },
        "geo": {
         "center": {},
         "domain": {
          "x": [
           0,
           1
          ],
          "y": [
           0,
           1
          ]
         },
         "scope": "usa"
        },
        "legend": {
         "tracegroupgap": 0
        },
        "template": {
         "data": {
          "bar": [
           {
            "error_x": {
             "color": "#2a3f5f"
            },
            "error_y": {
             "color": "#2a3f5f"
            },
            "marker": {
             "line": {
              "color": "#E5ECF6",
              "width": 0.5
             },
             "pattern": {
              "fillmode": "overlay",
              "size": 10,
              "solidity": 0.2
             }
            },
            "type": "bar"
           }
          ],
          "barpolar": [
           {
            "marker": {
             "line": {
              "color": "#E5ECF6",
              "width": 0.5
             },
             "pattern": {
              "fillmode": "overlay",
              "size": 10,
              "solidity": 0.2
             }
            },
            "type": "barpolar"
           }
          ],
          "carpet": [
           {
            "aaxis": {
             "endlinecolor": "#2a3f5f",
             "gridcolor": "white",
             "linecolor": "white",
             "minorgridcolor": "white",
             "startlinecolor": "#2a3f5f"
            },
            "baxis": {
             "endlinecolor": "#2a3f5f",
             "gridcolor": "white",
             "linecolor": "white",
             "minorgridcolor": "white",
             "startlinecolor": "#2a3f5f"
            },
            "type": "carpet"
           }
          ],
          "choropleth": [
           {
            "colorbar": {
             "outlinewidth": 0,
             "ticks": ""
            },
            "type": "choropleth"
           }
          ],
          "contour": [
           {
            "colorbar": {
             "outlinewidth": 0,
             "ticks": ""
            },
            "colorscale": [
             [
              0,
              "#0d0887"
             ],
             [
              0.1111111111111111,
              "#46039f"
             ],
             [
              0.2222222222222222,
              "#7201a8"
             ],
             [
              0.3333333333333333,
              "#9c179e"
             ],
             [
              0.4444444444444444,
              "#bd3786"
             ],
             [
              0.5555555555555556,
              "#d8576b"
             ],
             [
              0.6666666666666666,
              "#ed7953"
             ],
             [
              0.7777777777777778,
              "#fb9f3a"
             ],
             [
              0.8888888888888888,
              "#fdca26"
             ],
             [
              1,
              "#f0f921"
             ]
            ],
            "type": "contour"
           }
          ],
          "contourcarpet": [
           {
            "colorbar": {
             "outlinewidth": 0,
             "ticks": ""
            },
            "type": "contourcarpet"
           }
          ],
          "heatmap": [
           {
            "colorbar": {
             "outlinewidth": 0,
             "ticks": ""
            },
            "colorscale": [
             [
              0,
              "#0d0887"
             ],
             [
              0.1111111111111111,
              "#46039f"
             ],
             [
              0.2222222222222222,
              "#7201a8"
             ],
             [
              0.3333333333333333,
              "#9c179e"
             ],
             [
              0.4444444444444444,
              "#bd3786"
             ],
             [
              0.5555555555555556,
              "#d8576b"
             ],
             [
              0.6666666666666666,
              "#ed7953"
             ],
             [
              0.7777777777777778,
              "#fb9f3a"
             ],
             [
              0.8888888888888888,
              "#fdca26"
             ],
             [
              1,
              "#f0f921"
             ]
            ],
            "type": "heatmap"
           }
          ],
          "heatmapgl": [
           {
            "colorbar": {
             "outlinewidth": 0,
             "ticks": ""
            },
            "colorscale": [
             [
              0,
              "#0d0887"
             ],
             [
              0.1111111111111111,
              "#46039f"
             ],
             [
              0.2222222222222222,
              "#7201a8"
             ],
             [
              0.3333333333333333,
              "#9c179e"
             ],
             [
              0.4444444444444444,
              "#bd3786"
             ],
             [
              0.5555555555555556,
              "#d8576b"
             ],
             [
              0.6666666666666666,
              "#ed7953"
             ],
             [
              0.7777777777777778,
              "#fb9f3a"
             ],
             [
              0.8888888888888888,
              "#fdca26"
             ],
             [
              1,
              "#f0f921"
             ]
            ],
            "type": "heatmapgl"
           }
          ],
          "histogram": [
           {
            "marker": {
             "pattern": {
              "fillmode": "overlay",
              "size": 10,
              "solidity": 0.2
             }
            },
            "type": "histogram"
           }
          ],
          "histogram2d": [
           {
            "colorbar": {
             "outlinewidth": 0,
             "ticks": ""
            },
            "colorscale": [
             [
              0,
              "#0d0887"
             ],
             [
              0.1111111111111111,
              "#46039f"
             ],
             [
              0.2222222222222222,
              "#7201a8"
             ],
             [
              0.3333333333333333,
              "#9c179e"
             ],
             [
              0.4444444444444444,
              "#bd3786"
             ],
             [
              0.5555555555555556,
              "#d8576b"
             ],
             [
              0.6666666666666666,
              "#ed7953"
             ],
             [
              0.7777777777777778,
              "#fb9f3a"
             ],
             [
              0.8888888888888888,
              "#fdca26"
             ],
             [
              1,
              "#f0f921"
             ]
            ],
            "type": "histogram2d"
           }
          ],
          "histogram2dcontour": [
           {
            "colorbar": {
             "outlinewidth": 0,
             "ticks": ""
            },
            "colorscale": [
             [
              0,
              "#0d0887"
             ],
             [
              0.1111111111111111,
              "#46039f"
             ],
             [
              0.2222222222222222,
              "#7201a8"
             ],
             [
              0.3333333333333333,
              "#9c179e"
             ],
             [
              0.4444444444444444,
              "#bd3786"
             ],
             [
              0.5555555555555556,
              "#d8576b"
             ],
             [
              0.6666666666666666,
              "#ed7953"
             ],
             [
              0.7777777777777778,
              "#fb9f3a"
             ],
             [
              0.8888888888888888,
              "#fdca26"
             ],
             [
              1,
              "#f0f921"
             ]
            ],
            "type": "histogram2dcontour"
           }
          ],
          "mesh3d": [
           {
            "colorbar": {
             "outlinewidth": 0,
             "ticks": ""
            },
            "type": "mesh3d"
           }
          ],
          "parcoords": [
           {
            "line": {
             "colorbar": {
              "outlinewidth": 0,
              "ticks": ""
             }
            },
            "type": "parcoords"
           }
          ],
          "pie": [
           {
            "automargin": true,
            "type": "pie"
           }
          ],
          "scatter": [
           {
            "fillpattern": {
             "fillmode": "overlay",
             "size": 10,
             "solidity": 0.2
            },
            "type": "scatter"
           }
          ],
          "scatter3d": [
           {
            "line": {
             "colorbar": {
              "outlinewidth": 0,
              "ticks": ""
             }
            },
            "marker": {
             "colorbar": {
              "outlinewidth": 0,
              "ticks": ""
             }
            },
            "type": "scatter3d"
           }
          ],
          "scattercarpet": [
           {
            "marker": {
             "colorbar": {
              "outlinewidth": 0,
              "ticks": ""
             }
            },
            "type": "scattercarpet"
           }
          ],
          "scattergeo": [
           {
            "marker": {
             "colorbar": {
              "outlinewidth": 0,
              "ticks": ""
             }
            },
            "type": "scattergeo"
           }
          ],
          "scattergl": [
           {
            "marker": {
             "colorbar": {
              "outlinewidth": 0,
              "ticks": ""
             }
            },
            "type": "scattergl"
           }
          ],
          "scattermapbox": [
           {
            "marker": {
             "colorbar": {
              "outlinewidth": 0,
              "ticks": ""
             }
            },
            "type": "scattermapbox"
           }
          ],
          "scatterpolar": [
           {
            "marker": {
             "colorbar": {
              "outlinewidth": 0,
              "ticks": ""
             }
            },
            "type": "scatterpolar"
           }
          ],
          "scatterpolargl": [
           {
            "marker": {
             "colorbar": {
              "outlinewidth": 0,
              "ticks": ""
             }
            },
            "type": "scatterpolargl"
           }
          ],
          "scatterternary": [
           {
            "marker": {
             "colorbar": {
              "outlinewidth": 0,
              "ticks": ""
             }
            },
            "type": "scatterternary"
           }
          ],
          "surface": [
           {
            "colorbar": {
             "outlinewidth": 0,
             "ticks": ""
            },
            "colorscale": [
             [
              0,
              "#0d0887"
             ],
             [
              0.1111111111111111,
              "#46039f"
             ],
             [
              0.2222222222222222,
              "#7201a8"
             ],
             [
              0.3333333333333333,
              "#9c179e"
             ],
             [
              0.4444444444444444,
              "#bd3786"
             ],
             [
              0.5555555555555556,
              "#d8576b"
             ],
             [
              0.6666666666666666,
              "#ed7953"
             ],
             [
              0.7777777777777778,
              "#fb9f3a"
             ],
             [
              0.8888888888888888,
              "#fdca26"
             ],
             [
              1,
              "#f0f921"
             ]
            ],
            "type": "surface"
           }
          ],
          "table": [
           {
            "cells": {
             "fill": {
              "color": "#EBF0F8"
             },
             "line": {
              "color": "white"
             }
            },
            "header": {
             "fill": {
              "color": "#C8D4E3"
             },
             "line": {
              "color": "white"
             }
            },
            "type": "table"
           }
          ]
         },
         "layout": {
          "annotationdefaults": {
           "arrowcolor": "#2a3f5f",
           "arrowhead": 0,
           "arrowwidth": 1
          },
          "autotypenumbers": "strict",
          "coloraxis": {
           "colorbar": {
            "outlinewidth": 0,
            "ticks": ""
           }
          },
          "colorscale": {
           "diverging": [
            [
             0,
             "#8e0152"
            ],
            [
             0.1,
             "#c51b7d"
            ],
            [
             0.2,
             "#de77ae"
            ],
            [
             0.3,
             "#f1b6da"
            ],
            [
             0.4,
             "#fde0ef"
            ],
            [
             0.5,
             "#f7f7f7"
            ],
            [
             0.6,
             "#e6f5d0"
            ],
            [
             0.7,
             "#b8e186"
            ],
            [
             0.8,
             "#7fbc41"
            ],
            [
             0.9,
             "#4d9221"
            ],
            [
             1,
             "#276419"
            ]
           ],
           "sequential": [
            [
             0,
             "#0d0887"
            ],
            [
             0.1111111111111111,
             "#46039f"
            ],
            [
             0.2222222222222222,
             "#7201a8"
            ],
            [
             0.3333333333333333,
             "#9c179e"
            ],
            [
             0.4444444444444444,
             "#bd3786"
            ],
            [
             0.5555555555555556,
             "#d8576b"
            ],
            [
             0.6666666666666666,
             "#ed7953"
            ],
            [
             0.7777777777777778,
             "#fb9f3a"
            ],
            [
             0.8888888888888888,
             "#fdca26"
            ],
            [
             1,
             "#f0f921"
            ]
           ],
           "sequentialminus": [
            [
             0,
             "#0d0887"
            ],
            [
             0.1111111111111111,
             "#46039f"
            ],
            [
             0.2222222222222222,
             "#7201a8"
            ],
            [
             0.3333333333333333,
             "#9c179e"
            ],
            [
             0.4444444444444444,
             "#bd3786"
            ],
            [
             0.5555555555555556,
             "#d8576b"
            ],
            [
             0.6666666666666666,
             "#ed7953"
            ],
            [
             0.7777777777777778,
             "#fb9f3a"
            ],
            [
             0.8888888888888888,
             "#fdca26"
            ],
            [
             1,
             "#f0f921"
            ]
           ]
          },
          "colorway": [
           "#636efa",
           "#EF553B",
           "#00cc96",
           "#ab63fa",
           "#FFA15A",
           "#19d3f3",
           "#FF6692",
           "#B6E880",
           "#FF97FF",
           "#FECB52"
          ],
          "font": {
           "color": "#2a3f5f"
          },
          "geo": {
           "bgcolor": "white",
           "lakecolor": "white",
           "landcolor": "#E5ECF6",
           "showlakes": true,
           "showland": true,
           "subunitcolor": "white"
          },
          "hoverlabel": {
           "align": "left"
          },
          "hovermode": "closest",
          "mapbox": {
           "style": "light"
          },
          "paper_bgcolor": "white",
          "plot_bgcolor": "#E5ECF6",
          "polar": {
           "angularaxis": {
            "gridcolor": "white",
            "linecolor": "white",
            "ticks": ""
           },
           "bgcolor": "#E5ECF6",
           "radialaxis": {
            "gridcolor": "white",
            "linecolor": "white",
            "ticks": ""
           }
          },
          "scene": {
           "xaxis": {
            "backgroundcolor": "#E5ECF6",
            "gridcolor": "white",
            "gridwidth": 2,
            "linecolor": "white",
            "showbackground": true,
            "ticks": "",
            "zerolinecolor": "white"
           },
           "yaxis": {
            "backgroundcolor": "#E5ECF6",
            "gridcolor": "white",
            "gridwidth": 2,
            "linecolor": "white",
            "showbackground": true,
            "ticks": "",
            "zerolinecolor": "white"
           },
           "zaxis": {
            "backgroundcolor": "#E5ECF6",
            "gridcolor": "white",
            "gridwidth": 2,
            "linecolor": "white",
            "showbackground": true,
            "ticks": "",
            "zerolinecolor": "white"
           }
          },
          "shapedefaults": {
           "line": {
            "color": "#2a3f5f"
           }
          },
          "ternary": {
           "aaxis": {
            "gridcolor": "white",
            "linecolor": "white",
            "ticks": ""
           },
           "baxis": {
            "gridcolor": "white",
            "linecolor": "white",
            "ticks": ""
           },
           "bgcolor": "#E5ECF6",
           "caxis": {
            "gridcolor": "white",
            "linecolor": "white",
            "ticks": ""
           }
          },
          "title": {
           "x": 0.05
          },
          "xaxis": {
           "automargin": true,
           "gridcolor": "white",
           "linecolor": "white",
           "ticks": "",
           "title": {
            "standoff": 15
           },
           "zerolinecolor": "white",
           "zerolinewidth": 2
          },
          "yaxis": {
           "automargin": true,
           "gridcolor": "white",
           "linecolor": "white",
           "ticks": "",
           "title": {
            "standoff": 15
           },
           "zerolinecolor": "white",
           "zerolinewidth": 2
          }
         }
        },
        "title": {
         "text": "Police Killings b"
        }
       }
      }
     },
     "metadata": {},
     "output_type": "display_data"
    }
   ],
   "source": [
    "px.choropleth(\n",
    "    data_frame = death_by_state,\n",
    "    locations = death_by_state.index,\n",
    "    color = death_by_state.values,\n",
    "    locationmode=\"USA-states\",\n",
    "    scope='usa',\n",
    "    title = 'Police Killings b'\n",
    ")"
   ]
  },
  {
   "cell_type": "markdown",
   "metadata": {
    "id": "37UsmVYF6hA2"
   },
   "source": [
    "# Number of Police Killings Over Time\n",
    "\n",
    "Analyse the Number of Police Killings over Time. Is there a trend in the data? "
   ]
  },
  {
   "cell_type": "code",
   "execution_count": 100,
   "metadata": {
    "ExecuteTime": {
     "end_time": "2023-07-17T14:04:49.475125300Z",
     "start_time": "2023-07-17T14:04:49.460964100Z"
    },
    "id": "nITf1IhP6gpI"
   },
   "outputs": [
    {
     "data": {
      "text/plain": [
       "2015-01-03    3\n",
       "2015-01-04    2\n",
       "2015-01-06    1\n",
       "2015-01-07    2\n",
       "2015-01-08    1\n",
       "             ..\n",
       "2017-12-02    2\n",
       "2017-12-03    2\n",
       "2017-12-04    1\n",
       "2017-12-05    3\n",
       "2017-12-06    4\n",
       "Name: date, Length: 846, dtype: int64"
      ]
     },
     "execution_count": 100,
     "metadata": {},
     "output_type": "execute_result"
    }
   ],
   "source": [
    "fatality_by_date = df_fatalities['date'].value_counts().sort_index()\n",
    "fatality_by_date"
   ]
  },
  {
   "cell_type": "code",
   "execution_count": 101,
   "metadata": {
    "ExecuteTime": {
     "end_time": "2023-07-17T14:04:50.018135700Z",
     "start_time": "2023-07-17T14:04:49.476137800Z"
    },
    "id": "Q_vxjD_A7JRh"
   },
   "outputs": [
    {
     "data": {
      "text/plain": [
       "<AxesSubplot:title={'center':'Number of Police Killings over time'}>"
      ]
     },
     "execution_count": 101,
     "metadata": {},
     "output_type": "execute_result"
    },
    {
     "data": {
      "image/png": "[encoded data removed]",
      "text/plain": [
       "<Figure size 1600x1000 with 1 Axes>"
      ]
     },
     "metadata": {},
     "output_type": "display_data"
    }
   ],
   "source": [
    "fatality_by_date.rolling(90).mean().plot(\n",
    "    title='Number of Police Killings over time',\n",
    "    figsize = (16,10)\n",
    ")"
   ]
  },
  {
   "cell_type": "markdown",
   "metadata": {
    "collapsed": false
   },
   "source": [
    "In time police killing seems to have decreased"
   ]
  }
 ],
 "metadata": {
  "colab": {
   "name": "Fatal Force (start).ipynb",
   "provenance": []
  },
  "kernelspec": {
   "display_name": "Python 3.7.4 ('.venv': venv)",
   "language": "python",
   "name": "python3"
  },
  "language_info": {
   "codemirror_mode": {
    "name": "ipython",
    "version": 3
   },
   "file_extension": ".py",
   "mimetype": "text/x-python",
   "name": "python",
   "nbconvert_exporter": "python",
   "pygments_lexer": "ipython3",
   "version": "3.7.4"
  },
  "vscode": {
   "interpreter": {
    "hash": "95c13dd60fcaa3dc93ae171823f95b69bd10ddb7bfdbc108e123fecee0de7c50"
   }
  }
 },
 "nbformat": 4,
 "nbformat_minor": 0
}
